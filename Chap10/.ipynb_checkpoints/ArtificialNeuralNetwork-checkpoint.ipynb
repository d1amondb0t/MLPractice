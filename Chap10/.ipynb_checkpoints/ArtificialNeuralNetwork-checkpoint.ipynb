{
 "cells": [
  {
   "cell_type": "markdown",
   "id": "2daee212",
   "metadata": {},
   "source": [
    "# Setup"
   ]
  },
  {
   "cell_type": "code",
   "execution_count": 1,
   "id": "7b714614",
   "metadata": {},
   "outputs": [],
   "source": [
    "# Python ≥3.5 is required\n",
    "import sys\n",
    "assert sys.version_info >= (3, 5)\n",
    "\n",
    "# Scikit-Learn ≥0.20 is required\n",
    "import sklearn\n",
    "assert sklearn.__version__ >= \"0.20\"\n",
    "\n",
    "try:\n",
    "    # %tensorflow_version only exists in Colab.\n",
    "    %tensorflow_version 2.x\n",
    "except Exception:\n",
    "    pass\n",
    "\n",
    "# TensorFlow ≥2.0 is required\n",
    "import tensorflow as tf\n",
    "assert tf.__version__ >= \"2.0\"\n",
    "\n",
    "# Common imports\n",
    "import numpy as np\n",
    "import os\n",
    "\n",
    "# to make this notebook's output stable across runs\n",
    "np.random.seed(42)\n",
    "\n",
    "# To plot pretty figures\n",
    "%matplotlib inline\n",
    "import matplotlib as mpl\n",
    "import matplotlib.pyplot as plt\n",
    "mpl.rc('axes', labelsize=14)\n",
    "mpl.rc('xtick', labelsize=12)\n",
    "mpl.rc('ytick', labelsize=12)\n",
    "\n",
    "# Where to save the figures\n",
    "PROJECT_ROOT_DIR = \".\"\n",
    "CHAPTER_ID = \"ann\"\n",
    "IMAGES_PATH = os.path.join(PROJECT_ROOT_DIR, \"images\", CHAPTER_ID)\n",
    "os.makedirs(IMAGES_PATH, exist_ok=True)\n",
    "\n",
    "def save_fig(fig_id, tight_layout=True, fig_extension=\"png\", resolution=300):\n",
    "    path = os.path.join(IMAGES_PATH, fig_id + \".\" + fig_extension)\n",
    "    print(\"Saving figure\", fig_id)\n",
    "    if tight_layout:\n",
    "        plt.tight_layout()\n",
    "    plt.savefig(path, format=fig_extension, dpi=resolution)"
   ]
  },
  {
   "cell_type": "markdown",
   "id": "dd62a818",
   "metadata": {},
   "source": [
    "## Perceptrons"
   ]
  },
  {
   "cell_type": "code",
   "execution_count": 2,
   "id": "16e3abc8",
   "metadata": {},
   "outputs": [],
   "source": [
    "from sklearn.datasets import load_iris\n",
    "from sklearn.linear_model import Perceptron\n",
    "\n",
    "iris = load_iris()\n",
    "X = iris.data[:, (2,3)]#petal length,petal width\n",
    "y = (iris.target == 0).astype(np.int)#iris setosa\n",
    "\n",
    "per_clf = Perceptron()\n",
    "per_clf.fit(X,y)\n",
    "\n",
    "y_pred = per_clf.predict([[2, 0.5]])"
   ]
  },
  {
   "cell_type": "code",
   "execution_count": 3,
   "id": "d6d9ee26",
   "metadata": {},
   "outputs": [
    {
     "data": {
      "text/plain": [
       "'2.7.0'"
      ]
     },
     "execution_count": 3,
     "metadata": {},
     "output_type": "execute_result"
    }
   ],
   "source": [
    "import tensorflow as tf\n",
    "from tensorflow import keras\n",
    "\n",
    "tf.__version__"
   ]
  },
  {
   "cell_type": "code",
   "execution_count": 4,
   "id": "8860e715",
   "metadata": {},
   "outputs": [
    {
     "data": {
      "text/plain": [
       "'2.7.0'"
      ]
     },
     "execution_count": 4,
     "metadata": {},
     "output_type": "execute_result"
    }
   ],
   "source": [
    "keras.__version__"
   ]
  },
  {
   "cell_type": "code",
   "execution_count": 5,
   "id": "efd80662",
   "metadata": {},
   "outputs": [],
   "source": [
    "fashion_mnist = keras.datasets.fashion_mnist\n",
    "(X_train_full, y_train_full), (X_test, y_test)= fashion_mnist.load_data()"
   ]
  },
  {
   "cell_type": "code",
   "execution_count": 6,
   "id": "59c70cda",
   "metadata": {},
   "outputs": [
    {
     "data": {
      "text/plain": [
       "(60000, 28, 28)"
      ]
     },
     "execution_count": 6,
     "metadata": {},
     "output_type": "execute_result"
    }
   ],
   "source": [
    "X_train_full.shape"
   ]
  },
  {
   "cell_type": "code",
   "execution_count": 7,
   "id": "78c44c4e",
   "metadata": {},
   "outputs": [
    {
     "data": {
      "text/plain": [
       "dtype('uint8')"
      ]
     },
     "execution_count": 7,
     "metadata": {},
     "output_type": "execute_result"
    }
   ],
   "source": [
    "X_train_full.dtype"
   ]
  },
  {
   "cell_type": "code",
   "execution_count": 8,
   "id": "b08cc2ee",
   "metadata": {},
   "outputs": [],
   "source": [
    "X_valid, X_train = X_train_full[:5000]/255.0, X_train_full[5000:]/255.0\n",
    "y_valid, y_train = y_train_full[:5000], y_train_full[5000:]\n",
    "X_test = X_test/255.0"
   ]
  },
  {
   "cell_type": "code",
   "execution_count": 9,
   "id": "5ddc10c0",
   "metadata": {},
   "outputs": [],
   "source": [
    "class_names=[\"T-shirt/top\", \"Trouser\", \"Pullover\", \"Dress\",\n",
    "             \"Coat\", \"Sandall\", \"Shirt\", \"Sneaker\", \"Bag\", \"Ankle Boot\"]\n"
   ]
  },
  {
   "cell_type": "code",
   "execution_count": 10,
   "id": "4aefd2bc",
   "metadata": {},
   "outputs": [
    {
     "data": {
      "text/plain": [
       "'Coat'"
      ]
     },
     "execution_count": 10,
     "metadata": {},
     "output_type": "execute_result"
    }
   ],
   "source": [
    "class_names[y_train[0]]"
   ]
  },
  {
   "cell_type": "code",
   "execution_count": 11,
   "id": "234be228",
   "metadata": {},
   "outputs": [],
   "source": [
    "model = keras.models.Sequential()\n",
    "model.add(keras.layers.Flatten(input_shape=[28,28]))\n",
    "model.add(keras.layers.Dense(300, activation=\"relu\"))\n",
    "model.add(keras.layers.Dense(100, activation=\"relu\"))\n",
    "model.add(keras.layers.Dense(10, activation=\"softmax\"))"
   ]
  },
  {
   "cell_type": "code",
   "execution_count": 12,
   "id": "426ca6c1",
   "metadata": {},
   "outputs": [],
   "source": [
    "model = keras.models.Sequential([\n",
    "    keras.layers.Flatten(input_shape=[28,28]),\n",
    "    keras.layers.Dense(300, activation=\"relu\"),\n",
    "    keras.layers.Dense(100, activation=\"relu\"),\n",
    "    keras.layers.Dense(10, activation=\"softmax\")\n",
    "])"
   ]
  },
  {
   "cell_type": "code",
   "execution_count": 13,
   "id": "cfd9b36b",
   "metadata": {},
   "outputs": [
    {
     "name": "stdout",
     "output_type": "stream",
     "text": [
      "Model: \"sequential_1\"\n",
      "_________________________________________________________________\n",
      " Layer (type)                Output Shape              Param #   \n",
      "=================================================================\n",
      " flatten_1 (Flatten)         (None, 784)               0         \n",
      "                                                                 \n",
      " dense_3 (Dense)             (None, 300)               235500    \n",
      "                                                                 \n",
      " dense_4 (Dense)             (None, 100)               30100     \n",
      "                                                                 \n",
      " dense_5 (Dense)             (None, 10)                1010      \n",
      "                                                                 \n",
      "=================================================================\n",
      "Total params: 266,610\n",
      "Trainable params: 266,610\n",
      "Non-trainable params: 0\n",
      "_________________________________________________________________\n"
     ]
    }
   ],
   "source": [
    "model.summary()"
   ]
  },
  {
   "cell_type": "code",
   "execution_count": 14,
   "id": "9c60acbd",
   "metadata": {},
   "outputs": [
    {
     "data": {
      "text/plain": [
       "[<keras.layers.core.flatten.Flatten at 0x29d20eb76a0>,\n",
       " <keras.layers.core.dense.Dense at 0x29d20eb7580>,\n",
       " <keras.layers.core.dense.Dense at 0x29d20eb1640>,\n",
       " <keras.layers.core.dense.Dense at 0x29d1b088c70>]"
      ]
     },
     "execution_count": 14,
     "metadata": {},
     "output_type": "execute_result"
    }
   ],
   "source": [
    "model.layers"
   ]
  },
  {
   "cell_type": "code",
   "execution_count": 15,
   "id": "a9c857f9",
   "metadata": {},
   "outputs": [],
   "source": [
    "hidden1 = model.layers[1]"
   ]
  },
  {
   "cell_type": "code",
   "execution_count": 16,
   "id": "6889490c",
   "metadata": {},
   "outputs": [
    {
     "data": {
      "text/plain": [
       "'dense_3'"
      ]
     },
     "execution_count": 16,
     "metadata": {},
     "output_type": "execute_result"
    }
   ],
   "source": [
    "hidden1.name"
   ]
  },
  {
   "cell_type": "code",
   "execution_count": 17,
   "id": "88a459ae",
   "metadata": {},
   "outputs": [
    {
     "data": {
      "text/plain": [
       "True"
      ]
     },
     "execution_count": 17,
     "metadata": {},
     "output_type": "execute_result"
    }
   ],
   "source": [
    "model.get_layer(hidden1.name) is hidden1"
   ]
  },
  {
   "cell_type": "code",
   "execution_count": 18,
   "id": "b4075ba8",
   "metadata": {},
   "outputs": [],
   "source": [
    "weights, biases = hidden1.get_weights()"
   ]
  },
  {
   "cell_type": "code",
   "execution_count": 19,
   "id": "3752a831",
   "metadata": {},
   "outputs": [
    {
     "data": {
      "text/plain": [
       "array([[-0.04008056,  0.02959125, -0.06431875, ...,  0.06243376,\n",
       "        -0.04704412,  0.07414126],\n",
       "       [ 0.02015518,  0.0302932 , -0.03449516, ...,  0.00201695,\n",
       "        -0.05476402, -0.03841583],\n",
       "       [-0.05091793, -0.01616798,  0.00444295, ..., -0.02233121,\n",
       "         0.04462135,  0.06587856],\n",
       "       ...,\n",
       "       [ 0.05353534, -0.04193216,  0.07330872, ...,  0.02799427,\n",
       "         0.00228148,  0.01203382],\n",
       "       [-0.0584253 ,  0.01497208,  0.0402849 , ..., -0.0218798 ,\n",
       "        -0.05822777, -0.0164887 ],\n",
       "       [ 0.05155964, -0.06654186, -0.04122565, ...,  0.03166872,\n",
       "        -0.0193195 , -0.04880189]], dtype=float32)"
      ]
     },
     "execution_count": 19,
     "metadata": {},
     "output_type": "execute_result"
    }
   ],
   "source": [
    "weights"
   ]
  },
  {
   "cell_type": "code",
   "execution_count": 20,
   "id": "d7d33a14",
   "metadata": {},
   "outputs": [
    {
     "data": {
      "text/plain": [
       "(784, 300)"
      ]
     },
     "execution_count": 20,
     "metadata": {},
     "output_type": "execute_result"
    }
   ],
   "source": [
    "weights.shape"
   ]
  },
  {
   "cell_type": "code",
   "execution_count": 21,
   "id": "fc1b1682",
   "metadata": {},
   "outputs": [
    {
     "data": {
      "text/plain": [
       "array([0., 0., 0., 0., 0., 0., 0., 0., 0., 0., 0., 0., 0., 0., 0., 0., 0.,\n",
       "       0., 0., 0., 0., 0., 0., 0., 0., 0., 0., 0., 0., 0., 0., 0., 0., 0.,\n",
       "       0., 0., 0., 0., 0., 0., 0., 0., 0., 0., 0., 0., 0., 0., 0., 0., 0.,\n",
       "       0., 0., 0., 0., 0., 0., 0., 0., 0., 0., 0., 0., 0., 0., 0., 0., 0.,\n",
       "       0., 0., 0., 0., 0., 0., 0., 0., 0., 0., 0., 0., 0., 0., 0., 0., 0.,\n",
       "       0., 0., 0., 0., 0., 0., 0., 0., 0., 0., 0., 0., 0., 0., 0., 0., 0.,\n",
       "       0., 0., 0., 0., 0., 0., 0., 0., 0., 0., 0., 0., 0., 0., 0., 0., 0.,\n",
       "       0., 0., 0., 0., 0., 0., 0., 0., 0., 0., 0., 0., 0., 0., 0., 0., 0.,\n",
       "       0., 0., 0., 0., 0., 0., 0., 0., 0., 0., 0., 0., 0., 0., 0., 0., 0.,\n",
       "       0., 0., 0., 0., 0., 0., 0., 0., 0., 0., 0., 0., 0., 0., 0., 0., 0.,\n",
       "       0., 0., 0., 0., 0., 0., 0., 0., 0., 0., 0., 0., 0., 0., 0., 0., 0.,\n",
       "       0., 0., 0., 0., 0., 0., 0., 0., 0., 0., 0., 0., 0., 0., 0., 0., 0.,\n",
       "       0., 0., 0., 0., 0., 0., 0., 0., 0., 0., 0., 0., 0., 0., 0., 0., 0.,\n",
       "       0., 0., 0., 0., 0., 0., 0., 0., 0., 0., 0., 0., 0., 0., 0., 0., 0.,\n",
       "       0., 0., 0., 0., 0., 0., 0., 0., 0., 0., 0., 0., 0., 0., 0., 0., 0.,\n",
       "       0., 0., 0., 0., 0., 0., 0., 0., 0., 0., 0., 0., 0., 0., 0., 0., 0.,\n",
       "       0., 0., 0., 0., 0., 0., 0., 0., 0., 0., 0., 0., 0., 0., 0., 0., 0.,\n",
       "       0., 0., 0., 0., 0., 0., 0., 0., 0., 0., 0.], dtype=float32)"
      ]
     },
     "execution_count": 21,
     "metadata": {},
     "output_type": "execute_result"
    }
   ],
   "source": [
    "biases"
   ]
  },
  {
   "cell_type": "code",
   "execution_count": 22,
   "id": "7602d3d2",
   "metadata": {},
   "outputs": [
    {
     "data": {
      "text/plain": [
       "(300,)"
      ]
     },
     "execution_count": 22,
     "metadata": {},
     "output_type": "execute_result"
    }
   ],
   "source": [
    "biases.shape"
   ]
  },
  {
   "cell_type": "code",
   "execution_count": 23,
   "id": "ecdd2cd2",
   "metadata": {},
   "outputs": [],
   "source": [
    "model.compile(loss=\"sparse_categorical_crossentropy\", optimizer=\"sgd\", metrics=[\"accuracy\"])"
   ]
  },
  {
   "cell_type": "code",
   "execution_count": 24,
   "id": "2ac00443",
   "metadata": {},
   "outputs": [
    {
     "name": "stdout",
     "output_type": "stream",
     "text": [
      "Epoch 1/30\n",
      "1719/1719 [==============================] - 2s 954us/step - loss: 0.7065 - accuracy: 0.7695 - val_loss: 0.4981 - val_accuracy: 0.8304\n",
      "Epoch 2/30\n",
      "1719/1719 [==============================] - 1s 869us/step - loss: 0.4832 - accuracy: 0.8317 - val_loss: 0.4720 - val_accuracy: 0.8372\n",
      "Epoch 3/30\n",
      "1719/1719 [==============================] - 2s 958us/step - loss: 0.4396 - accuracy: 0.8450 - val_loss: 0.4139 - val_accuracy: 0.8570\n",
      "Epoch 4/30\n",
      "1719/1719 [==============================] - 1s 870us/step - loss: 0.4115 - accuracy: 0.8547 - val_loss: 0.4028 - val_accuracy: 0.8616\n",
      "Epoch 5/30\n",
      "1719/1719 [==============================] - 1s 869us/step - loss: 0.3916 - accuracy: 0.8617 - val_loss: 0.3906 - val_accuracy: 0.8648\n",
      "Epoch 6/30\n",
      "1719/1719 [==============================] - 2s 912us/step - loss: 0.3753 - accuracy: 0.8673 - val_loss: 0.3795 - val_accuracy: 0.8662\n",
      "Epoch 7/30\n",
      "1719/1719 [==============================] - 2s 894us/step - loss: 0.3628 - accuracy: 0.8704 - val_loss: 0.3636 - val_accuracy: 0.8706\n",
      "Epoch 8/30\n",
      "1719/1719 [==============================] - 1s 809us/step - loss: 0.3499 - accuracy: 0.8755 - val_loss: 0.3567 - val_accuracy: 0.8762\n",
      "Epoch 9/30\n",
      "1719/1719 [==============================] - 1s 813us/step - loss: 0.3401 - accuracy: 0.8790 - val_loss: 0.3556 - val_accuracy: 0.8700\n",
      "Epoch 10/30\n",
      "1719/1719 [==============================] - 1s 811us/step - loss: 0.3312 - accuracy: 0.8805 - val_loss: 0.3387 - val_accuracy: 0.8780\n",
      "Epoch 11/30\n",
      "1719/1719 [==============================] - 1s 801us/step - loss: 0.3235 - accuracy: 0.8845 - val_loss: 0.3384 - val_accuracy: 0.8788\n",
      "Epoch 12/30\n",
      "1719/1719 [==============================] - 1s 812us/step - loss: 0.3142 - accuracy: 0.8865 - val_loss: 0.3446 - val_accuracy: 0.8808\n",
      "Epoch 13/30\n",
      "1719/1719 [==============================] - 2s 971us/step - loss: 0.3081 - accuracy: 0.8883 - val_loss: 0.3373 - val_accuracy: 0.8790\n",
      "Epoch 14/30\n",
      "1719/1719 [==============================] - 2s 920us/step - loss: 0.3007 - accuracy: 0.8903 - val_loss: 0.3365 - val_accuracy: 0.8774\n",
      "Epoch 15/30\n",
      "1719/1719 [==============================] - 2s 939us/step - loss: 0.2941 - accuracy: 0.8936 - val_loss: 0.3128 - val_accuracy: 0.8890\n",
      "Epoch 16/30\n",
      "1719/1719 [==============================] - 2s 909us/step - loss: 0.2881 - accuracy: 0.8972 - val_loss: 0.3076 - val_accuracy: 0.8902\n",
      "Epoch 17/30\n",
      "1719/1719 [==============================] - 2s 934us/step - loss: 0.2820 - accuracy: 0.8982 - val_loss: 0.3080 - val_accuracy: 0.8886\n",
      "Epoch 18/30\n",
      "1719/1719 [==============================] - 1s 844us/step - loss: 0.2772 - accuracy: 0.8995 - val_loss: 0.3043 - val_accuracy: 0.8910\n",
      "Epoch 19/30\n",
      "1719/1719 [==============================] - 1s 862us/step - loss: 0.2713 - accuracy: 0.9017 - val_loss: 0.3029 - val_accuracy: 0.8886\n",
      "Epoch 20/30\n",
      "1719/1719 [==============================] - 1s 849us/step - loss: 0.2667 - accuracy: 0.9028 - val_loss: 0.3074 - val_accuracy: 0.8882\n",
      "Epoch 21/30\n",
      "1719/1719 [==============================] - 2s 954us/step - loss: 0.2615 - accuracy: 0.9060 - val_loss: 0.3274 - val_accuracy: 0.8818\n",
      "Epoch 22/30\n",
      "1719/1719 [==============================] - 2s 884us/step - loss: 0.2555 - accuracy: 0.9078 - val_loss: 0.3024 - val_accuracy: 0.8908\n",
      "Epoch 23/30\n",
      "1719/1719 [==============================] - 1s 844us/step - loss: 0.2506 - accuracy: 0.9098 - val_loss: 0.2975 - val_accuracy: 0.8954\n",
      "Epoch 24/30\n",
      "1719/1719 [==============================] - 2s 900us/step - loss: 0.2470 - accuracy: 0.9103 - val_loss: 0.3052 - val_accuracy: 0.8880\n",
      "Epoch 25/30\n",
      "1719/1719 [==============================] - 2s 887us/step - loss: 0.2426 - accuracy: 0.9124 - val_loss: 0.3060 - val_accuracy: 0.8880\n",
      "Epoch 26/30\n",
      "1719/1719 [==============================] - 2s 876us/step - loss: 0.2392 - accuracy: 0.9144 - val_loss: 0.2937 - val_accuracy: 0.8908\n",
      "Epoch 27/30\n",
      "1719/1719 [==============================] - 2s 964us/step - loss: 0.2340 - accuracy: 0.9155 - val_loss: 0.2906 - val_accuracy: 0.8910\n",
      "Epoch 28/30\n",
      "1719/1719 [==============================] - 2s 931us/step - loss: 0.2309 - accuracy: 0.9167 - val_loss: 0.2984 - val_accuracy: 0.8928\n",
      "Epoch 29/30\n",
      "1719/1719 [==============================] - 2s 929us/step - loss: 0.2264 - accuracy: 0.9180 - val_loss: 0.2895 - val_accuracy: 0.8920\n",
      "Epoch 30/30\n",
      "1719/1719 [==============================] - 1s 855us/step - loss: 0.2228 - accuracy: 0.9193 - val_loss: 0.2976 - val_accuracy: 0.8936\n"
     ]
    }
   ],
   "source": [
    "history = model.fit(X_train, y_train, epochs=30, validation_data=(X_valid, y_valid))"
   ]
  },
  {
   "cell_type": "code",
   "execution_count": 25,
   "id": "8b888355",
   "metadata": {},
   "outputs": [
    {
     "data": {
      "image/png": "[encoded data removed]",
      "text/plain": [
       "<Figure size 576x360 with 1 Axes>"
      ]
     },
     "metadata": {
      "needs_background": "light"
     },
     "output_type": "display_data"
    }
   ],
   "source": [
    "import pandas as pd\n",
    "import matplotlib.pyplot as plt\n",
    "\n",
    "pd.DataFrame(history.history).plot(figsize=(8,5))\n",
    "plt.grid(True)\n",
    "plt.gca().set_ylim(0,1) #Sets the veritcal range to [0,-1] \n",
    "plt.show()"
   ]
  },
  {
   "cell_type": "code",
   "execution_count": null,
   "id": "7b00fea4",
   "metadata": {},
   "outputs": [],
   "source": []
  }
 ],
 "metadata": {
  "kernelspec": {
   "display_name": "Python 3 (ipykernel)",
   "language": "python",
   "name": "python3"
  },
  "language_info": {
   "codemirror_mode": {
    "name": "ipython",
    "version": 3
   },
   "file_extension": ".py",
   "mimetype": "text/x-python",
   "name": "python",
   "nbconvert_exporter": "python",
   "pygments_lexer": "ipython3",
   "version": "3.9.5"
  }
 },
 "nbformat": 4,
 "nbformat_minor": 5
}
