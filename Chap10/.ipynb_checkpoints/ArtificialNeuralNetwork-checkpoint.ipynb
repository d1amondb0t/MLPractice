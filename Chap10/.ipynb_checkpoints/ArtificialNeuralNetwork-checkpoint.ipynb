{
 "cells": [
  {
   "cell_type": "markdown",
   "id": "2daee212",
   "metadata": {},
   "source": [
    "# Setup"
   ]
  },
  {
   "cell_type": "code",
   "execution_count": 1,
   "id": "7b714614",
   "metadata": {},
   "outputs": [],
   "source": [
    "# Python ≥3.5 is required\n",
    "import sys\n",
    "assert sys.version_info >= (3, 5)\n",
    "\n",
    "# Scikit-Learn ≥0.20 is required\n",
    "import sklearn\n",
    "assert sklearn.__version__ >= \"0.20\"\n",
    "\n",
    "try:\n",
    "    # %tensorflow_version only exists in Colab.\n",
    "    %tensorflow_version 2.x\n",
    "except Exception:\n",
    "    pass\n",
    "\n",
    "# TensorFlow ≥2.0 is required\n",
    "import tensorflow as tf\n",
    "assert tf.__version__ >= \"2.0\"\n",
    "\n",
    "# Common imports\n",
    "import numpy as np\n",
    "import os\n",
    "\n",
    "# to make this notebook's output stable across runs\n",
    "np.random.seed(42)\n",
    "\n",
    "# To plot pretty figures\n",
    "%matplotlib inline\n",
    "import matplotlib as mpl\n",
    "import matplotlib.pyplot as plt\n",
    "mpl.rc('axes', labelsize=14)\n",
    "mpl.rc('xtick', labelsize=12)\n",
    "mpl.rc('ytick', labelsize=12)\n",
    "\n",
    "# Where to save the figures\n",
    "PROJECT_ROOT_DIR = \".\"\n",
    "CHAPTER_ID = \"ann\"\n",
    "IMAGES_PATH = os.path.join(PROJECT_ROOT_DIR, \"images\", CHAPTER_ID)\n",
    "os.makedirs(IMAGES_PATH, exist_ok=True)\n",
    "\n",
    "def save_fig(fig_id, tight_layout=True, fig_extension=\"png\", resolution=300):\n",
    "    path = os.path.join(IMAGES_PATH, fig_id + \".\" + fig_extension)\n",
    "    print(\"Saving figure\", fig_id)\n",
    "    if tight_layout:\n",
    "        plt.tight_layout()\n",
    "    plt.savefig(path, format=fig_extension, dpi=resolution)"
   ]
  },
  {
   "cell_type": "markdown",
   "id": "dd62a818",
   "metadata": {},
   "source": [
    "## Perceptrons"
   ]
  },
  {
   "cell_type": "code",
   "execution_count": 2,
   "id": "16e3abc8",
   "metadata": {},
   "outputs": [],
   "source": [
    "from sklearn.datasets import load_iris\n",
    "from sklearn.linear_model import Perceptron\n",
    "\n",
    "iris = load_iris()\n",
    "X = iris.data[:, (2,3)]#petal length,petal width\n",
    "y = (iris.target == 0).astype(np.int)#iris setosa\n",
    "\n",
    "per_clf = Perceptron()\n",
    "per_clf.fit(X,y)\n",
    "\n",
    "y_pred = per_clf.predict([[2, 0.5]])"
   ]
  },
  {
   "cell_type": "markdown",
   "id": "eb7154ff",
   "metadata": {},
   "source": [
    "## Building an Image Classifier "
   ]
  },
  {
   "cell_type": "code",
   "execution_count": 3,
   "id": "d6d9ee26",
   "metadata": {},
   "outputs": [
    {
     "data": {
      "text/plain": [
       "'2.7.0'"
      ]
     },
     "execution_count": 3,
     "metadata": {},
     "output_type": "execute_result"
    }
   ],
   "source": [
    "import tensorflow as tf\n",
    "from tensorflow import keras\n",
    "\n",
    "tf.__version__"
   ]
  },
  {
   "cell_type": "code",
   "execution_count": 4,
   "id": "8860e715",
   "metadata": {},
   "outputs": [
    {
     "data": {
      "text/plain": [
       "'2.7.0'"
      ]
     },
     "execution_count": 4,
     "metadata": {},
     "output_type": "execute_result"
    }
   ],
   "source": [
    "keras.__version__"
   ]
  },
  {
   "cell_type": "code",
   "execution_count": 5,
   "id": "efd80662",
   "metadata": {},
   "outputs": [],
   "source": [
    "fashion_mnist = keras.datasets.fashion_mnist\n",
    "(X_train_full, y_train_full), (X_test, y_test)= fashion_mnist.load_data()"
   ]
  },
  {
   "cell_type": "code",
   "execution_count": 6,
   "id": "59c70cda",
   "metadata": {},
   "outputs": [
    {
     "data": {
      "text/plain": [
       "(60000, 28, 28)"
      ]
     },
     "execution_count": 6,
     "metadata": {},
     "output_type": "execute_result"
    }
   ],
   "source": [
    "X_train_full.shape"
   ]
  },
  {
   "cell_type": "code",
   "execution_count": 7,
   "id": "78c44c4e",
   "metadata": {},
   "outputs": [
    {
     "data": {
      "text/plain": [
       "dtype('uint8')"
      ]
     },
     "execution_count": 7,
     "metadata": {},
     "output_type": "execute_result"
    }
   ],
   "source": [
    "X_train_full.dtype"
   ]
  },
  {
   "cell_type": "code",
   "execution_count": 8,
   "id": "b08cc2ee",
   "metadata": {},
   "outputs": [],
   "source": [
    "X_valid, X_train = X_train_full[:5000]/255.0, X_train_full[5000:]/255.0\n",
    "y_valid, y_train = y_train_full[:5000], y_train_full[5000:]\n",
    "X_test = X_test/255.0"
   ]
  },
  {
   "cell_type": "code",
   "execution_count": 9,
   "id": "5ddc10c0",
   "metadata": {},
   "outputs": [],
   "source": [
    "class_names=[\"T-shirt/top\", \"Trouser\", \"Pullover\", \"Dress\",\n",
    "             \"Coat\", \"Sandall\", \"Shirt\", \"Sneaker\", \"Bag\", \"Ankle Boot\"]\n"
   ]
  },
  {
   "cell_type": "code",
   "execution_count": 10,
   "id": "4aefd2bc",
   "metadata": {},
   "outputs": [
    {
     "data": {
      "text/plain": [
       "'Coat'"
      ]
     },
     "execution_count": 10,
     "metadata": {},
     "output_type": "execute_result"
    }
   ],
   "source": [
    "class_names[y_train[0]]"
   ]
  },
  {
   "cell_type": "code",
   "execution_count": 11,
   "id": "234be228",
   "metadata": {},
   "outputs": [],
   "source": [
    "model = keras.models.Sequential()\n",
    "model.add(keras.layers.Flatten(input_shape=[28,28]))\n",
    "model.add(keras.layers.Dense(300, activation=\"relu\"))\n",
    "model.add(keras.layers.Dense(100, activation=\"relu\"))\n",
    "model.add(keras.layers.Dense(10, activation=\"softmax\"))"
   ]
  },
  {
   "cell_type": "code",
   "execution_count": 12,
   "id": "426ca6c1",
   "metadata": {},
   "outputs": [],
   "source": [
    "model = keras.models.Sequential([\n",
    "    keras.layers.Flatten(input_shape=[28,28]),\n",
    "    keras.layers.Dense(300, activation=\"relu\"),\n",
    "    keras.layers.Dense(100, activation=\"relu\"),\n",
    "    keras.layers.Dense(10, activation=\"softmax\")\n",
    "])"
   ]
  },
  {
   "cell_type": "code",
   "execution_count": 13,
   "id": "cfd9b36b",
   "metadata": {},
   "outputs": [
    {
     "name": "stdout",
     "output_type": "stream",
     "text": [
      "Model: \"sequential_1\"\n",
      "_________________________________________________________________\n",
      " Layer (type)                Output Shape              Param #   \n",
      "=================================================================\n",
      " flatten_1 (Flatten)         (None, 784)               0         \n",
      "                                                                 \n",
      " dense_3 (Dense)             (None, 300)               235500    \n",
      "                                                                 \n",
      " dense_4 (Dense)             (None, 100)               30100     \n",
      "                                                                 \n",
      " dense_5 (Dense)             (None, 10)                1010      \n",
      "                                                                 \n",
      "=================================================================\n",
      "Total params: 266,610\n",
      "Trainable params: 266,610\n",
      "Non-trainable params: 0\n",
      "_________________________________________________________________\n"
     ]
    }
   ],
   "source": [
    "model.summary()"
   ]
  },
  {
   "cell_type": "code",
   "execution_count": 14,
   "id": "9c60acbd",
   "metadata": {},
   "outputs": [
    {
     "data": {
      "text/plain": [
       "[<keras.layers.core.flatten.Flatten at 0x26ec4548c40>,\n",
       " <keras.layers.core.dense.Dense at 0x26ec4548d30>,\n",
       " <keras.layers.core.dense.Dense at 0x26ebe78cd60>,\n",
       " <keras.layers.core.dense.Dense at 0x26ebe78c5e0>]"
      ]
     },
     "execution_count": 14,
     "metadata": {},
     "output_type": "execute_result"
    }
   ],
   "source": [
    "model.layers"
   ]
  },
  {
   "cell_type": "code",
   "execution_count": 15,
   "id": "a9c857f9",
   "metadata": {},
   "outputs": [],
   "source": [
    "hidden1 = model.layers[1]"
   ]
  },
  {
   "cell_type": "code",
   "execution_count": 16,
   "id": "6889490c",
   "metadata": {},
   "outputs": [
    {
     "data": {
      "text/plain": [
       "'dense_3'"
      ]
     },
     "execution_count": 16,
     "metadata": {},
     "output_type": "execute_result"
    }
   ],
   "source": [
    "hidden1.name"
   ]
  },
  {
   "cell_type": "code",
   "execution_count": 17,
   "id": "88a459ae",
   "metadata": {},
   "outputs": [
    {
     "data": {
      "text/plain": [
       "True"
      ]
     },
     "execution_count": 17,
     "metadata": {},
     "output_type": "execute_result"
    }
   ],
   "source": [
    "model.get_layer(hidden1.name) is hidden1"
   ]
  },
  {
   "cell_type": "code",
   "execution_count": 18,
   "id": "b4075ba8",
   "metadata": {},
   "outputs": [],
   "source": [
    "weights, biases = hidden1.get_weights()"
   ]
  },
  {
   "cell_type": "code",
   "execution_count": 19,
   "id": "3752a831",
   "metadata": {},
   "outputs": [
    {
     "data": {
      "text/plain": [
       "array([[ 0.01725372, -0.02284724, -0.02171402, ...,  0.0391431 ,\n",
       "        -0.04285607,  0.05462182],\n",
       "       [ 0.06717224, -0.0302968 ,  0.03380881, ..., -0.0282382 ,\n",
       "         0.01031084, -0.04596958],\n",
       "       [-0.00852802,  0.06383671, -0.00470041, ...,  0.04574096,\n",
       "         0.01454027,  0.021686  ],\n",
       "       ...,\n",
       "       [ 0.0681527 , -0.06178783,  0.00711882, ..., -0.05687542,\n",
       "         0.01579244, -0.07072914],\n",
       "       [ 0.03013244,  0.01767029, -0.01473627, ..., -0.03933569,\n",
       "         0.05450988, -0.01908139],\n",
       "       [-0.03672161,  0.06663649, -0.05063822, ..., -0.04818092,\n",
       "         0.00614127, -0.06001592]], dtype=float32)"
      ]
     },
     "execution_count": 19,
     "metadata": {},
     "output_type": "execute_result"
    }
   ],
   "source": [
    "weights"
   ]
  },
  {
   "cell_type": "code",
   "execution_count": 20,
   "id": "d7d33a14",
   "metadata": {},
   "outputs": [
    {
     "data": {
      "text/plain": [
       "(784, 300)"
      ]
     },
     "execution_count": 20,
     "metadata": {},
     "output_type": "execute_result"
    }
   ],
   "source": [
    "weights.shape"
   ]
  },
  {
   "cell_type": "code",
   "execution_count": 21,
   "id": "fc1b1682",
   "metadata": {},
   "outputs": [
    {
     "data": {
      "text/plain": [
       "array([0., 0., 0., 0., 0., 0., 0., 0., 0., 0., 0., 0., 0., 0., 0., 0., 0.,\n",
       "       0., 0., 0., 0., 0., 0., 0., 0., 0., 0., 0., 0., 0., 0., 0., 0., 0.,\n",
       "       0., 0., 0., 0., 0., 0., 0., 0., 0., 0., 0., 0., 0., 0., 0., 0., 0.,\n",
       "       0., 0., 0., 0., 0., 0., 0., 0., 0., 0., 0., 0., 0., 0., 0., 0., 0.,\n",
       "       0., 0., 0., 0., 0., 0., 0., 0., 0., 0., 0., 0., 0., 0., 0., 0., 0.,\n",
       "       0., 0., 0., 0., 0., 0., 0., 0., 0., 0., 0., 0., 0., 0., 0., 0., 0.,\n",
       "       0., 0., 0., 0., 0., 0., 0., 0., 0., 0., 0., 0., 0., 0., 0., 0., 0.,\n",
       "       0., 0., 0., 0., 0., 0., 0., 0., 0., 0., 0., 0., 0., 0., 0., 0., 0.,\n",
       "       0., 0., 0., 0., 0., 0., 0., 0., 0., 0., 0., 0., 0., 0., 0., 0., 0.,\n",
       "       0., 0., 0., 0., 0., 0., 0., 0., 0., 0., 0., 0., 0., 0., 0., 0., 0.,\n",
       "       0., 0., 0., 0., 0., 0., 0., 0., 0., 0., 0., 0., 0., 0., 0., 0., 0.,\n",
       "       0., 0., 0., 0., 0., 0., 0., 0., 0., 0., 0., 0., 0., 0., 0., 0., 0.,\n",
       "       0., 0., 0., 0., 0., 0., 0., 0., 0., 0., 0., 0., 0., 0., 0., 0., 0.,\n",
       "       0., 0., 0., 0., 0., 0., 0., 0., 0., 0., 0., 0., 0., 0., 0., 0., 0.,\n",
       "       0., 0., 0., 0., 0., 0., 0., 0., 0., 0., 0., 0., 0., 0., 0., 0., 0.,\n",
       "       0., 0., 0., 0., 0., 0., 0., 0., 0., 0., 0., 0., 0., 0., 0., 0., 0.,\n",
       "       0., 0., 0., 0., 0., 0., 0., 0., 0., 0., 0., 0., 0., 0., 0., 0., 0.,\n",
       "       0., 0., 0., 0., 0., 0., 0., 0., 0., 0., 0.], dtype=float32)"
      ]
     },
     "execution_count": 21,
     "metadata": {},
     "output_type": "execute_result"
    }
   ],
   "source": [
    "biases"
   ]
  },
  {
   "cell_type": "code",
   "execution_count": 22,
   "id": "7602d3d2",
   "metadata": {},
   "outputs": [
    {
     "data": {
      "text/plain": [
       "(300,)"
      ]
     },
     "execution_count": 22,
     "metadata": {},
     "output_type": "execute_result"
    }
   ],
   "source": [
    "biases.shape"
   ]
  },
  {
   "cell_type": "code",
   "execution_count": 23,
   "id": "ecdd2cd2",
   "metadata": {},
   "outputs": [],
   "source": [
    "model.compile(loss=\"sparse_categorical_crossentropy\", optimizer=\"sgd\", metrics=[\"accuracy\"])"
   ]
  },
  {
   "cell_type": "code",
   "execution_count": 24,
   "id": "2ac00443",
   "metadata": {},
   "outputs": [
    {
     "name": "stdout",
     "output_type": "stream",
     "text": [
      "Epoch 1/30\n",
      "1719/1719 [==============================] - 3s 1ms/step - loss: 0.7164 - accuracy: 0.7673 - val_loss: 0.5597 - val_accuracy: 0.8028\n",
      "Epoch 2/30\n",
      "1719/1719 [==============================] - 2s 1ms/step - loss: 0.4857 - accuracy: 0.8307 - val_loss: 0.4394 - val_accuracy: 0.8526\n",
      "Epoch 3/30\n",
      "1719/1719 [==============================] - 2s 1ms/step - loss: 0.4402 - accuracy: 0.8441 - val_loss: 0.4085 - val_accuracy: 0.8620\n",
      "Epoch 4/30\n",
      "1719/1719 [==============================] - 2s 1ms/step - loss: 0.4136 - accuracy: 0.8560 - val_loss: 0.3970 - val_accuracy: 0.8670\n",
      "Epoch 5/30\n",
      "1719/1719 [==============================] - 2s 1ms/step - loss: 0.3932 - accuracy: 0.8623 - val_loss: 0.4020 - val_accuracy: 0.8598\n",
      "Epoch 6/30\n",
      "1719/1719 [==============================] - 2s 1ms/step - loss: 0.3776 - accuracy: 0.8672 - val_loss: 0.3636 - val_accuracy: 0.8766\n",
      "Epoch 7/30\n",
      "1719/1719 [==============================] - 2s 1ms/step - loss: 0.3651 - accuracy: 0.8705 - val_loss: 0.3590 - val_accuracy: 0.8764\n",
      "Epoch 8/30\n",
      "1719/1719 [==============================] - 2s 1ms/step - loss: 0.3518 - accuracy: 0.8757 - val_loss: 0.3524 - val_accuracy: 0.8776\n",
      "Epoch 9/30\n",
      "1719/1719 [==============================] - 2s 1ms/step - loss: 0.3422 - accuracy: 0.8774 - val_loss: 0.3507 - val_accuracy: 0.8760\n",
      "Epoch 10/30\n",
      "1719/1719 [==============================] - 2s 1ms/step - loss: 0.3330 - accuracy: 0.8813 - val_loss: 0.3589 - val_accuracy: 0.8724\n",
      "Epoch 11/30\n",
      "1719/1719 [==============================] - 2s 1ms/step - loss: 0.3245 - accuracy: 0.8840 - val_loss: 0.3423 - val_accuracy: 0.8812\n",
      "Epoch 12/30\n",
      "1719/1719 [==============================] - 2s 1ms/step - loss: 0.3166 - accuracy: 0.8876 - val_loss: 0.3293 - val_accuracy: 0.8840\n",
      "Epoch 13/30\n",
      "1719/1719 [==============================] - 2s 1ms/step - loss: 0.3097 - accuracy: 0.8887 - val_loss: 0.3328 - val_accuracy: 0.8800\n",
      "Epoch 14/30\n",
      "1719/1719 [==============================] - 2s 1ms/step - loss: 0.3035 - accuracy: 0.8909 - val_loss: 0.3230 - val_accuracy: 0.8830\n",
      "Epoch 15/30\n",
      "1719/1719 [==============================] - 2s 1ms/step - loss: 0.2962 - accuracy: 0.8940 - val_loss: 0.3345 - val_accuracy: 0.8832\n",
      "Epoch 16/30\n",
      "1719/1719 [==============================] - 2s 1ms/step - loss: 0.2906 - accuracy: 0.8958 - val_loss: 0.3150 - val_accuracy: 0.8898\n",
      "Epoch 17/30\n",
      "1719/1719 [==============================] - 2s 993us/step - loss: 0.2835 - accuracy: 0.8987 - val_loss: 0.3423 - val_accuracy: 0.8820\n",
      "Epoch 18/30\n",
      "1719/1719 [==============================] - 2s 1ms/step - loss: 0.2791 - accuracy: 0.8996 - val_loss: 0.3181 - val_accuracy: 0.8870\n",
      "Epoch 19/30\n",
      "1719/1719 [==============================] - 2s 1ms/step - loss: 0.2731 - accuracy: 0.9014 - val_loss: 0.3122 - val_accuracy: 0.8900\n",
      "Epoch 20/30\n",
      "1719/1719 [==============================] - 2s 1ms/step - loss: 0.2691 - accuracy: 0.9037 - val_loss: 0.3034 - val_accuracy: 0.8922\n",
      "Epoch 21/30\n",
      "1719/1719 [==============================] - 2s 1ms/step - loss: 0.2632 - accuracy: 0.9049 - val_loss: 0.3051 - val_accuracy: 0.8904\n",
      "Epoch 22/30\n",
      "1719/1719 [==============================] - 2s 1ms/step - loss: 0.2598 - accuracy: 0.9062 - val_loss: 0.3074 - val_accuracy: 0.8890\n",
      "Epoch 23/30\n",
      "1719/1719 [==============================] - 2s 1ms/step - loss: 0.2548 - accuracy: 0.9083 - val_loss: 0.3093 - val_accuracy: 0.8904\n",
      "Epoch 24/30\n",
      "1719/1719 [==============================] - 2s 1ms/step - loss: 0.2490 - accuracy: 0.9100 - val_loss: 0.2982 - val_accuracy: 0.8960\n",
      "Epoch 25/30\n",
      "1719/1719 [==============================] - 2s 1ms/step - loss: 0.2462 - accuracy: 0.9118 - val_loss: 0.3006 - val_accuracy: 0.8934\n",
      "Epoch 26/30\n",
      "1719/1719 [==============================] - 2s 1ms/step - loss: 0.2421 - accuracy: 0.9130 - val_loss: 0.3171 - val_accuracy: 0.8844\n",
      "Epoch 27/30\n",
      "1719/1719 [==============================] - 2s 1ms/step - loss: 0.2378 - accuracy: 0.9147 - val_loss: 0.2974 - val_accuracy: 0.8954\n",
      "Epoch 28/30\n",
      "1719/1719 [==============================] - 2s 1ms/step - loss: 0.2341 - accuracy: 0.9152 - val_loss: 0.3081 - val_accuracy: 0.8904\n",
      "Epoch 29/30\n",
      "1719/1719 [==============================] - 2s 1ms/step - loss: 0.2300 - accuracy: 0.9174 - val_loss: 0.2938 - val_accuracy: 0.8920\n",
      "Epoch 30/30\n",
      "1719/1719 [==============================] - 2s 1ms/step - loss: 0.2270 - accuracy: 0.9179 - val_loss: 0.2932 - val_accuracy: 0.8932\n"
     ]
    }
   ],
   "source": [
    "history = model.fit(X_train, y_train, epochs=30, validation_data=(X_valid, y_valid))"
   ]
  },
  {
   "cell_type": "code",
   "execution_count": 25,
   "id": "8b888355",
   "metadata": {},
   "outputs": [
    {
     "data": {
      "image/png": "[encoded data removed]",
      "text/plain": [
       "<Figure size 576x360 with 1 Axes>"
      ]
     },
     "metadata": {
      "needs_background": "light"
     },
     "output_type": "display_data"
    }
   ],
   "source": [
    "import pandas as pd\n",
    "import matplotlib.pyplot as plt\n",
    "\n",
    "pd.DataFrame(history.history).plot(figsize=(8,5))\n",
    "plt.grid(True)\n",
    "plt.gca().set_ylim(0,1) #Sets the veritcal range to [0,-1] \n",
    "plt.show()"
   ]
  },
  {
   "cell_type": "code",
   "execution_count": 26,
   "id": "7b00fea4",
   "metadata": {},
   "outputs": [
    {
     "name": "stdout",
     "output_type": "stream",
     "text": [
      "313/313 [==============================] - 0s 944us/step - loss: 0.3286 - accuracy: 0.8782\n"
     ]
    },
    {
     "data": {
      "text/plain": [
       "[0.32861199975013733, 0.8781999945640564]"
      ]
     },
     "execution_count": 26,
     "metadata": {},
     "output_type": "execute_result"
    }
   ],
   "source": [
    "model.evaluate(X_test, y_test)"
   ]
  },
  {
   "cell_type": "code",
   "execution_count": 27,
   "id": "6c671d82",
   "metadata": {},
   "outputs": [
    {
     "data": {
      "text/plain": [
       "array([[0.  , 0.  , 0.  , 0.  , 0.  , 0.  , 0.  , 0.01, 0.  , 0.99],\n",
       "       [0.  , 0.  , 1.  , 0.  , 0.  , 0.  , 0.  , 0.  , 0.  , 0.  ],\n",
       "       [0.  , 1.  , 0.  , 0.  , 0.  , 0.  , 0.  , 0.  , 0.  , 0.  ]],\n",
       "      dtype=float32)"
      ]
     },
     "execution_count": 27,
     "metadata": {},
     "output_type": "execute_result"
    }
   ],
   "source": [
    "X_new = X_test[:3]\n",
    "y_proba = model.predict(X_new)\n",
    "y_proba.round(2)"
   ]
  },
  {
   "cell_type": "code",
   "execution_count": 28,
   "id": "0eebb3a1",
   "metadata": {},
   "outputs": [
    {
     "data": {
      "text/plain": [
       "array([9, 2, 1], dtype=int64)"
      ]
     },
     "execution_count": 28,
     "metadata": {},
     "output_type": "execute_result"
    }
   ],
   "source": [
    "y_pred=np.argmax(model.predict(X_new), axis=-1)\n",
    "y_pred"
   ]
  },
  {
   "cell_type": "code",
   "execution_count": 29,
   "id": "15d18bd9",
   "metadata": {},
   "outputs": [
    {
     "data": {
      "text/plain": [
       "array(['Ankle Boot', 'Pullover', 'Trouser'], dtype='<U11')"
      ]
     },
     "execution_count": 29,
     "metadata": {},
     "output_type": "execute_result"
    }
   ],
   "source": [
    "np.array(class_names)[y_pred]"
   ]
  },
  {
   "cell_type": "code",
   "execution_count": 30,
   "id": "31470311",
   "metadata": {},
   "outputs": [
    {
     "data": {
      "text/plain": [
       "array([9, 2, 1], dtype=uint8)"
      ]
     },
     "execution_count": 30,
     "metadata": {},
     "output_type": "execute_result"
    }
   ],
   "source": [
    "y_new = y_test[:3]\n",
    "y_new"
   ]
  },
  {
   "cell_type": "markdown",
   "id": "2d536a7c",
   "metadata": {},
   "source": [
    "## Building a Regression MLP "
   ]
  },
  {
   "cell_type": "code",
   "execution_count": 31,
   "id": "c5c2bde9",
   "metadata": {},
   "outputs": [],
   "source": [
    "from sklearn.datasets import fetch_california_housing\n",
    "from sklearn.model_selection import train_test_split\n",
    "from sklearn.preprocessing import StandardScaler\n",
    "\n",
    "housing = fetch_california_housing()\n",
    "\n",
    "X_train_full, X_test, y_train_full, y_test = train_test_split(housing.data, housing.target)\n",
    "X_train, X_valid, y_train, y_valid = train_test_split(X_train_full, y_train_full)\n",
    "\n",
    "scaler = StandardScaler()\n",
    "X_train = scaler.fit_transform(X_train)\n",
    "X_valid = scaler.transform(X_valid)\n",
    "X_test = scaler.transform(X_test)"
   ]
  },
  {
   "cell_type": "code",
   "execution_count": 32,
   "id": "13c3df7d",
   "metadata": {},
   "outputs": [
    {
     "name": "stdout",
     "output_type": "stream",
     "text": [
      "Epoch 1/20\n",
      "363/363 [==============================] - 1s 991us/step - loss: 3.0080 - val_loss: 0.5516\n",
      "Epoch 2/20\n",
      "363/363 [==============================] - 0s 824us/step - loss: 0.4643 - val_loss: 0.4550\n",
      "Epoch 3/20\n",
      "363/363 [==============================] - 0s 903us/step - loss: 0.4071 - val_loss: 0.4402\n",
      "Epoch 4/20\n",
      "363/363 [==============================] - 0s 877us/step - loss: 0.3827 - val_loss: 0.4193\n",
      "Epoch 5/20\n",
      "363/363 [==============================] - 0s 766us/step - loss: 0.3730 - val_loss: 0.4043\n",
      "Epoch 6/20\n",
      "363/363 [==============================] - 0s 773us/step - loss: 0.3686 - val_loss: 0.4466\n",
      "Epoch 7/20\n",
      "363/363 [==============================] - 0s 822us/step - loss: 0.3638 - val_loss: 0.3942\n",
      "Epoch 8/20\n",
      "363/363 [==============================] - 0s 797us/step - loss: 0.3558 - val_loss: 0.3928\n",
      "Epoch 9/20\n",
      "363/363 [==============================] - 0s 815us/step - loss: 0.3552 - val_loss: 0.3897\n",
      "Epoch 10/20\n",
      "363/363 [==============================] - 0s 731us/step - loss: 0.3559 - val_loss: 0.3849\n",
      "Epoch 11/20\n",
      "363/363 [==============================] - 0s 778us/step - loss: 0.3509 - val_loss: 0.3833\n",
      "Epoch 12/20\n",
      "363/363 [==============================] - 0s 753us/step - loss: 0.3534 - val_loss: 0.3826\n",
      "Epoch 13/20\n",
      "363/363 [==============================] - 0s 788us/step - loss: 0.3486 - val_loss: 0.4164\n",
      "Epoch 14/20\n",
      "363/363 [==============================] - 0s 749us/step - loss: 0.3462 - val_loss: 0.3854\n",
      "Epoch 15/20\n",
      "363/363 [==============================] - 0s 756us/step - loss: 0.3429 - val_loss: 0.3873\n",
      "Epoch 16/20\n",
      "363/363 [==============================] - 0s 779us/step - loss: 0.3445 - val_loss: 0.3819\n",
      "Epoch 17/20\n",
      "363/363 [==============================] - 0s 768us/step - loss: 0.3427 - val_loss: 0.3809\n",
      "Epoch 18/20\n",
      "363/363 [==============================] - 0s 799us/step - loss: 0.3413 - val_loss: 0.4079\n",
      "Epoch 19/20\n",
      "363/363 [==============================] - 0s 803us/step - loss: 0.3399 - val_loss: 0.3792\n",
      "Epoch 20/20\n",
      "363/363 [==============================] - 0s 755us/step - loss: 0.3387 - val_loss: 0.3873\n",
      "162/162 [==============================] - 0s 527us/step - loss: 0.3513\n"
     ]
    }
   ],
   "source": [
    "model = keras.models.Sequential([\n",
    "    keras.layers.Dense(30, activation=\"relu\", input_shape=X_train.shape[1:]),\n",
    "    keras.layers.Dense(1)\n",
    "])\n",
    "model.compile(loss=\"mean_squared_error\", optimizer=\"sgd\")\n",
    "history = model.fit(X_train, y_train, epochs=20, validation_data=(X_valid, y_valid))\n",
    "mse_test = model.evaluate(X_test, y_test)\n",
    "X_new = X_test[:3] #pretend that these are new instances\n",
    "y_pred = model.predict(X_new)"
   ]
  },
  {
   "cell_type": "markdown",
   "id": "9ea38a10",
   "metadata": {},
   "source": [
    "## Functional API"
   ]
  },
  {
   "cell_type": "code",
   "execution_count": 33,
   "id": "261cfc16",
   "metadata": {},
   "outputs": [],
   "source": [
    "input_ = keras.layers.Input(shape=X_train.shape[1:])\n",
    "hidden1 = keras.layers.Dense(30,activation=\"relu\")(input_)\n",
    "hidden2 = keras.layers.Dense(30, activation=\"relu\")(hidden1)\n",
    "concat = keras.layers.Concatenate()([input_, hidden2])\n",
    "output = keras.layers.Dense(1)(concat)\n",
    "model = keras.Model(inputs=[input_], outputs=[output])"
   ]
  },
  {
   "cell_type": "code",
   "execution_count": 34,
   "id": "16cd865a",
   "metadata": {},
   "outputs": [],
   "source": [
    "input_A = keras.layers.Input(shape=[5], name=\"wide_input\")\n",
    "input_B = keras.layers.Input(shape=[6], name=\"deep_input\")\n",
    "hidden1 = keras.layers.Dense(30, activation=\"relu\")(input_B)\n",
    "hidden2 = keras.layers.Dense(30, activation=\"relu\")(hidden1)\n",
    "concat = keras.layers.concatenate([input_A, hidden2])\n",
    "output = keras.layers.Dense(1, name=\"output\")(concat)\n",
    "model = keras.Model(inputs=[input_A, input_B], outputs=[output])"
   ]
  },
  {
   "cell_type": "code",
   "execution_count": 35,
   "id": "79ab9f01",
   "metadata": {},
   "outputs": [],
   "source": [
    "model.compile(loss=\"mse\", optimizer=keras.optimizers.SGD(learning_rate=1e-3))\n",
    "\n",
    "X_train_A, X_train_B = X_train[:, :5], X_train[:,2:]\n",
    "X_valid_A, X_valid_B = X_valid[:, :5], X_valid[:,2:]\n",
    "X_test_A, X_test_B = X_test[:, :5], X_test[:,2:]\n",
    "X_new_A, X_new_B = X_new[:, :5], X_new[:,2:]"
   ]
  },
  {
   "cell_type": "code",
   "execution_count": 36,
   "id": "16a6f71a",
   "metadata": {},
   "outputs": [
    {
     "name": "stdout",
     "output_type": "stream",
     "text": [
      "Epoch 1/20\n",
      "363/363 [==============================] - 1s 1ms/step - loss: 2.2165 - val_loss: 0.8977\n",
      "Epoch 2/20\n",
      "363/363 [==============================] - 0s 997us/step - loss: 0.7822 - val_loss: 0.6944\n",
      "Epoch 3/20\n",
      "363/363 [==============================] - 0s 881us/step - loss: 0.6659 - val_loss: 0.6486\n",
      "Epoch 4/20\n",
      "363/363 [==============================] - 0s 875us/step - loss: 0.6292 - val_loss: 0.6232\n",
      "Epoch 5/20\n",
      "363/363 [==============================] - 0s 842us/step - loss: 0.6054 - val_loss: 0.6044\n",
      "Epoch 6/20\n",
      "363/363 [==============================] - 0s 859us/step - loss: 0.5868 - val_loss: 0.5899\n",
      "Epoch 7/20\n",
      "363/363 [==============================] - 0s 941us/step - loss: 0.5716 - val_loss: 0.5772\n",
      "Epoch 8/20\n",
      "363/363 [==============================] - ETA: 0s - loss: 0.555 - 0s 828us/step - loss: 0.5582 - val_loss: 0.5668\n",
      "Epoch 9/20\n",
      "363/363 [==============================] - 0s 845us/step - loss: 0.5473 - val_loss: 0.5563\n",
      "Epoch 10/20\n",
      "363/363 [==============================] - 0s 845us/step - loss: 0.5375 - val_loss: 0.5481\n",
      "Epoch 11/20\n",
      "363/363 [==============================] - 0s 912us/step - loss: 0.5288 - val_loss: 0.5408\n",
      "Epoch 12/20\n",
      "363/363 [==============================] - 0s 836us/step - loss: 0.5216 - val_loss: 0.5343\n",
      "Epoch 13/20\n",
      "363/363 [==============================] - 0s 878us/step - loss: 0.5148 - val_loss: 0.5284\n",
      "Epoch 14/20\n",
      "363/363 [==============================] - 0s 838us/step - loss: 0.5091 - val_loss: 0.5232\n",
      "Epoch 15/20\n",
      "363/363 [==============================] - 0s 861us/step - loss: 0.5036 - val_loss: 0.5187\n",
      "Epoch 16/20\n",
      "363/363 [==============================] - 0s 869us/step - loss: 0.4993 - val_loss: 0.5139\n",
      "Epoch 17/20\n",
      "363/363 [==============================] - 0s 887us/step - loss: 0.4950 - val_loss: 0.5100\n",
      "Epoch 18/20\n",
      "363/363 [==============================] - 0s 881us/step - loss: 0.4912 - val_loss: 0.5072\n",
      "Epoch 19/20\n",
      "363/363 [==============================] - 0s 880us/step - loss: 0.4876 - val_loss: 0.5042\n",
      "Epoch 20/20\n",
      "363/363 [==============================] - 0s 951us/step - loss: 0.4847 - val_loss: 0.5006\n",
      "162/162 [==============================] - 0s 592us/step - loss: 0.4912 0s - loss: 0.490\n"
     ]
    }
   ],
   "source": [
    "history = model.fit((X_train_A, X_train_B), y_train, epochs=20, validation_data=((X_valid_A, X_valid_B), y_valid))\n",
    "mse_test = model.evaluate((X_test_A, X_test_B), y_test)\n",
    "y_pred = model.predict((X_new_A, X_new_B))"
   ]
  },
  {
   "cell_type": "code",
   "execution_count": 38,
   "id": "c65d6d5b",
   "metadata": {},
   "outputs": [],
   "source": [
    "np.random.seed(42)\n",
    "tf.random.set_seed(42)"
   ]
  },
  {
   "cell_type": "code",
   "execution_count": 41,
   "id": "70943f73",
   "metadata": {},
   "outputs": [],
   "source": [
    "input_A = keras.layers.Input(shape=[5], name=\"wide_input\")\n",
    "input_B = keras.layers.Input(shape=[6], name=\"deep_input\")\n",
    "hidden1 = keras.layers.Dense(30, activation=\"relu\")(input_B)\n",
    "hidden2 = keras.layers.Dense(30, activation=\"relu\")(hidden1)\n",
    "concat = keras.layers.concatenate([input_A, hidden2])\n",
    "output = keras.layers.Dense(1, name=\"main_output\")(concat)\n",
    "aux_output = keras.layers.Dense(1, name=\"aux_output\")(hidden2)\n",
    "model = keras.models.Model(inputs=[input_A, input_B],\n",
    "                           outputs=[output, aux_output])"
   ]
  },
  {
   "cell_type": "code",
   "execution_count": 42,
   "id": "0b23dec8",
   "metadata": {},
   "outputs": [],
   "source": [
    "model.compile(loss=[\"mse\",\"mse\"], loss_weights=[0.9,0.1], optimizer=\"sgd\")"
   ]
  },
  {
   "cell_type": "code",
   "execution_count": 45,
   "id": "594de527",
   "metadata": {},
   "outputs": [
    {
     "name": "stdout",
     "output_type": "stream",
     "text": [
      "Epoch 1/20\n",
      "363/363 [==============================] - 1s 1ms/step - loss: 0.9554 - main_output_loss: 0.8211 - aux_output_loss: 2.1645 - val_loss: 0.6561 - val_main_output_loss: 0.5791 - val_aux_output_loss: 1.3489\n",
      "Epoch 2/20\n",
      "363/363 [==============================] - 0s 1ms/step - loss: 0.5792 - main_output_loss: 0.5086 - aux_output_loss: 1.2149 - val_loss: 0.5491 - val_main_output_loss: 0.4849 - val_aux_output_loss: 1.1266\n",
      "Epoch 3/20\n",
      "363/363 [==============================] - 0s 1ms/step - loss: 0.5213 - main_output_loss: 0.4646 - aux_output_loss: 1.0317 - val_loss: 0.5223 - val_main_output_loss: 0.4722 - val_aux_output_loss: 0.9738\n",
      "Epoch 4/20\n",
      "363/363 [==============================] - 0s 1ms/step - loss: 0.5024 - main_output_loss: 0.4581 - aux_output_loss: 0.9002 - val_loss: 0.5354 - val_main_output_loss: 0.4981 - val_aux_output_loss: 0.8704\n",
      "Epoch 5/20\n",
      "363/363 [==============================] - 0s 1ms/step - loss: 0.5256 - main_output_loss: 0.4919 - aux_output_loss: 0.8291 - val_loss: 0.5237 - val_main_output_loss: 0.4935 - val_aux_output_loss: 0.7950\n",
      "Epoch 6/20\n",
      "363/363 [==============================] - 0s 1ms/step - loss: 0.4893 - main_output_loss: 0.4599 - aux_output_loss: 0.7531 - val_loss: 0.4979 - val_main_output_loss: 0.4701 - val_aux_output_loss: 0.7483\n",
      "Epoch 7/20\n",
      "363/363 [==============================] - 0s 1ms/step - loss: 0.4577 - main_output_loss: 0.4300 - aux_output_loss: 0.7067 - val_loss: 0.4759 - val_main_output_loss: 0.4499 - val_aux_output_loss: 0.7096\n",
      "Epoch 8/20\n",
      "363/363 [==============================] - 0s 983us/step - loss: 0.4462 - main_output_loss: 0.4209 - aux_output_loss: 0.6736 - val_loss: 0.4751 - val_main_output_loss: 0.4515 - val_aux_output_loss: 0.6874\n",
      "Epoch 9/20\n",
      "363/363 [==============================] - 0s 1ms/step - loss: 0.4359 - main_output_loss: 0.4126 - aux_output_loss: 0.6454 - val_loss: 0.4566 - val_main_output_loss: 0.4339 - val_aux_output_loss: 0.6614\n",
      "Epoch 10/20\n",
      "363/363 [==============================] - 0s 957us/step - loss: 0.4288 - main_output_loss: 0.4069 - aux_output_loss: 0.6267 - val_loss: 0.4571 - val_main_output_loss: 0.4363 - val_aux_output_loss: 0.6444\n",
      "Epoch 11/20\n",
      "363/363 [==============================] - 0s 1ms/step - loss: 0.4201 - main_output_loss: 0.3991 - aux_output_loss: 0.6093 - val_loss: 0.4436 - val_main_output_loss: 0.4233 - val_aux_output_loss: 0.6261\n",
      "Epoch 12/20\n",
      "363/363 [==============================] - 0s 1ms/step - loss: 0.4144 - main_output_loss: 0.3945 - aux_output_loss: 0.5935 - val_loss: 0.4361 - val_main_output_loss: 0.4167 - val_aux_output_loss: 0.6105\n",
      "Epoch 13/20\n",
      "363/363 [==============================] - 0s 996us/step - loss: 0.4098 - main_output_loss: 0.3909 - aux_output_loss: 0.5804 - val_loss: 0.4386 - val_main_output_loss: 0.4203 - val_aux_output_loss: 0.6031\n",
      "Epoch 14/20\n",
      "363/363 [==============================] - 0s 1ms/step - loss: 0.4027 - main_output_loss: 0.3843 - aux_output_loss: 0.5676 - val_loss: 0.4704 - val_main_output_loss: 0.4571 - val_aux_output_loss: 0.5901\n",
      "Epoch 15/20\n",
      "363/363 [==============================] - 0s 1ms/step - loss: 0.3962 - main_output_loss: 0.3786 - aux_output_loss: 0.5544 - val_loss: 0.4405 - val_main_output_loss: 0.4253 - val_aux_output_loss: 0.5772\n",
      "Epoch 16/20\n",
      "363/363 [==============================] - 0s 972us/step - loss: 0.3917 - main_output_loss: 0.3747 - aux_output_loss: 0.5446 - val_loss: 0.4101 - val_main_output_loss: 0.3931 - val_aux_output_loss: 0.5626\n",
      "Epoch 17/20\n",
      "363/363 [==============================] - 0s 929us/step - loss: 0.3880 - main_output_loss: 0.3716 - aux_output_loss: 0.5355 - val_loss: 0.4093 - val_main_output_loss: 0.3931 - val_aux_output_loss: 0.5548\n",
      "Epoch 18/20\n",
      "363/363 [==============================] - 0s 1ms/step - loss: 0.3827 - main_output_loss: 0.3668 - aux_output_loss: 0.5259 - val_loss: 0.4043 - val_main_output_loss: 0.3885 - val_aux_output_loss: 0.5466\n",
      "Epoch 19/20\n",
      "363/363 [==============================] - 0s 1ms/step - loss: 0.3805 - main_output_loss: 0.3653 - aux_output_loss: 0.5180 - val_loss: 0.3993 - val_main_output_loss: 0.3841 - val_aux_output_loss: 0.5357\n",
      "Epoch 20/20\n",
      "363/363 [==============================] - 0s 1ms/step - loss: 0.3758 - main_output_loss: 0.3610 - aux_output_loss: 0.5090 - val_loss: 0.4055 - val_main_output_loss: 0.3920 - val_aux_output_loss: 0.5271\n"
     ]
    }
   ],
   "source": [
    "history = model.fit(\n",
    "[X_train_A, X_train_B],[y_train, y_train], epochs=20,\n",
    "validation_data=([X_valid_A, X_valid_B],[y_valid, y_valid]))"
   ]
  },
  {
   "cell_type": "code",
   "execution_count": 47,
   "id": "887c2359",
   "metadata": {},
   "outputs": [
    {
     "name": "stdout",
     "output_type": "stream",
     "text": [
      "162/162 [==============================] - 0s 686us/step - loss: 0.3819 - main_output_loss: 0.3697 - aux_output_loss: 0.4913\n"
     ]
    }
   ],
   "source": [
    "total_loss, main_loss, aux_loss = model.evaluate([X_test_A, X_test_B], [y_test, y_test])"
   ]
  },
  {
   "cell_type": "code",
   "execution_count": 48,
   "id": "ea05b06f",
   "metadata": {},
   "outputs": [],
   "source": [
    "y_pred_main, y_pred_aux = model.predict([X_new_A, X_new_B])"
   ]
  },
  {
   "cell_type": "markdown",
   "id": "3e09955e",
   "metadata": {},
   "source": [
    "## Subclassing API"
   ]
  },
  {
   "cell_type": "code",
   "execution_count": 52,
   "id": "139b44b4",
   "metadata": {},
   "outputs": [],
   "source": [
    "class WideAndDeepModel(keras.Model):\n",
    "    \n",
    "    def __init__(self, units=30, activation=\"relu\", **kwargs):\n",
    "        super().__init__(**kwargs)# handles standard args (e.g., name)\n",
    "        self.hidden1 = keras.layers.Dense(units, activation=activation)\n",
    "        self.hidden2 = keras.layers.Dense(units, activation=activation)\n",
    "        self.main_output = keras.layers.Dense(1)\n",
    "        self.aux_output = keras.layers.Dense(1)\n",
    "        \n",
    "    def call(self,inputs):\n",
    "        input_A, input_B = inputs\n",
    "        hidden1 = self.hidden1(input_B)\n",
    "        hidden2 = self.hidden2(hidden1)\n",
    "        concat = keras.layers.concatenate([input_A, hidden2])\n",
    "        main_output = self.main_output(concat)\n",
    "        aux_output = self.aux_output(hidden2)\n",
    "        return main_output, aux_output\n",
    "\n",
    "model = WideAndDeepModel()"
   ]
  },
  {
   "cell_type": "markdown",
   "id": "47b4a65d",
   "metadata": {},
   "source": [
    "## Saving and Restoring"
   ]
  },
  {
   "cell_type": "code",
   "execution_count": 53,
   "id": "c923547a",
   "metadata": {},
   "outputs": [],
   "source": [
    "np.random.seed(42)\n",
    "tf.random.set_seed(42)"
   ]
  },
  {
   "cell_type": "code",
   "execution_count": 54,
   "id": "5349d59a",
   "metadata": {},
   "outputs": [],
   "source": [
    "model = keras.models.Sequential([\n",
    "    keras.layers.Dense(30, activation=\"relu\", input_shape=[8]),\n",
    "    keras.layers.Dense(30, activation=\"relu\"),\n",
    "    keras.layers.Dense(1)\n",
    "])"
   ]
  },
  {
   "cell_type": "code",
   "execution_count": 55,
   "id": "42051624",
   "metadata": {},
   "outputs": [
    {
     "name": "stdout",
     "output_type": "stream",
     "text": [
      "Epoch 1/10\n",
      "363/363 [==============================] - 1s 905us/step - loss: 1.8688 - val_loss: 0.7796\n",
      "Epoch 2/10\n",
      "363/363 [==============================] - 0s 670us/step - loss: 0.7040 - val_loss: 0.6453\n",
      "Epoch 3/10\n",
      "363/363 [==============================] - 0s 629us/step - loss: 0.6180 - val_loss: 0.6001\n",
      "Epoch 4/10\n",
      "363/363 [==============================] - 0s 661us/step - loss: 0.5762 - val_loss: 0.5717\n",
      "Epoch 5/10\n",
      "363/363 [==============================] - 0s 702us/step - loss: 0.5496 - val_loss: 0.5476\n",
      "Epoch 6/10\n",
      "363/363 [==============================] - 0s 653us/step - loss: 0.5267 - val_loss: 0.5303\n",
      "Epoch 7/10\n",
      "363/363 [==============================] - 0s 632us/step - loss: 0.5100 - val_loss: 0.5157\n",
      "Epoch 8/10\n",
      "363/363 [==============================] - 0s 644us/step - loss: 0.4960 - val_loss: 0.5045\n",
      "Epoch 9/10\n",
      "363/363 [==============================] - 0s 688us/step - loss: 0.4856 - val_loss: 0.4955\n",
      "Epoch 10/10\n",
      "363/363 [==============================] - 0s 624us/step - loss: 0.4771 - val_loss: 0.4883\n",
      "162/162 [==============================] - 0s 518us/step - loss: 0.4842\n"
     ]
    }
   ],
   "source": [
    "model.compile(loss=\"mse\", optimizer=keras.optimizers.SGD(learning_rate=1e-3))\n",
    "history = model.fit(X_train, y_train, epochs=10, validation_data=(X_valid, y_valid))\n",
    "mse_test = model.evaluate(X_test, y_test)"
   ]
  },
  {
   "cell_type": "code",
   "execution_count": 56,
   "id": "434ec9cc",
   "metadata": {},
   "outputs": [],
   "source": [
    "model.save(\"my_keras_model.h5\")"
   ]
  },
  {
   "cell_type": "code",
   "execution_count": 57,
   "id": "d9ad3fca",
   "metadata": {},
   "outputs": [],
   "source": [
    "model = keras.models.load_model(\"my_keras_model.h5\")"
   ]
  },
  {
   "cell_type": "markdown",
   "id": "5cd677ee",
   "metadata": {},
   "source": [
    "## Using Callbacks during Training"
   ]
  },
  {
   "cell_type": "code",
   "execution_count": 58,
   "id": "74a82d4d",
   "metadata": {},
   "outputs": [],
   "source": [
    "keras.backend.clear_session()\n",
    "np.random.seed(42)\n",
    "tf.random.set_seed(42)"
   ]
  },
  {
   "cell_type": "code",
   "execution_count": 59,
   "id": "d7db9d9a",
   "metadata": {},
   "outputs": [],
   "source": [
    "model = keras.models.Sequential([\n",
    "    keras.layers.Dense(30, activation=\"relu\", input_shape=[8]),\n",
    "    keras.layers.Dense(30, activation=\"relu\"),\n",
    "    keras.layers.Dense(1)\n",
    "])    "
   ]
  },
  {
   "cell_type": "code",
   "execution_count": 60,
   "id": "826a3792",
   "metadata": {},
   "outputs": [
    {
     "name": "stdout",
     "output_type": "stream",
     "text": [
      "Epoch 1/10\n",
      "363/363 [==============================] - 1s 942us/step - loss: 1.8688 - val_loss: 0.7796\n",
      "Epoch 2/10\n",
      "363/363 [==============================] - 0s 688us/step - loss: 0.7040 - val_loss: 0.6453\n",
      "Epoch 3/10\n",
      "363/363 [==============================] - 0s 675us/step - loss: 0.6180 - val_loss: 0.6001\n",
      "Epoch 4/10\n",
      "363/363 [==============================] - 0s 835us/step - loss: 0.5762 - val_loss: 0.5717\n",
      "Epoch 5/10\n",
      "363/363 [==============================] - 0s 675us/step - loss: 0.5496 - val_loss: 0.5476\n",
      "Epoch 6/10\n",
      "363/363 [==============================] - 0s 728us/step - loss: 0.5267 - val_loss: 0.5303\n",
      "Epoch 7/10\n",
      "363/363 [==============================] - 0s 684us/step - loss: 0.5100 - val_loss: 0.5157\n",
      "Epoch 8/10\n",
      "363/363 [==============================] - 0s 720us/step - loss: 0.4960 - val_loss: 0.5045\n",
      "Epoch 9/10\n",
      "363/363 [==============================] - 0s 681us/step - loss: 0.4856 - val_loss: 0.4955\n",
      "Epoch 10/10\n",
      "363/363 [==============================] - 0s 733us/step - loss: 0.4771 - val_loss: 0.4883\n",
      "162/162 [==============================] - 0s 424us/step - loss: 0.4842\n"
     ]
    }
   ],
   "source": [
    "model.compile(loss=\"mse\", optimizer=keras.optimizers.SGD(learning_rate=1e-3))\n",
    "checkpoint_cb = keras.callbacks.ModelCheckpoint(\"my_keras_model.h5\", save_best_only=True)\n",
    "history = model.fit(X_train, y_train, epochs=10,\n",
    "                    validation_data=(X_valid, y_valid),\n",
    "                    callbacks=[checkpoint_cb])\n",
    "model = keras.models.load_model(\"my_keras_model.h5\") # rollback to best model\n",
    "mse_test = model.evaluate(X_test, y_test)"
   ]
  },
  {
   "cell_type": "code",
   "execution_count": 61,
   "id": "5ee2c599",
   "metadata": {},
   "outputs": [
    {
     "name": "stdout",
     "output_type": "stream",
     "text": [
      "Epoch 1/100\n",
      "363/363 [==============================] - 1s 944us/step - loss: 0.4696 - val_loss: 0.4839\n",
      "Epoch 2/100\n",
      "363/363 [==============================] - 0s 725us/step - loss: 0.4642 - val_loss: 0.4775\n",
      "Epoch 3/100\n",
      "363/363 [==============================] - 0s 659us/step - loss: 0.4595 - val_loss: 0.4728\n",
      "Epoch 4/100\n",
      "363/363 [==============================] - 0s 755us/step - loss: 0.4550 - val_loss: 0.4719\n",
      "Epoch 5/100\n",
      "363/363 [==============================] - 0s 698us/step - loss: 0.4533 - val_loss: 0.4663\n",
      "Epoch 6/100\n",
      "363/363 [==============================] - 0s 705us/step - loss: 0.4484 - val_loss: 0.4643\n",
      "Epoch 7/100\n",
      "363/363 [==============================] - 0s 684us/step - loss: 0.4457 - val_loss: 0.4614\n",
      "Epoch 8/100\n",
      "363/363 [==============================] - 0s 688us/step - loss: 0.4428 - val_loss: 0.4594\n",
      "Epoch 9/100\n",
      "363/363 [==============================] - 0s 744us/step - loss: 0.4407 - val_loss: 0.4571\n",
      "Epoch 10/100\n",
      "363/363 [==============================] - 0s 685us/step - loss: 0.4388 - val_loss: 0.4549\n",
      "Epoch 11/100\n",
      "363/363 [==============================] - 0s 718us/step - loss: 0.4363 - val_loss: 0.4533\n",
      "Epoch 12/100\n",
      "363/363 [==============================] - 0s 827us/step - loss: 0.4345 - val_loss: 0.4510\n",
      "Epoch 13/100\n",
      "363/363 [==============================] - 0s 925us/step - loss: 0.4325 - val_loss: 0.4489\n",
      "Epoch 14/100\n",
      "363/363 [==============================] - 0s 834us/step - loss: 0.4307 - val_loss: 0.4476\n",
      "Epoch 15/100\n",
      "363/363 [==============================] - 0s 863us/step - loss: 0.4288 - val_loss: 0.4475\n",
      "Epoch 16/100\n",
      "363/363 [==============================] - 0s 753us/step - loss: 0.4273 - val_loss: 0.4446\n",
      "Epoch 17/100\n",
      "363/363 [==============================] - 0s 767us/step - loss: 0.4253 - val_loss: 0.4450\n",
      "Epoch 18/100\n",
      "363/363 [==============================] - 0s 748us/step - loss: 0.4244 - val_loss: 0.4423\n",
      "Epoch 19/100\n",
      "363/363 [==============================] - 0s 825us/step - loss: 0.4226 - val_loss: 0.4412\n",
      "Epoch 20/100\n",
      "363/363 [==============================] - 0s 844us/step - loss: 0.4211 - val_loss: 0.4415\n",
      "Epoch 21/100\n",
      "363/363 [==============================] - 0s 820us/step - loss: 0.4195 - val_loss: 0.4401\n",
      "Epoch 22/100\n",
      "363/363 [==============================] - 0s 737us/step - loss: 0.4190 - val_loss: 0.4385\n",
      "Epoch 23/100\n",
      "363/363 [==============================] - 0s 764us/step - loss: 0.4170 - val_loss: 0.4369\n",
      "Epoch 24/100\n",
      "363/363 [==============================] - 0s 813us/step - loss: 0.4164 - val_loss: 0.4346\n",
      "Epoch 25/100\n",
      "363/363 [==============================] - 0s 693us/step - loss: 0.4144 - val_loss: 0.4360\n",
      "Epoch 26/100\n",
      "363/363 [==============================] - 0s 698us/step - loss: 0.4139 - val_loss: 0.4349\n",
      "Epoch 27/100\n",
      "363/363 [==============================] - 0s 685us/step - loss: 0.4122 - val_loss: 0.4328\n",
      "Epoch 28/100\n",
      "363/363 [==============================] - 0s 654us/step - loss: 0.4111 - val_loss: 0.4308\n",
      "Epoch 29/100\n",
      "363/363 [==============================] - 0s 626us/step - loss: 0.4098 - val_loss: 0.4313\n",
      "Epoch 30/100\n",
      "363/363 [==============================] - 0s 818us/step - loss: 0.4092 - val_loss: 0.4294\n",
      "Epoch 31/100\n",
      "363/363 [==============================] - 0s 734us/step - loss: 0.4076 - val_loss: 0.4335\n",
      "Epoch 32/100\n",
      "363/363 [==============================] - 0s 835us/step - loss: 0.4079 - val_loss: 0.4288\n",
      "Epoch 33/100\n",
      "363/363 [==============================] - 0s 888us/step - loss: 0.4052 - val_loss: 0.4282\n",
      "Epoch 34/100\n",
      "363/363 [==============================] - 0s 821us/step - loss: 0.4035 - val_loss: 0.4278\n",
      "Epoch 35/100\n",
      "363/363 [==============================] - 0s 853us/step - loss: 0.4049 - val_loss: 0.4252\n",
      "Epoch 36/100\n",
      "363/363 [==============================] - 0s 818us/step - loss: 0.4053 - val_loss: 0.4256\n",
      "Epoch 37/100\n",
      "363/363 [==============================] - 0s 817us/step - loss: 0.4025 - val_loss: 0.4241\n",
      "Epoch 38/100\n",
      "363/363 [==============================] - 0s 810us/step - loss: 0.4024 - val_loss: 0.4224\n",
      "Epoch 39/100\n",
      "363/363 [==============================] - 0s 819us/step - loss: 0.3992 - val_loss: 0.4230\n",
      "Epoch 40/100\n",
      "363/363 [==============================] - 0s 773us/step - loss: 0.3983 - val_loss: 0.4211\n",
      "Epoch 41/100\n",
      "363/363 [==============================] - 0s 779us/step - loss: 0.3970 - val_loss: 0.4196\n",
      "Epoch 42/100\n",
      "363/363 [==============================] - 0s 686us/step - loss: 0.3961 - val_loss: 0.4201\n",
      "Epoch 43/100\n",
      "363/363 [==============================] - 0s 682us/step - loss: 0.3948 - val_loss: 0.4172\n",
      "Epoch 44/100\n",
      "363/363 [==============================] - 0s 737us/step - loss: 0.3942 - val_loss: 0.4157\n",
      "Epoch 45/100\n",
      "363/363 [==============================] - 0s 710us/step - loss: 0.3931 - val_loss: 0.4160\n",
      "Epoch 46/100\n",
      "363/363 [==============================] - 0s 755us/step - loss: 0.3923 - val_loss: 0.4149\n",
      "Epoch 47/100\n",
      "363/363 [==============================] - 0s 768us/step - loss: 0.3912 - val_loss: 0.4145\n",
      "Epoch 48/100\n",
      "363/363 [==============================] - 0s 757us/step - loss: 0.3904 - val_loss: 0.4123\n",
      "Epoch 49/100\n",
      "363/363 [==============================] - 0s 708us/step - loss: 0.3890 - val_loss: 0.4125\n",
      "Epoch 50/100\n",
      "363/363 [==============================] - 0s 788us/step - loss: 0.3884 - val_loss: 0.4133\n",
      "Epoch 51/100\n",
      "363/363 [==============================] - 0s 868us/step - loss: 0.3873 - val_loss: 0.4103\n",
      "Epoch 52/100\n",
      "363/363 [==============================] - 0s 818us/step - loss: 0.3867 - val_loss: 0.4117\n",
      "Epoch 53/100\n",
      "363/363 [==============================] - 0s 716us/step - loss: 0.3859 - val_loss: 0.4083\n",
      "Epoch 54/100\n",
      "363/363 [==============================] - 0s 851us/step - loss: 0.3847 - val_loss: 0.4076\n",
      "Epoch 55/100\n",
      "363/363 [==============================] - 0s 727us/step - loss: 0.3839 - val_loss: 0.4079\n",
      "Epoch 56/100\n",
      "363/363 [==============================] - 0s 751us/step - loss: 0.3831 - val_loss: 0.4063\n",
      "Epoch 57/100\n",
      "363/363 [==============================] - 0s 942us/step - loss: 0.3820 - val_loss: 0.4056\n",
      "Epoch 58/100\n",
      "363/363 [==============================] - 0s 843us/step - loss: 0.3814 - val_loss: 0.4039\n",
      "Epoch 59/100\n",
      "363/363 [==============================] - 0s 760us/step - loss: 0.3805 - val_loss: 0.4034\n",
      "Epoch 60/100\n",
      "363/363 [==============================] - 0s 715us/step - loss: 0.3796 - val_loss: 0.4044\n",
      "Epoch 61/100\n",
      "363/363 [==============================] - 0s 720us/step - loss: 0.3789 - val_loss: 0.4026\n",
      "Epoch 62/100\n",
      "363/363 [==============================] - 0s 709us/step - loss: 0.3779 - val_loss: 0.4042\n",
      "Epoch 63/100\n",
      "363/363 [==============================] - 0s 738us/step - loss: 0.3776 - val_loss: 0.4007\n",
      "Epoch 64/100\n",
      "363/363 [==============================] - 0s 739us/step - loss: 0.3761 - val_loss: 0.4021\n",
      "Epoch 65/100\n",
      "363/363 [==============================] - 0s 768us/step - loss: 0.3756 - val_loss: 0.4013\n",
      "Epoch 66/100\n",
      "363/363 [==============================] - 0s 853us/step - loss: 0.3752 - val_loss: 0.3989\n",
      "Epoch 67/100\n",
      "363/363 [==============================] - 0s 809us/step - loss: 0.3746 - val_loss: 0.3987\n",
      "Epoch 68/100\n",
      "363/363 [==============================] - 0s 688us/step - loss: 0.3729 - val_loss: 0.3997\n",
      "Epoch 69/100\n",
      "363/363 [==============================] - 0s 678us/step - loss: 0.3724 - val_loss: 0.4011\n",
      "Epoch 70/100\n",
      "363/363 [==============================] - 0s 713us/step - loss: 0.3718 - val_loss: 0.3997\n",
      "Epoch 71/100\n",
      "363/363 [==============================] - 0s 689us/step - loss: 0.3712 - val_loss: 0.3953\n",
      "Epoch 72/100\n",
      "363/363 [==============================] - 0s 728us/step - loss: 0.3703 - val_loss: 0.3964\n",
      "Epoch 73/100\n",
      "363/363 [==============================] - 0s 745us/step - loss: 0.3699 - val_loss: 0.3936\n",
      "Epoch 74/100\n",
      "363/363 [==============================] - 0s 720us/step - loss: 0.3698 - val_loss: 0.3940\n",
      "Epoch 75/100\n",
      "363/363 [==============================] - 0s 762us/step - loss: 0.3679 - val_loss: 0.3924\n",
      "Epoch 76/100\n",
      "363/363 [==============================] - 0s 769us/step - loss: 0.3672 - val_loss: 0.3920\n",
      "Epoch 77/100\n",
      "363/363 [==============================] - 0s 717us/step - loss: 0.3664 - val_loss: 0.3915\n",
      "Epoch 78/100\n",
      "363/363 [==============================] - 0s 736us/step - loss: 0.3658 - val_loss: 0.3942\n",
      "Epoch 79/100\n",
      "363/363 [==============================] - 0s 688us/step - loss: 0.3656 - val_loss: 0.3897\n"
     ]
    },
    {
     "name": "stdout",
     "output_type": "stream",
     "text": [
      "Epoch 80/100\n",
      "363/363 [==============================] - 0s 654us/step - loss: 0.3641 - val_loss: 0.3901\n",
      "Epoch 81/100\n",
      "363/363 [==============================] - 0s 661us/step - loss: 0.3640 - val_loss: 0.3884\n",
      "Epoch 82/100\n",
      "363/363 [==============================] - 0s 643us/step - loss: 0.3641 - val_loss: 0.3912\n",
      "Epoch 83/100\n",
      "363/363 [==============================] - 0s 905us/step - loss: 0.3622 - val_loss: 0.3890\n",
      "Epoch 84/100\n",
      "363/363 [==============================] - 0s 888us/step - loss: 0.3621 - val_loss: 0.3879\n",
      "Epoch 85/100\n",
      "363/363 [==============================] - 0s 795us/step - loss: 0.3605 - val_loss: 0.3879\n",
      "Epoch 86/100\n",
      "363/363 [==============================] - 0s 778us/step - loss: 0.3601 - val_loss: 0.3863\n",
      "Epoch 87/100\n",
      "363/363 [==============================] - 0s 725us/step - loss: 0.3592 - val_loss: 0.3851\n",
      "Epoch 88/100\n",
      "363/363 [==============================] - 0s 746us/step - loss: 0.3588 - val_loss: 0.3856\n",
      "Epoch 89/100\n",
      "363/363 [==============================] - 0s 879us/step - loss: 0.3580 - val_loss: 0.3849\n",
      "Epoch 90/100\n",
      "363/363 [==============================] - 0s 966us/step - loss: 0.3582 - val_loss: 0.3892\n",
      "Epoch 91/100\n",
      "363/363 [==============================] - 0s 850us/step - loss: 0.3600 - val_loss: 0.3816\n",
      "Epoch 92/100\n",
      "363/363 [==============================] - 0s 842us/step - loss: 0.3577 - val_loss: 0.3905\n",
      "Epoch 93/100\n",
      "363/363 [==============================] - 0s 766us/step - loss: 0.3576 - val_loss: 0.3831\n",
      "Epoch 94/100\n",
      "363/363 [==============================] - 0s 710us/step - loss: 0.3554 - val_loss: 0.3870\n",
      "Epoch 95/100\n",
      "363/363 [==============================] - 0s 853us/step - loss: 0.3590 - val_loss: 0.3804\n",
      "Epoch 96/100\n",
      "363/363 [==============================] - 0s 764us/step - loss: 0.3551 - val_loss: 0.3898\n",
      "Epoch 97/100\n",
      "363/363 [==============================] - 0s 661us/step - loss: 0.3607 - val_loss: 0.3803\n",
      "Epoch 98/100\n",
      "363/363 [==============================] - 0s 689us/step - loss: 0.3613 - val_loss: 0.3831\n",
      "Epoch 99/100\n",
      "363/363 [==============================] - 0s 745us/step - loss: 0.3541 - val_loss: 0.3783\n",
      "Epoch 100/100\n",
      "363/363 [==============================] - 0s 712us/step - loss: 0.3532 - val_loss: 0.3850\n",
      "162/162 [==============================] - 0s 497us/step - loss: 0.3682\n"
     ]
    }
   ],
   "source": [
    "model.compile(loss=\"mse\", optimizer=keras.optimizers.SGD(learning_rate=1e-3))\n",
    "early_stopping_cb = keras.callbacks.EarlyStopping(patience=10,\n",
    "                                                  restore_best_weights=True)\n",
    "history = model.fit(X_train, y_train, epochs=100,\n",
    "                    validation_data=(X_valid, y_valid),\n",
    "                    callbacks=[checkpoint_cb, early_stopping_cb])\n",
    "mse_test = model.evaluate(X_test, y_test)"
   ]
  },
  {
   "cell_type": "code",
   "execution_count": null,
   "id": "b8546e1f",
   "metadata": {},
   "outputs": [],
   "source": []
  }
 ],
 "metadata": {
  "kernelspec": {
   "display_name": "Python 3 (ipykernel)",
   "language": "python",
   "name": "python3"
  },
  "language_info": {
   "codemirror_mode": {
    "name": "ipython",
    "version": 3
   },
   "file_extension": ".py",
   "mimetype": "text/x-python",
   "name": "python",
   "nbconvert_exporter": "python",
   "pygments_lexer": "ipython3",
   "version": "3.9.5"
  }
 },
 "nbformat": 4,
 "nbformat_minor": 5
}
