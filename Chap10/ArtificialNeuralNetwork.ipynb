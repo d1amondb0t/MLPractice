{
 "cells": [
  {
   "cell_type": "markdown",
   "id": "2daee212",
   "metadata": {},
   "source": [
    "# Setup"
   ]
  },
  {
   "cell_type": "code",
   "execution_count": 1,
   "id": "7b714614",
   "metadata": {},
   "outputs": [],
   "source": [
    "# Python ≥3.5 is required\n",
    "import sys\n",
    "assert sys.version_info >= (3, 5)\n",
    "\n",
    "# Scikit-Learn ≥0.20 is required\n",
    "import sklearn\n",
    "assert sklearn.__version__ >= \"0.20\"\n",
    "\n",
    "try:\n",
    "    # %tensorflow_version only exists in Colab.\n",
    "    %tensorflow_version 2.x\n",
    "except Exception:\n",
    "    pass\n",
    "\n",
    "# TensorFlow ≥2.0 is required\n",
    "import tensorflow as tf\n",
    "assert tf.__version__ >= \"2.0\"\n",
    "\n",
    "# Common imports\n",
    "import numpy as np\n",
    "import os\n",
    "\n",
    "# to make this notebook's output stable across runs\n",
    "np.random.seed(42)\n",
    "\n",
    "# To plot pretty figures\n",
    "%matplotlib inline\n",
    "import matplotlib as mpl\n",
    "import matplotlib.pyplot as plt\n",
    "mpl.rc('axes', labelsize=14)\n",
    "mpl.rc('xtick', labelsize=12)\n",
    "mpl.rc('ytick', labelsize=12)\n",
    "\n",
    "# Where to save the figures\n",
    "PROJECT_ROOT_DIR = \".\"\n",
    "CHAPTER_ID = \"ann\"\n",
    "IMAGES_PATH = os.path.join(PROJECT_ROOT_DIR, \"images\", CHAPTER_ID)\n",
    "os.makedirs(IMAGES_PATH, exist_ok=True)\n",
    "\n",
    "def save_fig(fig_id, tight_layout=True, fig_extension=\"png\", resolution=300):\n",
    "    path = os.path.join(IMAGES_PATH, fig_id + \".\" + fig_extension)\n",
    "    print(\"Saving figure\", fig_id)\n",
    "    if tight_layout:\n",
    "        plt.tight_layout()\n",
    "    plt.savefig(path, format=fig_extension, dpi=resolution)"
   ]
  },
  {
   "cell_type": "markdown",
   "id": "dd62a818",
   "metadata": {},
   "source": [
    "## Perceptrons"
   ]
  },
  {
   "cell_type": "code",
   "execution_count": 2,
   "id": "16e3abc8",
   "metadata": {},
   "outputs": [],
   "source": [
    "from sklearn.datasets import load_iris\n",
    "from sklearn.linear_model import Perceptron\n",
    "\n",
    "iris = load_iris()\n",
    "X = iris.data[:, (2,3)]#petal length,petal width\n",
    "y = (iris.target == 0).astype(np.int)#iris setosa\n",
    "\n",
    "per_clf = Perceptron()\n",
    "per_clf.fit(X,y)\n",
    "\n",
    "y_pred = per_clf.predict([[2, 0.5]])"
   ]
  },
  {
   "cell_type": "markdown",
   "id": "eb7154ff",
   "metadata": {},
   "source": [
    "## Building an Image Classifier "
   ]
  },
  {
   "cell_type": "code",
   "execution_count": 3,
   "id": "d6d9ee26",
   "metadata": {},
   "outputs": [
    {
     "data": {
      "text/plain": [
       "'2.7.0'"
      ]
     },
     "execution_count": 3,
     "metadata": {},
     "output_type": "execute_result"
    }
   ],
   "source": [
    "import tensorflow as tf\n",
    "from tensorflow import keras\n",
    "\n",
    "tf.__version__"
   ]
  },
  {
   "cell_type": "code",
   "execution_count": 4,
   "id": "8860e715",
   "metadata": {},
   "outputs": [
    {
     "data": {
      "text/plain": [
       "'2.7.0'"
      ]
     },
     "execution_count": 4,
     "metadata": {},
     "output_type": "execute_result"
    }
   ],
   "source": [
    "keras.__version__"
   ]
  },
  {
   "cell_type": "code",
   "execution_count": 5,
   "id": "efd80662",
   "metadata": {},
   "outputs": [],
   "source": [
    "fashion_mnist = keras.datasets.fashion_mnist\n",
    "(X_train_full, y_train_full), (X_test, y_test)= fashion_mnist.load_data()"
   ]
  },
  {
   "cell_type": "code",
   "execution_count": 6,
   "id": "59c70cda",
   "metadata": {},
   "outputs": [
    {
     "data": {
      "text/plain": [
       "(60000, 28, 28)"
      ]
     },
     "execution_count": 6,
     "metadata": {},
     "output_type": "execute_result"
    }
   ],
   "source": [
    "X_train_full.shape"
   ]
  },
  {
   "cell_type": "code",
   "execution_count": 7,
   "id": "78c44c4e",
   "metadata": {},
   "outputs": [
    {
     "data": {
      "text/plain": [
       "dtype('uint8')"
      ]
     },
     "execution_count": 7,
     "metadata": {},
     "output_type": "execute_result"
    }
   ],
   "source": [
    "X_train_full.dtype"
   ]
  },
  {
   "cell_type": "code",
   "execution_count": 8,
   "id": "b08cc2ee",
   "metadata": {},
   "outputs": [],
   "source": [
    "X_valid, X_train = X_train_full[:5000]/255.0, X_train_full[5000:]/255.0\n",
    "y_valid, y_train = y_train_full[:5000], y_train_full[5000:]\n",
    "X_test = X_test/255.0"
   ]
  },
  {
   "cell_type": "code",
   "execution_count": 9,
   "id": "5ddc10c0",
   "metadata": {},
   "outputs": [],
   "source": [
    "class_names=[\"T-shirt/top\", \"Trouser\", \"Pullover\", \"Dress\",\n",
    "             \"Coat\", \"Sandall\", \"Shirt\", \"Sneaker\", \"Bag\", \"Ankle Boot\"]\n"
   ]
  },
  {
   "cell_type": "code",
   "execution_count": 10,
   "id": "4aefd2bc",
   "metadata": {},
   "outputs": [
    {
     "data": {
      "text/plain": [
       "'Coat'"
      ]
     },
     "execution_count": 10,
     "metadata": {},
     "output_type": "execute_result"
    }
   ],
   "source": [
    "class_names[y_train[0]]"
   ]
  },
  {
   "cell_type": "code",
   "execution_count": 11,
   "id": "234be228",
   "metadata": {},
   "outputs": [],
   "source": [
    "model = keras.models.Sequential()\n",
    "model.add(keras.layers.Flatten(input_shape=[28,28]))\n",
    "model.add(keras.layers.Dense(300, activation=\"relu\"))\n",
    "model.add(keras.layers.Dense(100, activation=\"relu\"))\n",
    "model.add(keras.layers.Dense(10, activation=\"softmax\"))"
   ]
  },
  {
   "cell_type": "code",
   "execution_count": 12,
   "id": "426ca6c1",
   "metadata": {},
   "outputs": [],
   "source": [
    "model = keras.models.Sequential([\n",
    "    keras.layers.Flatten(input_shape=[28,28]),\n",
    "    keras.layers.Dense(300, activation=\"relu\"),\n",
    "    keras.layers.Dense(100, activation=\"relu\"),\n",
    "    keras.layers.Dense(10, activation=\"softmax\")\n",
    "])"
   ]
  },
  {
   "cell_type": "code",
   "execution_count": 13,
   "id": "cfd9b36b",
   "metadata": {},
   "outputs": [
    {
     "name": "stdout",
     "output_type": "stream",
     "text": [
      "Model: \"sequential_1\"\n",
      "_________________________________________________________________\n",
      " Layer (type)                Output Shape              Param #   \n",
      "=================================================================\n",
      " flatten_1 (Flatten)         (None, 784)               0         \n",
      "                                                                 \n",
      " dense_3 (Dense)             (None, 300)               235500    \n",
      "                                                                 \n",
      " dense_4 (Dense)             (None, 100)               30100     \n",
      "                                                                 \n",
      " dense_5 (Dense)             (None, 10)                1010      \n",
      "                                                                 \n",
      "=================================================================\n",
      "Total params: 266,610\n",
      "Trainable params: 266,610\n",
      "Non-trainable params: 0\n",
      "_________________________________________________________________\n"
     ]
    }
   ],
   "source": [
    "model.summary()"
   ]
  },
  {
   "cell_type": "code",
   "execution_count": 14,
   "id": "9c60acbd",
   "metadata": {},
   "outputs": [
    {
     "data": {
      "text/plain": [
       "[<keras.layers.core.flatten.Flatten at 0x227398b7610>,\n",
       " <keras.layers.core.dense.Dense at 0x227398b73d0>,\n",
       " <keras.layers.core.dense.Dense at 0x227398ad700>,\n",
       " <keras.layers.core.dense.Dense at 0x22733a7d580>]"
      ]
     },
     "execution_count": 14,
     "metadata": {},
     "output_type": "execute_result"
    }
   ],
   "source": [
    "model.layers"
   ]
  },
  {
   "cell_type": "code",
   "execution_count": 15,
   "id": "a9c857f9",
   "metadata": {},
   "outputs": [],
   "source": [
    "hidden1 = model.layers[1]"
   ]
  },
  {
   "cell_type": "code",
   "execution_count": 16,
   "id": "6889490c",
   "metadata": {},
   "outputs": [
    {
     "data": {
      "text/plain": [
       "'dense_3'"
      ]
     },
     "execution_count": 16,
     "metadata": {},
     "output_type": "execute_result"
    }
   ],
   "source": [
    "hidden1.name"
   ]
  },
  {
   "cell_type": "code",
   "execution_count": 17,
   "id": "88a459ae",
   "metadata": {},
   "outputs": [
    {
     "data": {
      "text/plain": [
       "True"
      ]
     },
     "execution_count": 17,
     "metadata": {},
     "output_type": "execute_result"
    }
   ],
   "source": [
    "model.get_layer(hidden1.name) is hidden1"
   ]
  },
  {
   "cell_type": "code",
   "execution_count": 18,
   "id": "b4075ba8",
   "metadata": {},
   "outputs": [],
   "source": [
    "weights, biases = hidden1.get_weights()"
   ]
  },
  {
   "cell_type": "code",
   "execution_count": 19,
   "id": "3752a831",
   "metadata": {},
   "outputs": [
    {
     "data": {
      "text/plain": [
       "array([[-0.071284  ,  0.05430825, -0.05944036, ..., -0.07311728,\n",
       "        -0.02870403,  0.07313746],\n",
       "       [ 0.06960812, -0.02895041, -0.02541425, ..., -0.03314717,\n",
       "        -0.0491177 ,  0.02885179],\n",
       "       [-0.06004122, -0.02408258, -0.02599208, ...,  0.03055647,\n",
       "        -0.06561356,  0.00283109],\n",
       "       ...,\n",
       "       [ 0.06675242, -0.07051579, -0.04867902, ...,  0.02390163,\n",
       "         0.05915123,  0.00740178],\n",
       "       [ 0.03152055, -0.03391364,  0.03793524, ..., -0.04107698,\n",
       "         0.00755588, -0.03723736],\n",
       "       [-0.05556557, -0.01001889,  0.01428188, ..., -0.04004489,\n",
       "         0.01395114,  0.02059972]], dtype=float32)"
      ]
     },
     "execution_count": 19,
     "metadata": {},
     "output_type": "execute_result"
    }
   ],
   "source": [
    "weights"
   ]
  },
  {
   "cell_type": "code",
   "execution_count": 20,
   "id": "d7d33a14",
   "metadata": {},
   "outputs": [
    {
     "data": {
      "text/plain": [
       "(784, 300)"
      ]
     },
     "execution_count": 20,
     "metadata": {},
     "output_type": "execute_result"
    }
   ],
   "source": [
    "weights.shape"
   ]
  },
  {
   "cell_type": "code",
   "execution_count": 21,
   "id": "fc1b1682",
   "metadata": {},
   "outputs": [
    {
     "data": {
      "text/plain": [
       "array([0., 0., 0., 0., 0., 0., 0., 0., 0., 0., 0., 0., 0., 0., 0., 0., 0.,\n",
       "       0., 0., 0., 0., 0., 0., 0., 0., 0., 0., 0., 0., 0., 0., 0., 0., 0.,\n",
       "       0., 0., 0., 0., 0., 0., 0., 0., 0., 0., 0., 0., 0., 0., 0., 0., 0.,\n",
       "       0., 0., 0., 0., 0., 0., 0., 0., 0., 0., 0., 0., 0., 0., 0., 0., 0.,\n",
       "       0., 0., 0., 0., 0., 0., 0., 0., 0., 0., 0., 0., 0., 0., 0., 0., 0.,\n",
       "       0., 0., 0., 0., 0., 0., 0., 0., 0., 0., 0., 0., 0., 0., 0., 0., 0.,\n",
       "       0., 0., 0., 0., 0., 0., 0., 0., 0., 0., 0., 0., 0., 0., 0., 0., 0.,\n",
       "       0., 0., 0., 0., 0., 0., 0., 0., 0., 0., 0., 0., 0., 0., 0., 0., 0.,\n",
       "       0., 0., 0., 0., 0., 0., 0., 0., 0., 0., 0., 0., 0., 0., 0., 0., 0.,\n",
       "       0., 0., 0., 0., 0., 0., 0., 0., 0., 0., 0., 0., 0., 0., 0., 0., 0.,\n",
       "       0., 0., 0., 0., 0., 0., 0., 0., 0., 0., 0., 0., 0., 0., 0., 0., 0.,\n",
       "       0., 0., 0., 0., 0., 0., 0., 0., 0., 0., 0., 0., 0., 0., 0., 0., 0.,\n",
       "       0., 0., 0., 0., 0., 0., 0., 0., 0., 0., 0., 0., 0., 0., 0., 0., 0.,\n",
       "       0., 0., 0., 0., 0., 0., 0., 0., 0., 0., 0., 0., 0., 0., 0., 0., 0.,\n",
       "       0., 0., 0., 0., 0., 0., 0., 0., 0., 0., 0., 0., 0., 0., 0., 0., 0.,\n",
       "       0., 0., 0., 0., 0., 0., 0., 0., 0., 0., 0., 0., 0., 0., 0., 0., 0.,\n",
       "       0., 0., 0., 0., 0., 0., 0., 0., 0., 0., 0., 0., 0., 0., 0., 0., 0.,\n",
       "       0., 0., 0., 0., 0., 0., 0., 0., 0., 0., 0.], dtype=float32)"
      ]
     },
     "execution_count": 21,
     "metadata": {},
     "output_type": "execute_result"
    }
   ],
   "source": [
    "biases"
   ]
  },
  {
   "cell_type": "code",
   "execution_count": 22,
   "id": "7602d3d2",
   "metadata": {},
   "outputs": [
    {
     "data": {
      "text/plain": [
       "(300,)"
      ]
     },
     "execution_count": 22,
     "metadata": {},
     "output_type": "execute_result"
    }
   ],
   "source": [
    "biases.shape"
   ]
  },
  {
   "cell_type": "code",
   "execution_count": 23,
   "id": "ecdd2cd2",
   "metadata": {},
   "outputs": [],
   "source": [
    "model.compile(loss=\"sparse_categorical_crossentropy\", optimizer=\"sgd\", metrics=[\"accuracy\"])"
   ]
  },
  {
   "cell_type": "code",
   "execution_count": 24,
   "id": "2ac00443",
   "metadata": {},
   "outputs": [
    {
     "name": "stdout",
     "output_type": "stream",
     "text": [
      "Epoch 1/30\n",
      "1719/1719 [==============================] - 2s 1ms/step - loss: 0.7143 - accuracy: 0.7660 - val_loss: 0.5183 - val_accuracy: 0.8230\n",
      "Epoch 2/30\n",
      "1719/1719 [==============================] - 2s 906us/step - loss: 0.4844 - accuracy: 0.8311 - val_loss: 0.4740 - val_accuracy: 0.8406\n",
      "Epoch 3/30\n",
      "1719/1719 [==============================] - 1s 870us/step - loss: 0.4396 - accuracy: 0.8475 - val_loss: 0.4119 - val_accuracy: 0.8622\n",
      "Epoch 4/30\n",
      "1719/1719 [==============================] - 2s 971us/step - loss: 0.4131 - accuracy: 0.8546 - val_loss: 0.4010 - val_accuracy: 0.8624\n",
      "Epoch 5/30\n",
      "1719/1719 [==============================] - 2s 963us/step - loss: 0.3920 - accuracy: 0.8617 - val_loss: 0.3852 - val_accuracy: 0.8624\n",
      "Epoch 6/30\n",
      "1719/1719 [==============================] - 2s 971us/step - loss: 0.3766 - accuracy: 0.8666 - val_loss: 0.3879 - val_accuracy: 0.8660\n",
      "Epoch 7/30\n",
      "1719/1719 [==============================] - 2s 1ms/step - loss: 0.3627 - accuracy: 0.8714 - val_loss: 0.3682 - val_accuracy: 0.8704\n",
      "Epoch 8/30\n",
      "1719/1719 [==============================] - 2s 1ms/step - loss: 0.3518 - accuracy: 0.8738 - val_loss: 0.3563 - val_accuracy: 0.8748\n",
      "Epoch 9/30\n",
      "1719/1719 [==============================] - 3s 2ms/step - loss: 0.3402 - accuracy: 0.8792 - val_loss: 0.3532 - val_accuracy: 0.8724\n",
      "Epoch 10/30\n",
      "1719/1719 [==============================] - 3s 2ms/step - loss: 0.3310 - accuracy: 0.8828 - val_loss: 0.3624 - val_accuracy: 0.8706\n",
      "Epoch 11/30\n",
      "1719/1719 [==============================] - 2s 1ms/step - loss: 0.3220 - accuracy: 0.8841 - val_loss: 0.3504 - val_accuracy: 0.8770\n",
      "Epoch 12/30\n",
      "1719/1719 [==============================] - 2s 1ms/step - loss: 0.3153 - accuracy: 0.8870 - val_loss: 0.3536 - val_accuracy: 0.8728\n",
      "Epoch 13/30\n",
      "1719/1719 [==============================] - 2s 1ms/step - loss: 0.3076 - accuracy: 0.8910 - val_loss: 0.3356 - val_accuracy: 0.8776\n",
      "Epoch 14/30\n",
      "1719/1719 [==============================] - 2s 1ms/step - loss: 0.3010 - accuracy: 0.8912 - val_loss: 0.3239 - val_accuracy: 0.8814\n",
      "Epoch 15/30\n",
      "1719/1719 [==============================] - 1s 851us/step - loss: 0.2941 - accuracy: 0.8938 - val_loss: 0.3249 - val_accuracy: 0.8812\n",
      "Epoch 16/30\n",
      "1719/1719 [==============================] - 2s 876us/step - loss: 0.2864 - accuracy: 0.8962 - val_loss: 0.3178 - val_accuracy: 0.8838\n",
      "Epoch 17/30\n",
      "1719/1719 [==============================] - 2s 998us/step - loss: 0.2832 - accuracy: 0.8972 - val_loss: 0.3331 - val_accuracy: 0.8804\n",
      "Epoch 18/30\n",
      "1719/1719 [==============================] - 2s 988us/step - loss: 0.2770 - accuracy: 0.9003 - val_loss: 0.3195 - val_accuracy: 0.8858\n",
      "Epoch 19/30\n",
      "1719/1719 [==============================] - 2s 963us/step - loss: 0.2722 - accuracy: 0.9014 - val_loss: 0.3228 - val_accuracy: 0.8788\n",
      "Epoch 20/30\n",
      "1719/1719 [==============================] - 2s 893us/step - loss: 0.2672 - accuracy: 0.9030 - val_loss: 0.3147 - val_accuracy: 0.8808\n",
      "Epoch 21/30\n",
      "1719/1719 [==============================] - 2s 894us/step - loss: 0.2613 - accuracy: 0.9063 - val_loss: 0.3023 - val_accuracy: 0.8904\n",
      "Epoch 22/30\n",
      "1719/1719 [==============================] - 2s 883us/step - loss: 0.2571 - accuracy: 0.9074 - val_loss: 0.3113 - val_accuracy: 0.8874\n",
      "Epoch 23/30\n",
      "1719/1719 [==============================] - 1s 831us/step - loss: 0.2522 - accuracy: 0.9089 - val_loss: 0.3223 - val_accuracy: 0.8828\n",
      "Epoch 24/30\n",
      "1719/1719 [==============================] - 1s 856us/step - loss: 0.2485 - accuracy: 0.9104 - val_loss: 0.2964 - val_accuracy: 0.8910\n",
      "Epoch 25/30\n",
      "1719/1719 [==============================] - 2s 897us/step - loss: 0.2445 - accuracy: 0.9121 - val_loss: 0.3030 - val_accuracy: 0.8892\n",
      "Epoch 26/30\n",
      "1719/1719 [==============================] - 2s 1ms/step - loss: 0.2399 - accuracy: 0.9141 - val_loss: 0.2971 - val_accuracy: 0.8918\n",
      "Epoch 27/30\n",
      "1719/1719 [==============================] - 2s 1ms/step - loss: 0.2360 - accuracy: 0.9154 - val_loss: 0.3067 - val_accuracy: 0.8902\n",
      "Epoch 28/30\n",
      "1719/1719 [==============================] - 2s 919us/step - loss: 0.2322 - accuracy: 0.9158 - val_loss: 0.2963 - val_accuracy: 0.8896\n",
      "Epoch 29/30\n",
      "1719/1719 [==============================] - 1s 863us/step - loss: 0.2291 - accuracy: 0.9177 - val_loss: 0.3002 - val_accuracy: 0.8910\n",
      "Epoch 30/30\n",
      "1719/1719 [==============================] - 2s 1ms/step - loss: 0.2249 - accuracy: 0.9194 - val_loss: 0.3084 - val_accuracy: 0.8884\n"
     ]
    }
   ],
   "source": [
    "history = model.fit(X_train, y_train, epochs=30, validation_data=(X_valid, y_valid))"
   ]
  },
  {
   "cell_type": "code",
   "execution_count": 25,
   "id": "8b888355",
   "metadata": {},
   "outputs": [
    {
     "data": {
      "image/png": "[encoded data removed]",
      "text/plain": [
       "<Figure size 576x360 with 1 Axes>"
      ]
     },
     "metadata": {
      "needs_background": "light"
     },
     "output_type": "display_data"
    }
   ],
   "source": [
    "import pandas as pd\n",
    "import matplotlib.pyplot as plt\n",
    "\n",
    "pd.DataFrame(history.history).plot(figsize=(8,5))\n",
    "plt.grid(True)\n",
    "plt.gca().set_ylim(0,1) #Sets the veritcal range to [0,-1] \n",
    "plt.show()"
   ]
  },
  {
   "cell_type": "code",
   "execution_count": 26,
   "id": "7b00fea4",
   "metadata": {},
   "outputs": [
    {
     "name": "stdout",
     "output_type": "stream",
     "text": [
      "313/313 [==============================] - 0s 748us/step - loss: 0.3434 - accuracy: 0.8775\n"
     ]
    },
    {
     "data": {
      "text/plain": [
       "[0.34338998794555664, 0.8774999976158142]"
      ]
     },
     "execution_count": 26,
     "metadata": {},
     "output_type": "execute_result"
    }
   ],
   "source": [
    "model.evaluate(X_test, y_test)"
   ]
  },
  {
   "cell_type": "code",
   "execution_count": 29,
   "id": "6c671d82",
   "metadata": {},
   "outputs": [
    {
     "data": {
      "text/plain": [
       "array([[0.  , 0.  , 0.  , 0.  , 0.  , 0.02, 0.  , 0.01, 0.  , 0.97],\n",
       "       [0.  , 0.  , 0.97, 0.  , 0.02, 0.  , 0.01, 0.  , 0.  , 0.  ],\n",
       "       [0.  , 1.  , 0.  , 0.  , 0.  , 0.  , 0.  , 0.  , 0.  , 0.  ]],\n",
       "      dtype=float32)"
      ]
     },
     "execution_count": 29,
     "metadata": {},
     "output_type": "execute_result"
    }
   ],
   "source": [
    "X_new = X_test[:3]\n",
    "y_proba = model.predict(X_new)\n",
    "y_proba.round(2)"
   ]
  },
  {
   "cell_type": "code",
   "execution_count": 33,
   "id": "0eebb3a1",
   "metadata": {},
   "outputs": [
    {
     "data": {
      "text/plain": [
       "array([9, 2, 1], dtype=int64)"
      ]
     },
     "execution_count": 33,
     "metadata": {},
     "output_type": "execute_result"
    }
   ],
   "source": [
    "y_pred=np.argmax(model.predict(X_new), axis=-1)\n",
    "y_pred"
   ]
  },
  {
   "cell_type": "code",
   "execution_count": 34,
   "id": "15d18bd9",
   "metadata": {},
   "outputs": [
    {
     "data": {
      "text/plain": [
       "array(['Ankle Boot', 'Pullover', 'Trouser'], dtype='<U11')"
      ]
     },
     "execution_count": 34,
     "metadata": {},
     "output_type": "execute_result"
    }
   ],
   "source": [
    "np.array(class_names)[y_pred]"
   ]
  },
  {
   "cell_type": "code",
   "execution_count": 35,
   "id": "31470311",
   "metadata": {},
   "outputs": [
    {
     "data": {
      "text/plain": [
       "array([9, 2, 1], dtype=uint8)"
      ]
     },
     "execution_count": 35,
     "metadata": {},
     "output_type": "execute_result"
    }
   ],
   "source": [
    "y_new = y_test[:3]\n",
    "y_new"
   ]
  },
  {
   "cell_type": "markdown",
   "id": "2d536a7c",
   "metadata": {},
   "source": [
    "## Building a Regression MLP "
   ]
  },
  {
   "cell_type": "code",
   "execution_count": 37,
   "id": "c5c2bde9",
   "metadata": {},
   "outputs": [],
   "source": [
    "from sklearn.datasets import fetch_california_housing\n",
    "from sklearn.model_selection import train_test_split\n",
    "from sklearn.preprocessing import StandardScaler\n",
    "\n",
    "housing = fetch_california_housing()\n",
    "\n",
    "X_train_full, X_test, y_train_full, y_test = train_test_split(housing.data, housing.target)\n",
    "X_train, X_valid, y_train, y_valid = train_test_split(X_train_full, y_train_full)\n",
    "\n",
    "scaler = StandardScaler()\n",
    "X_train = scaler.fit_transform(X_train)\n",
    "X_valid = scaler.transform(X_valid)\n",
    "X_test = scaler.transform(X_test)"
   ]
  },
  {
   "cell_type": "code",
   "execution_count": 39,
   "id": "13c3df7d",
   "metadata": {},
   "outputs": [
    {
     "name": "stdout",
     "output_type": "stream",
     "text": [
      "Epoch 1/20\n",
      "363/363 [==============================] - 1s 910us/step - loss: 1.0820 - val_loss: 0.6126\n",
      "Epoch 2/20\n",
      "363/363 [==============================] - 0s 703us/step - loss: 0.5275 - val_loss: 0.5260\n",
      "Epoch 3/20\n",
      "363/363 [==============================] - 0s 634us/step - loss: 0.4700 - val_loss: 0.4777\n",
      "Epoch 4/20\n",
      "363/363 [==============================] - 0s 631us/step - loss: 0.4480 - val_loss: 0.4574\n",
      "Epoch 5/20\n",
      "363/363 [==============================] - 0s 673us/step - loss: 0.4329 - val_loss: 0.4487\n",
      "Epoch 6/20\n",
      "363/363 [==============================] - 0s 666us/step - loss: 0.4233 - val_loss: 0.4444\n",
      "Epoch 7/20\n",
      "363/363 [==============================] - 0s 674us/step - loss: 0.4158 - val_loss: 0.4355\n",
      "Epoch 8/20\n",
      "363/363 [==============================] - 0s 714us/step - loss: 0.4084 - val_loss: 0.4309\n",
      "Epoch 9/20\n",
      "363/363 [==============================] - 0s 854us/step - loss: 0.4044 - val_loss: 0.4229\n",
      "Epoch 10/20\n",
      "363/363 [==============================] - 0s 778us/step - loss: 0.3994 - val_loss: 0.4189\n",
      "Epoch 11/20\n",
      "363/363 [==============================] - 0s 757us/step - loss: 0.3950 - val_loss: 0.4203\n",
      "Epoch 12/20\n",
      "363/363 [==============================] - 0s 783us/step - loss: 0.3915 - val_loss: 0.4207\n",
      "Epoch 13/20\n",
      "363/363 [==============================] - 0s 738us/step - loss: 0.3876 - val_loss: 0.4096\n",
      "Epoch 14/20\n",
      "363/363 [==============================] - 0s 818us/step - loss: 0.3833 - val_loss: 0.4086\n",
      "Epoch 15/20\n",
      "363/363 [==============================] - 0s 788us/step - loss: 0.3805 - val_loss: 0.4099\n",
      "Epoch 16/20\n",
      "363/363 [==============================] - 0s 784us/step - loss: 0.3788 - val_loss: 0.4038\n",
      "Epoch 17/20\n",
      "363/363 [==============================] - 0s 756us/step - loss: 0.3743 - val_loss: 0.4000\n",
      "Epoch 18/20\n",
      "363/363 [==============================] - 0s 723us/step - loss: 0.3724 - val_loss: 0.4046\n",
      "Epoch 19/20\n",
      "363/363 [==============================] - 0s 747us/step - loss: 0.3709 - val_loss: 0.4070\n",
      "Epoch 20/20\n",
      "363/363 [==============================] - 0s 699us/step - loss: 0.3689 - val_loss: 0.3932\n",
      "162/162 [==============================] - 0s 503us/step - loss: 0.3727\n"
     ]
    }
   ],
   "source": [
    "model = keras.models.Sequential([\n",
    "    keras.layers.Dense(30, activation=\"relu\", input_shape=X_train.shape[1:]),\n",
    "    keras.layers.Dense(1)\n",
    "])\n",
    "model.compile(loss=\"mean_squared_error\", optimizer=\"sgd\")\n",
    "history = model.fit(X_train, y_train, epochs=20, validation_data=(X_valid, y_valid))\n",
    "mse_test = model.evaluate(X_test, y_test)\n",
    "X_new = X_test[:3] #pretend that these are new instances\n",
    "y_pred = model.predict(X_new)"
   ]
  },
  {
   "cell_type": "code",
   "execution_count": 40,
   "id": "261cfc16",
   "metadata": {},
   "outputs": [],
   "source": [
    "input_ = keras.layers.Input(shape=X_train.shape[1:])\n",
    "hidden1 = keras.layers.Dense(30,activation=\"relu\")(input_)\n",
    "hidden2 = keras.layers.Dense(30, activation=\"relu\")(hidden1)\n",
    "concat = keras.layers.Concatenate()([input_, hidden2])\n",
    "output = keras.layers.Dense(1)(concat)\n",
    "model = keras.Model(inputs=[input_], outputs=[output])"
   ]
  },
  {
   "cell_type": "code",
   "execution_count": 41,
   "id": "16cd865a",
   "metadata": {},
   "outputs": [],
   "source": [
    "input_A = keras.layers.Input(shape=[5], name=\"wide_input\")\n",
    "input_B = keras.layers.Input(shape=[6], name=\"deep_input\")\n",
    "hidden1 = keras.layers.Dense(30, activation=\"relu\")(input_B)\n",
    "hidden2 = keras.layers.Dense(30, activation=\"relu\")(hidden1)\n",
    "concat = keras.layers.concatenate([input_A, hidden2])\n",
    "output = keras.layers.Dense(1, name=\"output\")(concat)\n",
    "model = keras.Model(inputs=[input_A, input_B], outputs=[output])"
   ]
  },
  {
   "cell_type": "code",
   "execution_count": 45,
   "id": "79ab9f01",
   "metadata": {},
   "outputs": [],
   "source": [
    "model.compile(loss=\"mse\", optimizer=keras.optimizers.SGD(learning_rate=1e-3))\n",
    "\n",
    "X_train_A, X_train_B = X_train[:, :5], X_train[:,2:]\n",
    "X_valid_A, X_valid_B = X_valid[:, :5], X_valid[:,2:]\n",
    "X_test_A, X_test_B = X_test[:, :5], X_test[:,2:]\n",
    "X_new_A, X_new_B = X_new[:, :5], X_new[:,2:]"
   ]
  },
  {
   "cell_type": "code",
   "execution_count": 46,
   "id": "16a6f71a",
   "metadata": {},
   "outputs": [
    {
     "name": "stdout",
     "output_type": "stream",
     "text": [
      "Epoch 1/20\n",
      "363/363 [==============================] - 1s 975us/step - loss: 2.6571 - val_loss: 1.1173\n",
      "Epoch 2/20\n",
      "363/363 [==============================] - 0s 781us/step - loss: 0.9497 - val_loss: 0.8092\n",
      "Epoch 3/20\n",
      "363/363 [==============================] - 0s 744us/step - loss: 0.7543 - val_loss: 0.7085\n",
      "Epoch 4/20\n",
      "363/363 [==============================] - 0s 668us/step - loss: 0.6784 - val_loss: 0.6647\n",
      "Epoch 5/20\n",
      "363/363 [==============================] - 0s 677us/step - loss: 0.6341 - val_loss: 0.6236\n",
      "Epoch 6/20\n",
      "363/363 [==============================] - 0s 686us/step - loss: 0.6022 - val_loss: 0.5983\n",
      "Epoch 7/20\n",
      "363/363 [==============================] - 0s 734us/step - loss: 0.5781 - val_loss: 0.5782\n",
      "Epoch 8/20\n",
      "363/363 [==============================] - 0s 741us/step - loss: 0.5599 - val_loss: 0.5645\n",
      "Epoch 9/20\n",
      "363/363 [==============================] - 0s 803us/step - loss: 0.5461 - val_loss: 0.5538\n",
      "Epoch 10/20\n",
      "363/363 [==============================] - 0s 903us/step - loss: 0.5347 - val_loss: 0.5445\n",
      "Epoch 11/20\n",
      "363/363 [==============================] - 0s 833us/step - loss: 0.5260 - val_loss: 0.5359\n",
      "Epoch 12/20\n",
      "363/363 [==============================] - 0s 789us/step - loss: 0.5178 - val_loss: 0.5300\n",
      "Epoch 13/20\n",
      "363/363 [==============================] - 0s 850us/step - loss: 0.5118 - val_loss: 0.5242\n",
      "Epoch 14/20\n",
      "363/363 [==============================] - 0s 927us/step - loss: 0.5063 - val_loss: 0.5193\n",
      "Epoch 15/20\n",
      "363/363 [==============================] - 0s 895us/step - loss: 0.5006 - val_loss: 0.5170\n",
      "Epoch 16/20\n",
      "363/363 [==============================] - 0s 845us/step - loss: 0.4974 - val_loss: 0.5110\n",
      "Epoch 17/20\n",
      "363/363 [==============================] - 0s 770us/step - loss: 0.4931 - val_loss: 0.5077\n",
      "Epoch 18/20\n",
      "363/363 [==============================] - 0s 773us/step - loss: 0.4898 - val_loss: 0.5051\n",
      "Epoch 19/20\n",
      "363/363 [==============================] - 0s 904us/step - loss: 0.4866 - val_loss: 0.5008\n",
      "Epoch 20/20\n",
      "363/363 [==============================] - 0s 784us/step - loss: 0.4832 - val_loss: 0.4982\n",
      "162/162 [==============================] - ETA: 0s - loss: 0.499 - 0s 511us/step - loss: 0.4897\n"
     ]
    }
   ],
   "source": [
    "history = model.fit((X_train_A, X_train_B), y_train, epochs=20, validation_data=((X_valid_A, X_valid_B), y_valid))\n",
    "mse_test = model.evaluate((X_test_A, X_test_B), y_test)\n",
    "y_pred = model.predict((X_new_A, X_new_B))"
   ]
  },
  {
   "cell_type": "code",
   "execution_count": null,
   "id": "b810f2d0",
   "metadata": {},
   "outputs": [],
   "source": []
  }
 ],
 "metadata": {
  "kernelspec": {
   "display_name": "Python 3 (ipykernel)",
   "language": "python",
   "name": "python3"
  },
  "language_info": {
   "codemirror_mode": {
    "name": "ipython",
    "version": 3
   },
   "file_extension": ".py",
   "mimetype": "text/x-python",
   "name": "python",
   "nbconvert_exporter": "python",
   "pygments_lexer": "ipython3",
   "version": "3.9.5"
  }
 },
 "nbformat": 4,
 "nbformat_minor": 5
}
