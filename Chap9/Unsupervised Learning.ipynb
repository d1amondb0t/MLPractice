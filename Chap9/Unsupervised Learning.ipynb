{
 "cells": [
  {
   "cell_type": "markdown",
   "id": "bbf85919",
   "metadata": {},
   "source": [
    "# Unsupervised Learning"
   ]
  },
  {
   "cell_type": "code",
   "execution_count": 1,
   "id": "2c43f723",
   "metadata": {},
   "outputs": [],
   "source": [
    "# Python ≥3.5 is required\n",
    "import sys\n",
    "assert sys.version_info >= (3, 5)\n",
    "\n",
    "# Scikit-Learn ≥0.20 is required\n",
    "import sklearn\n",
    "assert sklearn.__version__ >= \"0.20\"\n",
    "\n",
    "# Common imports\n",
    "import numpy as np\n",
    "import os\n",
    "\n",
    "# to make this notebook's output stable across runs\n",
    "np.random.seed(42)\n",
    "\n",
    "# To plot pretty figures\n",
    "%matplotlib inline\n",
    "import matplotlib as mpl\n",
    "import matplotlib.pyplot as plt\n",
    "mpl.rc('axes', labelsize=14)\n",
    "mpl.rc('xtick', labelsize=12)\n",
    "mpl.rc('ytick', labelsize=12)\n",
    "\n",
    "# Where to save the figures\n",
    "PROJECT_ROOT_DIR = \".\"\n",
    "CHAPTER_ID = \"unsupervised_learning\"\n",
    "IMAGES_PATH = os.path.join(PROJECT_ROOT_DIR, \"images\", CHAPTER_ID)\n",
    "os.makedirs(IMAGES_PATH, exist_ok=True)\n",
    "\n",
    "def save_fig(fig_id, tight_layout=True, fig_extension=\"png\", resolution=300):\n",
    "    path = os.path.join(IMAGES_PATH, fig_id + \".\" + fig_extension)\n",
    "    print(\"Saving figure\", fig_id)\n",
    "    if tight_layout:\n",
    "        plt.tight_layout()\n",
    "    plt.savefig(path, format=fig_extension, dpi=resolution)"
   ]
  },
  {
   "cell_type": "markdown",
   "id": "b0d0bfc4",
   "metadata": {},
   "source": [
    "## Clustering"
   ]
  },
  {
   "cell_type": "markdown",
   "id": "b7d89c72",
   "metadata": {},
   "source": [
    "### K-Means"
   ]
  },
  {
   "cell_type": "code",
   "execution_count": 2,
   "id": "8a671bb4",
   "metadata": {},
   "outputs": [],
   "source": [
    "from sklearn.datasets import make_blobs\n",
    "from sklearn.cluster import KMeans"
   ]
  },
  {
   "cell_type": "code",
   "execution_count": 3,
   "id": "5c481a74",
   "metadata": {},
   "outputs": [],
   "source": [
    "blob_centers = np.array(\n",
    "    [[ 0.2,  2.3],\n",
    "     [-1.5 ,  2.3],\n",
    "     [-2.8,  1.8],\n",
    "     [-2.8,  2.8],\n",
    "     [-2.8,  1.3]])\n",
    "blob_std = np.array([0.4, 0.3, 0.1, 0.1, 0.1])"
   ]
  },
  {
   "cell_type": "code",
   "execution_count": 8,
   "id": "5b9e20fc",
   "metadata": {},
   "outputs": [],
   "source": [
    "X, y = make_blobs(n_samples = 2000, centers=blob_centers, cluster_std=blob_std, random_state=7)"
   ]
  },
  {
   "cell_type": "code",
   "execution_count": 13,
   "id": "b979f03a",
   "metadata": {},
   "outputs": [],
   "source": [
    "k = 5\n",
    "kmeans = KMeans(n_clusters=k, random_state=42)\n",
    "y_pred = kmeans.fit_predict(X)"
   ]
  },
  {
   "cell_type": "code",
   "execution_count": 14,
   "id": "88e7de0a",
   "metadata": {},
   "outputs": [
    {
     "data": {
      "text/plain": [
       "array([4, 0, 1, ..., 2, 1, 0])"
      ]
     },
     "execution_count": 14,
     "metadata": {},
     "output_type": "execute_result"
    }
   ],
   "source": [
    "y_pred"
   ]
  },
  {
   "cell_type": "code",
   "execution_count": 15,
   "id": "2342e0b1",
   "metadata": {},
   "outputs": [
    {
     "data": {
      "text/plain": [
       "True"
      ]
     },
     "execution_count": 15,
     "metadata": {},
     "output_type": "execute_result"
    }
   ],
   "source": [
    "y_pred is kmeans.labels_"
   ]
  },
  {
   "cell_type": "code",
   "execution_count": 16,
   "id": "f1cb8512",
   "metadata": {},
   "outputs": [
    {
     "data": {
      "text/plain": [
       "array([[-2.80389616,  1.80117999],\n",
       "       [ 0.20876306,  2.25551336],\n",
       "       [-2.79290307,  2.79641063],\n",
       "       [-1.46679593,  2.28585348],\n",
       "       [-2.80037642,  1.30082566]])"
      ]
     },
     "execution_count": 16,
     "metadata": {},
     "output_type": "execute_result"
    }
   ],
   "source": [
    "kmeans.cluster_centers_"
   ]
  },
  {
   "cell_type": "code",
   "execution_count": 17,
   "id": "2184737a",
   "metadata": {},
   "outputs": [
    {
     "data": {
      "text/plain": [
       "array([1, 2, 2])"
      ]
     },
     "execution_count": 17,
     "metadata": {},
     "output_type": "execute_result"
    }
   ],
   "source": [
    "X_new = np.array([[0,2], [-3,3],[-3, 2.5]])\n",
    "kmeans.predict(X_new)"
   ]
  },
  {
   "cell_type": "code",
   "execution_count": 18,
   "id": "6068ce28",
   "metadata": {},
   "outputs": [
    {
     "data": {
      "text/plain": [
       "array([[2.81093633, 0.32995317, 2.9042344 , 1.49439034, 2.88633901],\n",
       "       [1.21475352, 3.29399768, 0.29040966, 1.69136631, 1.71086031],\n",
       "       [0.72581411, 3.21806371, 0.36159148, 1.54808703, 1.21567622]])"
      ]
     },
     "execution_count": 18,
     "metadata": {},
     "output_type": "execute_result"
    }
   ],
   "source": [
    "kmeans.transform(X_new)"
   ]
  },
  {
   "cell_type": "markdown",
   "id": "9cfead46",
   "metadata": {},
   "source": [
    "### Centroid Initialization methods"
   ]
  },
  {
   "cell_type": "code",
   "execution_count": 19,
   "id": "dec27c9c",
   "metadata": {},
   "outputs": [],
   "source": [
    "good_init = np.array([[-3,3],[-3, 2],[-3,1],[-1,2],[0,2]])\n",
    "kmeans = KMeans(n_clusters=5, init=good_init, n_init=1)"
   ]
  },
  {
   "cell_type": "code",
   "execution_count": 20,
   "id": "ce22e273",
   "metadata": {},
   "outputs": [
    {
     "data": {
      "text/plain": [
       "211.5985372581683"
      ]
     },
     "execution_count": 20,
     "metadata": {},
     "output_type": "execute_result"
    }
   ],
   "source": [
    "kmeans.fit(X)\n",
    "kmeans.inertia_"
   ]
  },
  {
   "cell_type": "code",
   "execution_count": 21,
   "id": "c1a30ab3",
   "metadata": {},
   "outputs": [
    {
     "data": {
      "text/plain": [
       "-211.5985372581683"
      ]
     },
     "execution_count": 21,
     "metadata": {},
     "output_type": "execute_result"
    }
   ],
   "source": [
    "kmeans.score(X)"
   ]
  },
  {
   "cell_type": "markdown",
   "id": "ca8ed2af",
   "metadata": {},
   "source": [
    "###  Accelerated K-Means and Mini-Batch K-Means"
   ]
  },
  {
   "cell_type": "code",
   "execution_count": 22,
   "id": "d4e41385",
   "metadata": {},
   "outputs": [
    {
     "data": {
      "text/plain": [
       "MiniBatchKMeans(n_clusters=5, random_state=42)"
      ]
     },
     "execution_count": 22,
     "metadata": {},
     "output_type": "execute_result"
    }
   ],
   "source": [
    "from sklearn.cluster import MiniBatchKMeans\n",
    "\n",
    "minibatch_kmeans = MiniBatchKMeans(n_clusters=5, random_state=42)\n",
    "minibatch_kmeans.fit(X)"
   ]
  },
  {
   "cell_type": "markdown",
   "id": "164e46b9",
   "metadata": {},
   "source": [
    "### Finding the optimal number of clusters"
   ]
  },
  {
   "cell_type": "code",
   "execution_count": 23,
   "id": "f1a3061f",
   "metadata": {},
   "outputs": [
    {
     "data": {
      "text/plain": [
       "0.655517642572828"
      ]
     },
     "execution_count": 23,
     "metadata": {},
     "output_type": "execute_result"
    }
   ],
   "source": [
    "from sklearn.metrics import silhouette_score\n",
    "\n",
    "silhouette_score(X, kmeans.labels_)"
   ]
  },
  {
   "cell_type": "markdown",
   "id": "e610ede7",
   "metadata": {},
   "source": [
    "### Using Clustering for Image Segmentation"
   ]
  },
  {
   "cell_type": "code",
   "execution_count": 25,
   "id": "c9329791",
   "metadata": {},
   "outputs": [
    {
     "name": "stdout",
     "output_type": "stream",
     "text": [
      "Downloading ladybug.png\n"
     ]
    },
    {
     "data": {
      "text/plain": [
       "('.\\\\images\\\\unsupervised_learning\\\\ladybug.png',\n",
       " <http.client.HTTPMessage at 0x22ab30aae50>)"
      ]
     },
     "execution_count": 25,
     "metadata": {},
     "output_type": "execute_result"
    }
   ],
   "source": [
    "import urllib.request\n",
    "images_path = os.path.join(PROJECT_ROOT_DIR, \"images\",\"unsupervised_learning\")\n",
    "os.makedirs(images_path, exist_ok=True)\n",
    "DOWNLOAD_ROOT=\"https://raw.githubusercontent.com/ageron/handson-ml2/master/\"\n",
    "filename = \"ladybug.png\"\n",
    "print(\"Downloading\", filename)\n",
    "url = DOWNLOAD_ROOT + \"images/unsupervised_learning/\"+filename\n",
    "urllib.request.urlretrieve(url, os.path.join(images_path, filename))"
   ]
  },
  {
   "cell_type": "code",
   "execution_count": 39,
   "id": "4ee5023a",
   "metadata": {},
   "outputs": [],
   "source": [
    "from matplotlib.image import imread\n",
    "\n",
    "image = imread(os.path.join(\"images\",\"unsupervised_learning\", \"ladybug.png\"))\n"
   ]
  },
  {
   "cell_type": "code",
   "execution_count": 40,
   "id": "46a0b82e",
   "metadata": {},
   "outputs": [
    {
     "data": {
      "text/plain": [
       "(533, 800, 3)"
      ]
     },
     "execution_count": 40,
     "metadata": {},
     "output_type": "execute_result"
    }
   ],
   "source": [
    "image.shape"
   ]
  },
  {
   "cell_type": "code",
   "execution_count": 45,
   "id": "a2a38460",
   "metadata": {},
   "outputs": [],
   "source": [
    "X = image.reshape(-1,3)\n",
    "kmeans = KMeans(n_clusters=8)\n",
    "kmeans.fit(X)\n",
    "segmented_img = kmeans.cluster_centers_[kmeans.labels_]\n",
    "segmented_img = segmented_img.reshape(image.shape)"
   ]
  },
  {
   "cell_type": "markdown",
   "id": "7620cf9a",
   "metadata": {},
   "source": [
    "### Using Clustering for Preprocessing"
   ]
  },
  {
   "cell_type": "code",
   "execution_count": 47,
   "id": "de24a162",
   "metadata": {},
   "outputs": [],
   "source": [
    "from sklearn.datasets import load_digits\n",
    "\n",
    "X_digits, y_digits =load_digits(return_X_y = True)"
   ]
  },
  {
   "cell_type": "code",
   "execution_count": 48,
   "id": "8e54c5f6",
   "metadata": {},
   "outputs": [],
   "source": [
    "from sklearn.model_selection import train_test_split\n",
    "\n",
    "X_train, X_test, y_train, y_test = train_test_split(X_digits, y_digits, random_state=42)"
   ]
  },
  {
   "cell_type": "code",
   "execution_count": 53,
   "id": "0bcdb1b3",
   "metadata": {},
   "outputs": [
    {
     "data": {
      "text/plain": [
       "LogisticRegression(max_iter=5000, multi_class='ovr', random_state=42)"
      ]
     },
     "execution_count": 53,
     "metadata": {},
     "output_type": "execute_result"
    }
   ],
   "source": [
    "from sklearn.linear_model import LogisticRegression\n",
    "\n",
    "log_reg = LogisticRegression(multi_class=\"ovr\", solver=\"lbfgs\", max_iter=5000, random_state=42)\n",
    "log_reg.fit(X_train, y_train)"
   ]
  },
  {
   "cell_type": "code",
   "execution_count": 54,
   "id": "e45fda36",
   "metadata": {},
   "outputs": [
    {
     "data": {
      "text/plain": [
       "0.9688888888888889"
      ]
     },
     "execution_count": 54,
     "metadata": {},
     "output_type": "execute_result"
    }
   ],
   "source": [
    "log_reg_score = log_reg.score(X_test, y_test)\n",
    "log_reg_score"
   ]
  },
  {
   "cell_type": "code",
   "execution_count": 57,
   "id": "81feae65",
   "metadata": {},
   "outputs": [
    {
     "data": {
      "text/plain": [
       "Pipeline(steps=[('kmeans', KMeans(n_clusters=50, random_state=42)),\n",
       "                ('log_reg',\n",
       "                 LogisticRegression(max_iter=5000, multi_class='ovr',\n",
       "                                    random_state=42))])"
      ]
     },
     "execution_count": 57,
     "metadata": {},
     "output_type": "execute_result"
    }
   ],
   "source": [
    "from sklearn.pipeline import Pipeline\n",
    "\n",
    "pipeline = Pipeline([\n",
    "    (\"kmeans\", KMeans(n_clusters=50, random_state=42)),\n",
    "    (\"log_reg\", LogisticRegression(multi_class=\"ovr\",solver=\"lbfgs\", max_iter=5000, random_state=42)),\n",
    "])\n",
    "\n",
    "pipeline.fit(X_train, y_train)"
   ]
  },
  {
   "cell_type": "code",
   "execution_count": 58,
   "id": "407800a6",
   "metadata": {},
   "outputs": [
    {
     "data": {
      "text/plain": [
       "0.9777777777777777"
      ]
     },
     "execution_count": 58,
     "metadata": {},
     "output_type": "execute_result"
    }
   ],
   "source": [
    "pipeline.score(X_test, y_test)"
   ]
  },
  {
   "cell_type": "code",
   "execution_count": 60,
   "id": "633717f8",
   "metadata": {},
   "outputs": [
    {
     "name": "stdout",
     "output_type": "stream",
     "text": [
      "Fitting 3 folds for each of 98 candidates, totalling 294 fits\n",
      "[CV] END ...............................kmeans__n_clusters=2; total time=   0.0s\n",
      "[CV] END ...............................kmeans__n_clusters=2; total time=   0.0s\n",
      "[CV] END ...............................kmeans__n_clusters=2; total time=   0.0s\n",
      "[CV] END ...............................kmeans__n_clusters=3; total time=   0.0s\n",
      "[CV] END ...............................kmeans__n_clusters=3; total time=   0.0s\n",
      "[CV] END ...............................kmeans__n_clusters=3; total time=   0.0s\n",
      "[CV] END ...............................kmeans__n_clusters=4; total time=   0.0s\n",
      "[CV] END ...............................kmeans__n_clusters=4; total time=   0.1s\n",
      "[CV] END ...............................kmeans__n_clusters=4; total time=   0.0s\n",
      "[CV] END ...............................kmeans__n_clusters=5; total time=   0.1s\n",
      "[CV] END ...............................kmeans__n_clusters=5; total time=   0.1s\n",
      "[CV] END ...............................kmeans__n_clusters=5; total time=   0.1s\n",
      "[CV] END ...............................kmeans__n_clusters=6; total time=   0.1s\n",
      "[CV] END ...............................kmeans__n_clusters=6; total time=   0.1s\n",
      "[CV] END ...............................kmeans__n_clusters=6; total time=   0.1s\n",
      "[CV] END ...............................kmeans__n_clusters=7; total time=   0.2s\n",
      "[CV] END ...............................kmeans__n_clusters=7; total time=   0.1s\n",
      "[CV] END ...............................kmeans__n_clusters=7; total time=   0.1s\n",
      "[CV] END ...............................kmeans__n_clusters=8; total time=   0.2s\n",
      "[CV] END ...............................kmeans__n_clusters=8; total time=   0.2s\n",
      "[CV] END ...............................kmeans__n_clusters=8; total time=   0.2s\n",
      "[CV] END ...............................kmeans__n_clusters=9; total time=   0.3s\n",
      "[CV] END ...............................kmeans__n_clusters=9; total time=   0.3s\n",
      "[CV] END ...............................kmeans__n_clusters=9; total time=   0.3s\n",
      "[CV] END ..............................kmeans__n_clusters=10; total time=   0.4s\n",
      "[CV] END ..............................kmeans__n_clusters=10; total time=   0.4s\n",
      "[CV] END ..............................kmeans__n_clusters=10; total time=   0.4s\n",
      "[CV] END ..............................kmeans__n_clusters=11; total time=   0.7s\n",
      "[CV] END ..............................kmeans__n_clusters=11; total time=   1.0s\n",
      "[CV] END ..............................kmeans__n_clusters=11; total time=   0.7s\n",
      "[CV] END ..............................kmeans__n_clusters=12; total time=   0.9s\n",
      "[CV] END ..............................kmeans__n_clusters=12; total time=   1.1s\n",
      "[CV] END ..............................kmeans__n_clusters=12; total time=   0.9s\n",
      "[CV] END ..............................kmeans__n_clusters=13; total time=   1.2s\n",
      "[CV] END ..............................kmeans__n_clusters=13; total time=   1.2s\n",
      "[CV] END ..............................kmeans__n_clusters=13; total time=   1.2s\n",
      "[CV] END ..............................kmeans__n_clusters=14; total time=   1.4s\n",
      "[CV] END ..............................kmeans__n_clusters=14; total time=   1.4s\n",
      "[CV] END ..............................kmeans__n_clusters=14; total time=   1.2s\n",
      "[CV] END ..............................kmeans__n_clusters=15; total time=   1.5s\n",
      "[CV] END ..............................kmeans__n_clusters=15; total time=   1.4s\n",
      "[CV] END ..............................kmeans__n_clusters=15; total time=   1.6s\n",
      "[CV] END ..............................kmeans__n_clusters=16; total time=   1.7s\n",
      "[CV] END ..............................kmeans__n_clusters=16; total time=   1.8s\n",
      "[CV] END ..............................kmeans__n_clusters=16; total time=   1.6s\n",
      "[CV] END ..............................kmeans__n_clusters=17; total time=   2.0s\n",
      "[CV] END ..............................kmeans__n_clusters=17; total time=   1.9s\n",
      "[CV] END ..............................kmeans__n_clusters=17; total time=   1.8s\n",
      "[CV] END ..............................kmeans__n_clusters=18; total time=   2.2s\n",
      "[CV] END ..............................kmeans__n_clusters=18; total time=   2.0s\n",
      "[CV] END ..............................kmeans__n_clusters=18; total time=   1.9s\n",
      "[CV] END ..............................kmeans__n_clusters=19; total time=   2.1s\n",
      "[CV] END ..............................kmeans__n_clusters=19; total time=   2.3s\n",
      "[CV] END ..............................kmeans__n_clusters=19; total time=   2.2s\n",
      "[CV] END ..............................kmeans__n_clusters=20; total time=   2.6s\n",
      "[CV] END ..............................kmeans__n_clusters=20; total time=   2.4s\n",
      "[CV] END ..............................kmeans__n_clusters=20; total time=   2.0s\n",
      "[CV] END ..............................kmeans__n_clusters=21; total time=   2.6s\n",
      "[CV] END ..............................kmeans__n_clusters=21; total time=   2.4s\n",
      "[CV] END ..............................kmeans__n_clusters=21; total time=   2.2s\n",
      "[CV] END ..............................kmeans__n_clusters=22; total time=   2.8s\n",
      "[CV] END ..............................kmeans__n_clusters=22; total time=   2.7s\n",
      "[CV] END ..............................kmeans__n_clusters=22; total time=   2.6s\n",
      "[CV] END ..............................kmeans__n_clusters=23; total time=   2.9s\n",
      "[CV] END ..............................kmeans__n_clusters=23; total time=   2.6s\n",
      "[CV] END ..............................kmeans__n_clusters=23; total time=   2.7s\n",
      "[CV] END ..............................kmeans__n_clusters=24; total time=   2.9s\n",
      "[CV] END ..............................kmeans__n_clusters=24; total time=   2.8s\n",
      "[CV] END ..............................kmeans__n_clusters=24; total time=   2.7s\n",
      "[CV] END ..............................kmeans__n_clusters=25; total time=   2.8s\n",
      "[CV] END ..............................kmeans__n_clusters=25; total time=   2.9s\n",
      "[CV] END ..............................kmeans__n_clusters=25; total time=   3.0s\n",
      "[CV] END ..............................kmeans__n_clusters=26; total time=   3.3s\n",
      "[CV] END ..............................kmeans__n_clusters=26; total time=   3.3s\n",
      "[CV] END ..............................kmeans__n_clusters=26; total time=   2.8s\n",
      "[CV] END ..............................kmeans__n_clusters=27; total time=   2.8s\n",
      "[CV] END ..............................kmeans__n_clusters=27; total time=   3.2s\n",
      "[CV] END ..............................kmeans__n_clusters=27; total time=   2.8s\n",
      "[CV] END ..............................kmeans__n_clusters=28; total time=   3.2s\n",
      "[CV] END ..............................kmeans__n_clusters=28; total time=   3.1s\n",
      "[CV] END ..............................kmeans__n_clusters=28; total time=   3.1s\n",
      "[CV] END ..............................kmeans__n_clusters=29; total time=   3.1s\n",
      "[CV] END ..............................kmeans__n_clusters=29; total time=   3.6s\n",
      "[CV] END ..............................kmeans__n_clusters=29; total time=   3.1s\n",
      "[CV] END ..............................kmeans__n_clusters=30; total time=   3.0s\n",
      "[CV] END ..............................kmeans__n_clusters=30; total time=   3.1s\n",
      "[CV] END ..............................kmeans__n_clusters=30; total time=   2.9s\n",
      "[CV] END ..............................kmeans__n_clusters=31; total time=   3.2s\n",
      "[CV] END ..............................kmeans__n_clusters=31; total time=   2.8s\n",
      "[CV] END ..............................kmeans__n_clusters=31; total time=   3.2s\n",
      "[CV] END ..............................kmeans__n_clusters=32; total time=   3.4s\n",
      "[CV] END ..............................kmeans__n_clusters=32; total time=   3.4s\n",
      "[CV] END ..............................kmeans__n_clusters=32; total time=   3.3s\n",
      "[CV] END ..............................kmeans__n_clusters=33; total time=   3.6s\n",
      "[CV] END ..............................kmeans__n_clusters=33; total time=   3.5s\n",
      "[CV] END ..............................kmeans__n_clusters=33; total time=   3.3s\n",
      "[CV] END ..............................kmeans__n_clusters=34; total time=   3.5s\n",
      "[CV] END ..............................kmeans__n_clusters=34; total time=   3.8s\n",
      "[CV] END ..............................kmeans__n_clusters=34; total time=   3.5s\n",
      "[CV] END ..............................kmeans__n_clusters=35; total time=   3.5s\n",
      "[CV] END ..............................kmeans__n_clusters=35; total time=   3.7s\n"
     ]
    },
    {
     "name": "stdout",
     "output_type": "stream",
     "text": [
      "[CV] END ..............................kmeans__n_clusters=35; total time=   3.3s\n",
      "[CV] END ..............................kmeans__n_clusters=36; total time=   3.6s\n",
      "[CV] END ..............................kmeans__n_clusters=36; total time=   3.5s\n",
      "[CV] END ..............................kmeans__n_clusters=36; total time=   3.1s\n",
      "[CV] END ..............................kmeans__n_clusters=37; total time=   3.8s\n",
      "[CV] END ..............................kmeans__n_clusters=37; total time=   3.4s\n",
      "[CV] END ..............................kmeans__n_clusters=37; total time=   3.3s\n",
      "[CV] END ..............................kmeans__n_clusters=38; total time=   3.6s\n",
      "[CV] END ..............................kmeans__n_clusters=38; total time=   3.6s\n",
      "[CV] END ..............................kmeans__n_clusters=38; total time=   3.7s\n",
      "[CV] END ..............................kmeans__n_clusters=39; total time=   3.6s\n",
      "[CV] END ..............................kmeans__n_clusters=39; total time=   3.6s\n",
      "[CV] END ..............................kmeans__n_clusters=39; total time=   3.9s\n",
      "[CV] END ..............................kmeans__n_clusters=40; total time=   3.6s\n",
      "[CV] END ..............................kmeans__n_clusters=40; total time=   3.9s\n",
      "[CV] END ..............................kmeans__n_clusters=40; total time=   3.7s\n",
      "[CV] END ..............................kmeans__n_clusters=41; total time=   3.8s\n",
      "[CV] END ..............................kmeans__n_clusters=41; total time=   3.8s\n",
      "[CV] END ..............................kmeans__n_clusters=41; total time=   4.0s\n",
      "[CV] END ..............................kmeans__n_clusters=42; total time=   3.8s\n",
      "[CV] END ..............................kmeans__n_clusters=42; total time=   3.7s\n",
      "[CV] END ..............................kmeans__n_clusters=42; total time=   3.7s\n",
      "[CV] END ..............................kmeans__n_clusters=43; total time=   3.7s\n",
      "[CV] END ..............................kmeans__n_clusters=43; total time=   3.6s\n",
      "[CV] END ..............................kmeans__n_clusters=43; total time=   3.7s\n",
      "[CV] END ..............................kmeans__n_clusters=44; total time=   3.9s\n",
      "[CV] END ..............................kmeans__n_clusters=44; total time=   3.6s\n",
      "[CV] END ..............................kmeans__n_clusters=44; total time=   3.2s\n",
      "[CV] END ..............................kmeans__n_clusters=45; total time=   3.8s\n",
      "[CV] END ..............................kmeans__n_clusters=45; total time=   3.8s\n",
      "[CV] END ..............................kmeans__n_clusters=45; total time=   3.8s\n",
      "[CV] END ..............................kmeans__n_clusters=46; total time=   3.8s\n",
      "[CV] END ..............................kmeans__n_clusters=46; total time=   4.0s\n",
      "[CV] END ..............................kmeans__n_clusters=46; total time=   4.1s\n",
      "[CV] END ..............................kmeans__n_clusters=47; total time=   3.7s\n",
      "[CV] END ..............................kmeans__n_clusters=47; total time=   3.7s\n",
      "[CV] END ..............................kmeans__n_clusters=47; total time=   3.9s\n",
      "[CV] END ..............................kmeans__n_clusters=48; total time=   4.6s\n",
      "[CV] END ..............................kmeans__n_clusters=48; total time=   4.2s\n",
      "[CV] END ..............................kmeans__n_clusters=48; total time=   3.8s\n",
      "[CV] END ..............................kmeans__n_clusters=49; total time=   3.7s\n",
      "[CV] END ..............................kmeans__n_clusters=49; total time=   3.8s\n",
      "[CV] END ..............................kmeans__n_clusters=49; total time=   4.1s\n",
      "[CV] END ..............................kmeans__n_clusters=50; total time=   3.9s\n",
      "[CV] END ..............................kmeans__n_clusters=50; total time=   4.2s\n",
      "[CV] END ..............................kmeans__n_clusters=50; total time=   4.0s\n",
      "[CV] END ..............................kmeans__n_clusters=51; total time=   4.4s\n",
      "[CV] END ..............................kmeans__n_clusters=51; total time=   4.7s\n",
      "[CV] END ..............................kmeans__n_clusters=51; total time=   4.2s\n",
      "[CV] END ..............................kmeans__n_clusters=52; total time=   4.0s\n",
      "[CV] END ..............................kmeans__n_clusters=52; total time=   4.1s\n",
      "[CV] END ..............................kmeans__n_clusters=52; total time=   4.2s\n",
      "[CV] END ..............................kmeans__n_clusters=53; total time=   3.9s\n",
      "[CV] END ..............................kmeans__n_clusters=53; total time=   3.9s\n",
      "[CV] END ..............................kmeans__n_clusters=53; total time=   4.0s\n",
      "[CV] END ..............................kmeans__n_clusters=54; total time=   3.9s\n",
      "[CV] END ..............................kmeans__n_clusters=54; total time=   4.0s\n",
      "[CV] END ..............................kmeans__n_clusters=54; total time=   3.5s\n",
      "[CV] END ..............................kmeans__n_clusters=55; total time=   3.7s\n",
      "[CV] END ..............................kmeans__n_clusters=55; total time=   4.0s\n",
      "[CV] END ..............................kmeans__n_clusters=55; total time=   4.1s\n",
      "[CV] END ..............................kmeans__n_clusters=56; total time=   3.8s\n",
      "[CV] END ..............................kmeans__n_clusters=56; total time=   3.8s\n",
      "[CV] END ..............................kmeans__n_clusters=56; total time=   3.9s\n",
      "[CV] END ..............................kmeans__n_clusters=57; total time=   4.0s\n",
      "[CV] END ..............................kmeans__n_clusters=57; total time=   4.1s\n",
      "[CV] END ..............................kmeans__n_clusters=57; total time=   4.1s\n",
      "[CV] END ..............................kmeans__n_clusters=58; total time=   3.9s\n",
      "[CV] END ..............................kmeans__n_clusters=58; total time=   4.7s\n",
      "[CV] END ..............................kmeans__n_clusters=58; total time=   3.8s\n",
      "[CV] END ..............................kmeans__n_clusters=59; total time=   4.0s\n",
      "[CV] END ..............................kmeans__n_clusters=59; total time=   3.4s\n",
      "[CV] END ..............................kmeans__n_clusters=59; total time=   3.6s\n",
      "[CV] END ..............................kmeans__n_clusters=60; total time=   4.1s\n",
      "[CV] END ..............................kmeans__n_clusters=60; total time=   3.9s\n",
      "[CV] END ..............................kmeans__n_clusters=60; total time=   4.4s\n",
      "[CV] END ..............................kmeans__n_clusters=61; total time=   3.7s\n",
      "[CV] END ..............................kmeans__n_clusters=61; total time=   4.2s\n",
      "[CV] END ..............................kmeans__n_clusters=61; total time=   4.0s\n",
      "[CV] END ..............................kmeans__n_clusters=62; total time=   4.0s\n",
      "[CV] END ..............................kmeans__n_clusters=62; total time=   4.4s\n",
      "[CV] END ..............................kmeans__n_clusters=62; total time=   3.5s\n",
      "[CV] END ..............................kmeans__n_clusters=63; total time=   4.2s\n",
      "[CV] END ..............................kmeans__n_clusters=63; total time=   4.5s\n",
      "[CV] END ..............................kmeans__n_clusters=63; total time=   3.9s\n",
      "[CV] END ..............................kmeans__n_clusters=64; total time=   3.7s\n",
      "[CV] END ..............................kmeans__n_clusters=64; total time=   4.1s\n",
      "[CV] END ..............................kmeans__n_clusters=64; total time=   3.8s\n",
      "[CV] END ..............................kmeans__n_clusters=65; total time=   3.8s\n",
      "[CV] END ..............................kmeans__n_clusters=65; total time=   4.7s\n",
      "[CV] END ..............................kmeans__n_clusters=65; total time=   3.9s\n",
      "[CV] END ..............................kmeans__n_clusters=66; total time=   4.9s\n",
      "[CV] END ..............................kmeans__n_clusters=66; total time=   4.7s\n",
      "[CV] END ..............................kmeans__n_clusters=66; total time=   4.3s\n",
      "[CV] END ..............................kmeans__n_clusters=67; total time=   4.4s\n",
      "[CV] END ..............................kmeans__n_clusters=67; total time=   4.3s\n",
      "[CV] END ..............................kmeans__n_clusters=67; total time=   4.0s\n",
      "[CV] END ..............................kmeans__n_clusters=68; total time=   3.9s\n",
      "[CV] END ..............................kmeans__n_clusters=68; total time=   4.0s\n",
      "[CV] END ..............................kmeans__n_clusters=68; total time=   4.4s\n",
      "[CV] END ..............................kmeans__n_clusters=69; total time=   3.7s\n",
      "[CV] END ..............................kmeans__n_clusters=69; total time=   4.7s\n"
     ]
    },
    {
     "name": "stdout",
     "output_type": "stream",
     "text": [
      "[CV] END ..............................kmeans__n_clusters=69; total time=   4.2s\n",
      "[CV] END ..............................kmeans__n_clusters=70; total time=   4.2s\n",
      "[CV] END ..............................kmeans__n_clusters=70; total time=   4.6s\n",
      "[CV] END ..............................kmeans__n_clusters=70; total time=   4.3s\n",
      "[CV] END ..............................kmeans__n_clusters=71; total time=   4.1s\n",
      "[CV] END ..............................kmeans__n_clusters=71; total time=   4.5s\n",
      "[CV] END ..............................kmeans__n_clusters=71; total time=   4.7s\n",
      "[CV] END ..............................kmeans__n_clusters=72; total time=   4.0s\n",
      "[CV] END ..............................kmeans__n_clusters=72; total time=   3.9s\n",
      "[CV] END ..............................kmeans__n_clusters=72; total time=   3.9s\n",
      "[CV] END ..............................kmeans__n_clusters=73; total time=   4.9s\n",
      "[CV] END ..............................kmeans__n_clusters=73; total time=   3.9s\n",
      "[CV] END ..............................kmeans__n_clusters=73; total time=   3.9s\n",
      "[CV] END ..............................kmeans__n_clusters=74; total time=   3.9s\n",
      "[CV] END ..............................kmeans__n_clusters=74; total time=   4.6s\n",
      "[CV] END ..............................kmeans__n_clusters=74; total time=   4.2s\n",
      "[CV] END ..............................kmeans__n_clusters=75; total time=   4.1s\n",
      "[CV] END ..............................kmeans__n_clusters=75; total time=   4.4s\n",
      "[CV] END ..............................kmeans__n_clusters=75; total time=   4.2s\n",
      "[CV] END ..............................kmeans__n_clusters=76; total time=   4.2s\n",
      "[CV] END ..............................kmeans__n_clusters=76; total time=   4.1s\n",
      "[CV] END ..............................kmeans__n_clusters=76; total time=   3.4s\n",
      "[CV] END ..............................kmeans__n_clusters=77; total time=   4.0s\n",
      "[CV] END ..............................kmeans__n_clusters=77; total time=   4.7s\n",
      "[CV] END ..............................kmeans__n_clusters=77; total time=   3.7s\n",
      "[CV] END ..............................kmeans__n_clusters=78; total time=   4.1s\n",
      "[CV] END ..............................kmeans__n_clusters=78; total time=   4.6s\n",
      "[CV] END ..............................kmeans__n_clusters=78; total time=   4.5s\n",
      "[CV] END ..............................kmeans__n_clusters=79; total time=   3.6s\n",
      "[CV] END ..............................kmeans__n_clusters=79; total time=   4.1s\n",
      "[CV] END ..............................kmeans__n_clusters=79; total time=   3.6s\n",
      "[CV] END ..............................kmeans__n_clusters=80; total time=   4.0s\n",
      "[CV] END ..............................kmeans__n_clusters=80; total time=   4.8s\n",
      "[CV] END ..............................kmeans__n_clusters=80; total time=   4.5s\n",
      "[CV] END ..............................kmeans__n_clusters=81; total time=   4.4s\n",
      "[CV] END ..............................kmeans__n_clusters=81; total time=   4.2s\n",
      "[CV] END ..............................kmeans__n_clusters=81; total time=   4.0s\n",
      "[CV] END ..............................kmeans__n_clusters=82; total time=   4.1s\n",
      "[CV] END ..............................kmeans__n_clusters=82; total time=   4.6s\n",
      "[CV] END ..............................kmeans__n_clusters=82; total time=   4.2s\n",
      "[CV] END ..............................kmeans__n_clusters=83; total time=   4.1s\n",
      "[CV] END ..............................kmeans__n_clusters=83; total time=   3.9s\n",
      "[CV] END ..............................kmeans__n_clusters=83; total time=   4.3s\n",
      "[CV] END ..............................kmeans__n_clusters=84; total time=   4.0s\n",
      "[CV] END ..............................kmeans__n_clusters=84; total time=   4.1s\n",
      "[CV] END ..............................kmeans__n_clusters=84; total time=   3.6s\n",
      "[CV] END ..............................kmeans__n_clusters=85; total time=   3.7s\n",
      "[CV] END ..............................kmeans__n_clusters=85; total time=   4.0s\n",
      "[CV] END ..............................kmeans__n_clusters=85; total time=   4.2s\n",
      "[CV] END ..............................kmeans__n_clusters=86; total time=   4.0s\n",
      "[CV] END ..............................kmeans__n_clusters=86; total time=   3.9s\n",
      "[CV] END ..............................kmeans__n_clusters=86; total time=   3.8s\n",
      "[CV] END ..............................kmeans__n_clusters=87; total time=   3.8s\n",
      "[CV] END ..............................kmeans__n_clusters=87; total time=   4.4s\n",
      "[CV] END ..............................kmeans__n_clusters=87; total time=   4.3s\n",
      "[CV] END ..............................kmeans__n_clusters=88; total time=   4.0s\n",
      "[CV] END ..............................kmeans__n_clusters=88; total time=   4.1s\n",
      "[CV] END ..............................kmeans__n_clusters=88; total time=   4.2s\n",
      "[CV] END ..............................kmeans__n_clusters=89; total time=   4.2s\n",
      "[CV] END ..............................kmeans__n_clusters=89; total time=   4.2s\n",
      "[CV] END ..............................kmeans__n_clusters=89; total time=   4.7s\n",
      "[CV] END ..............................kmeans__n_clusters=90; total time=   4.0s\n",
      "[CV] END ..............................kmeans__n_clusters=90; total time=   4.5s\n",
      "[CV] END ..............................kmeans__n_clusters=90; total time=   4.0s\n",
      "[CV] END ..............................kmeans__n_clusters=91; total time=   4.1s\n",
      "[CV] END ..............................kmeans__n_clusters=91; total time=   4.8s\n",
      "[CV] END ..............................kmeans__n_clusters=91; total time=   4.3s\n",
      "[CV] END ..............................kmeans__n_clusters=92; total time=   4.0s\n",
      "[CV] END ..............................kmeans__n_clusters=92; total time=   4.1s\n",
      "[CV] END ..............................kmeans__n_clusters=92; total time=   3.8s\n",
      "[CV] END ..............................kmeans__n_clusters=93; total time=   3.8s\n",
      "[CV] END ..............................kmeans__n_clusters=93; total time=   4.5s\n",
      "[CV] END ..............................kmeans__n_clusters=93; total time=   3.7s\n",
      "[CV] END ..............................kmeans__n_clusters=94; total time=   4.2s\n",
      "[CV] END ..............................kmeans__n_clusters=94; total time=   4.6s\n",
      "[CV] END ..............................kmeans__n_clusters=94; total time=   4.4s\n",
      "[CV] END ..............................kmeans__n_clusters=95; total time=   3.7s\n",
      "[CV] END ..............................kmeans__n_clusters=95; total time=   4.3s\n",
      "[CV] END ..............................kmeans__n_clusters=95; total time=   4.8s\n",
      "[CV] END ..............................kmeans__n_clusters=96; total time=   4.4s\n",
      "[CV] END ..............................kmeans__n_clusters=96; total time=   4.1s\n",
      "[CV] END ..............................kmeans__n_clusters=96; total time=   4.3s\n",
      "[CV] END ..............................kmeans__n_clusters=97; total time=   4.0s\n",
      "[CV] END ..............................kmeans__n_clusters=97; total time=   4.6s\n",
      "[CV] END ..............................kmeans__n_clusters=97; total time=   4.0s\n",
      "[CV] END ..............................kmeans__n_clusters=98; total time=   3.8s\n",
      "[CV] END ..............................kmeans__n_clusters=98; total time=   4.3s\n",
      "[CV] END ..............................kmeans__n_clusters=98; total time=   3.7s\n",
      "[CV] END ..............................kmeans__n_clusters=99; total time=   4.4s\n",
      "[CV] END ..............................kmeans__n_clusters=99; total time=   4.5s\n",
      "[CV] END ..............................kmeans__n_clusters=99; total time=   3.8s\n"
     ]
    },
    {
     "data": {
      "text/plain": [
       "GridSearchCV(cv=3,\n",
       "             estimator=Pipeline(steps=[('kmeans',\n",
       "                                        KMeans(n_clusters=50, random_state=42)),\n",
       "                                       ('log_reg',\n",
       "                                        LogisticRegression(max_iter=5000,\n",
       "                                                           multi_class='ovr',\n",
       "                                                           random_state=42))]),\n",
       "             param_grid={'kmeans__n_clusters': range(2, 100)}, verbose=2)"
      ]
     },
     "execution_count": 60,
     "metadata": {},
     "output_type": "execute_result"
    }
   ],
   "source": [
    "from sklearn.model_selection import GridSearchCV\n",
    "\n",
    "param_grid = dict(kmeans__n_clusters = range(2,100))\n",
    "grid_clf = GridSearchCV(pipeline, param_grid, cv=3, verbose= 2)\n",
    "grid_clf.fit(X_train, y_train)"
   ]
  },
  {
   "cell_type": "code",
   "execution_count": 61,
   "id": "81dc3b72",
   "metadata": {},
   "outputs": [
    {
     "data": {
      "text/plain": [
       "{'kmeans__n_clusters': 88}"
      ]
     },
     "execution_count": 61,
     "metadata": {},
     "output_type": "execute_result"
    }
   ],
   "source": [
    "grid_clf.best_params_"
   ]
  },
  {
   "cell_type": "code",
   "execution_count": 62,
   "id": "8c9458cd",
   "metadata": {},
   "outputs": [
    {
     "data": {
      "text/plain": [
       "0.9822222222222222"
      ]
     },
     "execution_count": 62,
     "metadata": {},
     "output_type": "execute_result"
    }
   ],
   "source": [
    "grid_clf.score(X_test, y_test)"
   ]
  },
  {
   "cell_type": "code",
   "execution_count": null,
   "id": "c7767a7e",
   "metadata": {},
   "outputs": [],
   "source": []
  }
 ],
 "metadata": {
  "kernelspec": {
   "display_name": "Python 3 (ipykernel)",
   "language": "python",
   "name": "python3"
  },
  "language_info": {
   "codemirror_mode": {
    "name": "ipython",
    "version": 3
   },
   "file_extension": ".py",
   "mimetype": "text/x-python",
   "name": "python",
   "nbconvert_exporter": "python",
   "pygments_lexer": "ipython3",
   "version": "3.9.5"
  }
 },
 "nbformat": 4,
 "nbformat_minor": 5
}
