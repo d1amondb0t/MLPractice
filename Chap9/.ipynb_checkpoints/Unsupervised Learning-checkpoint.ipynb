{
 "cells": [
  {
   "cell_type": "markdown",
   "id": "bbf85919",
   "metadata": {},
   "source": [
    "# Unsupervised Learning"
   ]
  },
  {
   "cell_type": "code",
   "execution_count": 1,
   "id": "2c43f723",
   "metadata": {},
   "outputs": [],
   "source": [
    "# Python ≥3.5 is required\n",
    "import sys\n",
    "assert sys.version_info >= (3, 5)\n",
    "\n",
    "# Scikit-Learn ≥0.20 is required\n",
    "import sklearn\n",
    "assert sklearn.__version__ >= \"0.20\"\n",
    "\n",
    "# Common imports\n",
    "import numpy as np\n",
    "import os\n",
    "\n",
    "# to make this notebook's output stable across runs\n",
    "np.random.seed(42)\n",
    "\n",
    "# To plot pretty figures\n",
    "%matplotlib inline\n",
    "import matplotlib as mpl\n",
    "import matplotlib.pyplot as plt\n",
    "mpl.rc('axes', labelsize=14)\n",
    "mpl.rc('xtick', labelsize=12)\n",
    "mpl.rc('ytick', labelsize=12)\n",
    "\n",
    "# Where to save the figures\n",
    "PROJECT_ROOT_DIR = \".\"\n",
    "CHAPTER_ID = \"unsupervised_learning\"\n",
    "IMAGES_PATH = os.path.join(PROJECT_ROOT_DIR, \"images\", CHAPTER_ID)\n",
    "os.makedirs(IMAGES_PATH, exist_ok=True)\n",
    "\n",
    "def save_fig(fig_id, tight_layout=True, fig_extension=\"png\", resolution=300):\n",
    "    path = os.path.join(IMAGES_PATH, fig_id + \".\" + fig_extension)\n",
    "    print(\"Saving figure\", fig_id)\n",
    "    if tight_layout:\n",
    "        plt.tight_layout()\n",
    "    plt.savefig(path, format=fig_extension, dpi=resolution)"
   ]
  },
  {
   "cell_type": "markdown",
   "id": "b0d0bfc4",
   "metadata": {},
   "source": [
    "## Clustering"
   ]
  },
  {
   "cell_type": "markdown",
   "id": "b7d89c72",
   "metadata": {},
   "source": [
    "### K-Means"
   ]
  },
  {
   "cell_type": "code",
   "execution_count": 2,
   "id": "8a671bb4",
   "metadata": {},
   "outputs": [],
   "source": [
    "from sklearn.datasets import make_blobs\n",
    "from sklearn.cluster import KMeans"
   ]
  },
  {
   "cell_type": "code",
   "execution_count": 3,
   "id": "5c481a74",
   "metadata": {},
   "outputs": [],
   "source": [
    "blob_centers = np.array(\n",
    "    [[ 0.2,  2.3],\n",
    "     [-1.5 ,  2.3],\n",
    "     [-2.8,  1.8],\n",
    "     [-2.8,  2.8],\n",
    "     [-2.8,  1.3]])\n",
    "blob_std = np.array([0.4, 0.3, 0.1, 0.1, 0.1])"
   ]
  },
  {
   "cell_type": "code",
   "execution_count": 4,
   "id": "5b9e20fc",
   "metadata": {},
   "outputs": [],
   "source": [
    "X, y = make_blobs(n_samples = 2000, centers=blob_centers, cluster_std=blob_std, random_state=7)"
   ]
  },
  {
   "cell_type": "code",
   "execution_count": 5,
   "id": "b979f03a",
   "metadata": {},
   "outputs": [],
   "source": [
    "k = 5\n",
    "kmeans = KMeans(n_clusters=k, random_state=42)\n",
    "y_pred = kmeans.fit_predict(X)"
   ]
  },
  {
   "cell_type": "code",
   "execution_count": 6,
   "id": "88e7de0a",
   "metadata": {},
   "outputs": [
    {
     "data": {
      "text/plain": [
       "array([4, 0, 1, ..., 2, 1, 0])"
      ]
     },
     "execution_count": 6,
     "metadata": {},
     "output_type": "execute_result"
    }
   ],
   "source": [
    "y_pred"
   ]
  },
  {
   "cell_type": "code",
   "execution_count": 7,
   "id": "2342e0b1",
   "metadata": {},
   "outputs": [
    {
     "data": {
      "text/plain": [
       "True"
      ]
     },
     "execution_count": 7,
     "metadata": {},
     "output_type": "execute_result"
    }
   ],
   "source": [
    "y_pred is kmeans.labels_"
   ]
  },
  {
   "cell_type": "code",
   "execution_count": 8,
   "id": "f1cb8512",
   "metadata": {},
   "outputs": [
    {
     "data": {
      "text/plain": [
       "array([[-2.80389616,  1.80117999],\n",
       "       [ 0.20876306,  2.25551336],\n",
       "       [-2.79290307,  2.79641063],\n",
       "       [-1.46679593,  2.28585348],\n",
       "       [-2.80037642,  1.30082566]])"
      ]
     },
     "execution_count": 8,
     "metadata": {},
     "output_type": "execute_result"
    }
   ],
   "source": [
    "kmeans.cluster_centers_"
   ]
  },
  {
   "cell_type": "code",
   "execution_count": 9,
   "id": "2184737a",
   "metadata": {},
   "outputs": [
    {
     "data": {
      "text/plain": [
       "array([1, 2, 2])"
      ]
     },
     "execution_count": 9,
     "metadata": {},
     "output_type": "execute_result"
    }
   ],
   "source": [
    "X_new = np.array([[0,2], [-3,3],[-3, 2.5]])\n",
    "kmeans.predict(X_new)"
   ]
  },
  {
   "cell_type": "code",
   "execution_count": 10,
   "id": "6068ce28",
   "metadata": {},
   "outputs": [
    {
     "data": {
      "text/plain": [
       "array([[2.81093633, 0.32995317, 2.9042344 , 1.49439034, 2.88633901],\n",
       "       [1.21475352, 3.29399768, 0.29040966, 1.69136631, 1.71086031],\n",
       "       [0.72581411, 3.21806371, 0.36159148, 1.54808703, 1.21567622]])"
      ]
     },
     "execution_count": 10,
     "metadata": {},
     "output_type": "execute_result"
    }
   ],
   "source": [
    "kmeans.transform(X_new)"
   ]
  },
  {
   "cell_type": "markdown",
   "id": "9cfead46",
   "metadata": {},
   "source": [
    "### Centroid Initialization methods"
   ]
  },
  {
   "cell_type": "code",
   "execution_count": 11,
   "id": "dec27c9c",
   "metadata": {},
   "outputs": [],
   "source": [
    "good_init = np.array([[-3,3],[-3, 2],[-3,1],[-1,2],[0,2]])\n",
    "kmeans = KMeans(n_clusters=5, init=good_init, n_init=1)"
   ]
  },
  {
   "cell_type": "code",
   "execution_count": 12,
   "id": "ce22e273",
   "metadata": {},
   "outputs": [
    {
     "data": {
      "text/plain": [
       "211.5985372581683"
      ]
     },
     "execution_count": 12,
     "metadata": {},
     "output_type": "execute_result"
    }
   ],
   "source": [
    "kmeans.fit(X)\n",
    "kmeans.inertia_"
   ]
  },
  {
   "cell_type": "code",
   "execution_count": 13,
   "id": "c1a30ab3",
   "metadata": {},
   "outputs": [
    {
     "data": {
      "text/plain": [
       "-211.5985372581683"
      ]
     },
     "execution_count": 13,
     "metadata": {},
     "output_type": "execute_result"
    }
   ],
   "source": [
    "kmeans.score(X)"
   ]
  },
  {
   "cell_type": "markdown",
   "id": "ca8ed2af",
   "metadata": {},
   "source": [
    "###  Accelerated K-Means and Mini-Batch K-Means"
   ]
  },
  {
   "cell_type": "code",
   "execution_count": 14,
   "id": "d4e41385",
   "metadata": {},
   "outputs": [
    {
     "data": {
      "text/plain": [
       "MiniBatchKMeans(n_clusters=5, random_state=42)"
      ]
     },
     "execution_count": 14,
     "metadata": {},
     "output_type": "execute_result"
    }
   ],
   "source": [
    "from sklearn.cluster import MiniBatchKMeans\n",
    "\n",
    "minibatch_kmeans = MiniBatchKMeans(n_clusters=5, random_state=42)\n",
    "minibatch_kmeans.fit(X)"
   ]
  },
  {
   "cell_type": "markdown",
   "id": "164e46b9",
   "metadata": {},
   "source": [
    "### Finding the optimal number of clusters"
   ]
  },
  {
   "cell_type": "code",
   "execution_count": 15,
   "id": "f1a3061f",
   "metadata": {},
   "outputs": [
    {
     "data": {
      "text/plain": [
       "0.655517642572828"
      ]
     },
     "execution_count": 15,
     "metadata": {},
     "output_type": "execute_result"
    }
   ],
   "source": [
    "from sklearn.metrics import silhouette_score\n",
    "\n",
    "silhouette_score(X, kmeans.labels_)"
   ]
  },
  {
   "cell_type": "markdown",
   "id": "e610ede7",
   "metadata": {},
   "source": [
    "### Using Clustering for Image Segmentation"
   ]
  },
  {
   "cell_type": "code",
   "execution_count": 16,
   "id": "c9329791",
   "metadata": {},
   "outputs": [
    {
     "name": "stdout",
     "output_type": "stream",
     "text": [
      "Downloading ladybug.png\n"
     ]
    },
    {
     "data": {
      "text/plain": [
       "('.\\\\images\\\\unsupervised_learning\\\\ladybug.png',\n",
       " <http.client.HTTPMessage at 0x2057b580b20>)"
      ]
     },
     "execution_count": 16,
     "metadata": {},
     "output_type": "execute_result"
    }
   ],
   "source": [
    "import urllib.request\n",
    "images_path = os.path.join(PROJECT_ROOT_DIR, \"images\",\"unsupervised_learning\")\n",
    "os.makedirs(images_path, exist_ok=True)\n",
    "DOWNLOAD_ROOT=\"https://raw.githubusercontent.com/ageron/handson-ml2/master/\"\n",
    "filename = \"ladybug.png\"\n",
    "print(\"Downloading\", filename)\n",
    "url = DOWNLOAD_ROOT + \"images/unsupervised_learning/\"+filename\n",
    "urllib.request.urlretrieve(url, os.path.join(images_path, filename))"
   ]
  },
  {
   "cell_type": "code",
   "execution_count": 17,
   "id": "4ee5023a",
   "metadata": {},
   "outputs": [],
   "source": [
    "from matplotlib.image import imread\n",
    "\n",
    "image = imread(os.path.join(\"images\",\"unsupervised_learning\", \"ladybug.png\"))\n"
   ]
  },
  {
   "cell_type": "code",
   "execution_count": 18,
   "id": "46a0b82e",
   "metadata": {},
   "outputs": [
    {
     "data": {
      "text/plain": [
       "(533, 800, 3)"
      ]
     },
     "execution_count": 18,
     "metadata": {},
     "output_type": "execute_result"
    }
   ],
   "source": [
    "image.shape"
   ]
  },
  {
   "cell_type": "code",
   "execution_count": 19,
   "id": "a2a38460",
   "metadata": {},
   "outputs": [],
   "source": [
    "X = image.reshape(-1,3)\n",
    "kmeans = KMeans(n_clusters=8)\n",
    "kmeans.fit(X)\n",
    "segmented_img = kmeans.cluster_centers_[kmeans.labels_]\n",
    "segmented_img = segmented_img.reshape(image.shape)"
   ]
  },
  {
   "cell_type": "markdown",
   "id": "7620cf9a",
   "metadata": {},
   "source": [
    "### Using Clustering for Preprocessing"
   ]
  },
  {
   "cell_type": "code",
   "execution_count": 20,
   "id": "de24a162",
   "metadata": {},
   "outputs": [],
   "source": [
    "from sklearn.datasets import load_digits\n",
    "\n",
    "X_digits, y_digits =load_digits(return_X_y = True)"
   ]
  },
  {
   "cell_type": "code",
   "execution_count": 21,
   "id": "8e54c5f6",
   "metadata": {},
   "outputs": [],
   "source": [
    "from sklearn.model_selection import train_test_split\n",
    "\n",
    "X_train, X_test, y_train, y_test = train_test_split(X_digits, y_digits, random_state=42)"
   ]
  },
  {
   "cell_type": "code",
   "execution_count": 22,
   "id": "0bcdb1b3",
   "metadata": {},
   "outputs": [
    {
     "data": {
      "text/plain": [
       "LogisticRegression(max_iter=5000, multi_class='ovr', random_state=42)"
      ]
     },
     "execution_count": 22,
     "metadata": {},
     "output_type": "execute_result"
    }
   ],
   "source": [
    "from sklearn.linear_model import LogisticRegression\n",
    "\n",
    "log_reg = LogisticRegression(multi_class=\"ovr\", solver=\"lbfgs\", max_iter=5000, random_state=42)\n",
    "log_reg.fit(X_train, y_train)"
   ]
  },
  {
   "cell_type": "code",
   "execution_count": 23,
   "id": "e45fda36",
   "metadata": {},
   "outputs": [
    {
     "data": {
      "text/plain": [
       "0.9688888888888889"
      ]
     },
     "execution_count": 23,
     "metadata": {},
     "output_type": "execute_result"
    }
   ],
   "source": [
    "log_reg_score = log_reg.score(X_test, y_test)\n",
    "log_reg_score"
   ]
  },
  {
   "cell_type": "code",
   "execution_count": 24,
   "id": "81feae65",
   "metadata": {},
   "outputs": [
    {
     "data": {
      "text/plain": [
       "Pipeline(steps=[('kmeans', KMeans(n_clusters=50, random_state=42)),\n",
       "                ('log_reg',\n",
       "                 LogisticRegression(max_iter=5000, multi_class='ovr',\n",
       "                                    random_state=42))])"
      ]
     },
     "execution_count": 24,
     "metadata": {},
     "output_type": "execute_result"
    }
   ],
   "source": [
    "from sklearn.pipeline import Pipeline\n",
    "\n",
    "pipeline = Pipeline([\n",
    "    (\"kmeans\", KMeans(n_clusters=50, random_state=42)),\n",
    "    (\"log_reg\", LogisticRegression(multi_class=\"ovr\",solver=\"lbfgs\", max_iter=5000, random_state=42)),\n",
    "])\n",
    "pipeline.fit(X_train, y_train)"
   ]
  },
  {
   "cell_type": "code",
   "execution_count": 25,
   "id": "407800a6",
   "metadata": {},
   "outputs": [
    {
     "data": {
      "text/plain": [
       "0.9777777777777777"
      ]
     },
     "execution_count": 25,
     "metadata": {},
     "output_type": "execute_result"
    }
   ],
   "source": [
    "pipeline.score(X_test, y_test)"
   ]
  },
  {
   "cell_type": "code",
   "execution_count": 26,
   "id": "633717f8",
   "metadata": {},
   "outputs": [
    {
     "name": "stdout",
     "output_type": "stream",
     "text": [
      "Fitting 3 folds for each of 98 candidates, totalling 294 fits\n",
      "[CV] END ...............................kmeans__n_clusters=2; total time=   0.0s\n",
      "[CV] END ...............................kmeans__n_clusters=2; total time=   0.0s\n",
      "[CV] END ...............................kmeans__n_clusters=2; total time=   0.0s\n",
      "[CV] END ...............................kmeans__n_clusters=3; total time=   0.0s\n",
      "[CV] END ...............................kmeans__n_clusters=3; total time=   0.0s\n",
      "[CV] END ...............................kmeans__n_clusters=3; total time=   0.0s\n",
      "[CV] END ...............................kmeans__n_clusters=4; total time=   0.0s\n",
      "[CV] END ...............................kmeans__n_clusters=4; total time=   0.0s\n",
      "[CV] END ...............................kmeans__n_clusters=4; total time=   0.0s\n",
      "[CV] END ...............................kmeans__n_clusters=5; total time=   0.0s\n",
      "[CV] END ...............................kmeans__n_clusters=5; total time=   0.1s\n",
      "[CV] END ...............................kmeans__n_clusters=5; total time=   0.0s\n",
      "[CV] END ...............................kmeans__n_clusters=6; total time=   0.1s\n",
      "[CV] END ...............................kmeans__n_clusters=6; total time=   0.1s\n",
      "[CV] END ...............................kmeans__n_clusters=6; total time=   0.1s\n",
      "[CV] END ...............................kmeans__n_clusters=7; total time=   0.1s\n",
      "[CV] END ...............................kmeans__n_clusters=7; total time=   0.1s\n",
      "[CV] END ...............................kmeans__n_clusters=7; total time=   0.1s\n",
      "[CV] END ...............................kmeans__n_clusters=8; total time=   0.2s\n",
      "[CV] END ...............................kmeans__n_clusters=8; total time=   0.2s\n",
      "[CV] END ...............................kmeans__n_clusters=8; total time=   0.2s\n",
      "[CV] END ...............................kmeans__n_clusters=9; total time=   0.3s\n",
      "[CV] END ...............................kmeans__n_clusters=9; total time=   0.2s\n",
      "[CV] END ...............................kmeans__n_clusters=9; total time=   0.3s\n",
      "[CV] END ..............................kmeans__n_clusters=10; total time=   0.4s\n",
      "[CV] END ..............................kmeans__n_clusters=10; total time=   0.4s\n",
      "[CV] END ..............................kmeans__n_clusters=10; total time=   0.3s\n",
      "[CV] END ..............................kmeans__n_clusters=11; total time=   0.7s\n",
      "[CV] END ..............................kmeans__n_clusters=11; total time=   0.8s\n",
      "[CV] END ..............................kmeans__n_clusters=11; total time=   0.7s\n",
      "[CV] END ..............................kmeans__n_clusters=12; total time=   0.8s\n",
      "[CV] END ..............................kmeans__n_clusters=12; total time=   0.9s\n",
      "[CV] END ..............................kmeans__n_clusters=12; total time=   0.9s\n",
      "[CV] END ..............................kmeans__n_clusters=13; total time=   1.2s\n",
      "[CV] END ..............................kmeans__n_clusters=13; total time=   1.1s\n",
      "[CV] END ..............................kmeans__n_clusters=13; total time=   1.1s\n",
      "[CV] END ..............................kmeans__n_clusters=14; total time=   1.3s\n",
      "[CV] END ..............................kmeans__n_clusters=14; total time=   1.2s\n",
      "[CV] END ..............................kmeans__n_clusters=14; total time=   1.2s\n",
      "[CV] END ..............................kmeans__n_clusters=15; total time=   1.5s\n",
      "[CV] END ..............................kmeans__n_clusters=15; total time=   1.3s\n",
      "[CV] END ..............................kmeans__n_clusters=15; total time=   1.5s\n",
      "[CV] END ..............................kmeans__n_clusters=16; total time=   1.9s\n",
      "[CV] END ..............................kmeans__n_clusters=16; total time=   1.6s\n",
      "[CV] END ..............................kmeans__n_clusters=16; total time=   1.6s\n",
      "[CV] END ..............................kmeans__n_clusters=17; total time=   1.9s\n",
      "[CV] END ..............................kmeans__n_clusters=17; total time=   1.8s\n",
      "[CV] END ..............................kmeans__n_clusters=17; total time=   1.7s\n",
      "[CV] END ..............................kmeans__n_clusters=18; total time=   2.0s\n",
      "[CV] END ..............................kmeans__n_clusters=18; total time=   1.9s\n",
      "[CV] END ..............................kmeans__n_clusters=18; total time=   1.8s\n",
      "[CV] END ..............................kmeans__n_clusters=19; total time=   2.1s\n",
      "[CV] END ..............................kmeans__n_clusters=19; total time=   2.1s\n",
      "[CV] END ..............................kmeans__n_clusters=19; total time=   1.9s\n",
      "[CV] END ..............................kmeans__n_clusters=20; total time=   2.5s\n",
      "[CV] END ..............................kmeans__n_clusters=20; total time=   2.6s\n",
      "[CV] END ..............................kmeans__n_clusters=20; total time=   1.9s\n",
      "[CV] END ..............................kmeans__n_clusters=21; total time=   2.3s\n",
      "[CV] END ..............................kmeans__n_clusters=21; total time=   2.4s\n",
      "[CV] END ..............................kmeans__n_clusters=21; total time=   2.1s\n",
      "[CV] END ..............................kmeans__n_clusters=22; total time=   2.6s\n",
      "[CV] END ..............................kmeans__n_clusters=22; total time=   2.5s\n",
      "[CV] END ..............................kmeans__n_clusters=22; total time=   2.3s\n",
      "[CV] END ..............................kmeans__n_clusters=23; total time=   2.5s\n",
      "[CV] END ..............................kmeans__n_clusters=23; total time=   2.5s\n",
      "[CV] END ..............................kmeans__n_clusters=23; total time=   2.6s\n",
      "[CV] END ..............................kmeans__n_clusters=24; total time=   2.7s\n",
      "[CV] END ..............................kmeans__n_clusters=24; total time=   2.6s\n",
      "[CV] END ..............................kmeans__n_clusters=24; total time=   2.6s\n",
      "[CV] END ..............................kmeans__n_clusters=25; total time=   2.8s\n",
      "[CV] END ..............................kmeans__n_clusters=25; total time=   2.8s\n",
      "[CV] END ..............................kmeans__n_clusters=25; total time=   3.0s\n",
      "[CV] END ..............................kmeans__n_clusters=26; total time=   3.0s\n",
      "[CV] END ..............................kmeans__n_clusters=26; total time=   2.9s\n",
      "[CV] END ..............................kmeans__n_clusters=26; total time=   2.8s\n",
      "[CV] END ..............................kmeans__n_clusters=27; total time=   2.9s\n",
      "[CV] END ..............................kmeans__n_clusters=27; total time=   3.0s\n",
      "[CV] END ..............................kmeans__n_clusters=27; total time=   2.7s\n",
      "[CV] END ..............................kmeans__n_clusters=28; total time=   3.1s\n",
      "[CV] END ..............................kmeans__n_clusters=28; total time=   3.1s\n",
      "[CV] END ..............................kmeans__n_clusters=28; total time=   2.7s\n",
      "[CV] END ..............................kmeans__n_clusters=29; total time=   2.9s\n",
      "[CV] END ..............................kmeans__n_clusters=29; total time=   3.4s\n",
      "[CV] END ..............................kmeans__n_clusters=29; total time=   3.1s\n",
      "[CV] END ..............................kmeans__n_clusters=30; total time=   3.0s\n",
      "[CV] END ..............................kmeans__n_clusters=30; total time=   3.3s\n",
      "[CV] END ..............................kmeans__n_clusters=30; total time=   2.9s\n",
      "[CV] END ..............................kmeans__n_clusters=31; total time=   3.4s\n",
      "[CV] END ..............................kmeans__n_clusters=31; total time=   3.2s\n",
      "[CV] END ..............................kmeans__n_clusters=31; total time=   2.8s\n",
      "[CV] END ..............................kmeans__n_clusters=32; total time=   3.1s\n",
      "[CV] END ..............................kmeans__n_clusters=32; total time=   3.2s\n",
      "[CV] END ..............................kmeans__n_clusters=32; total time=   2.8s\n",
      "[CV] END ..............................kmeans__n_clusters=33; total time=   3.5s\n",
      "[CV] END ..............................kmeans__n_clusters=33; total time=   3.4s\n",
      "[CV] END ..............................kmeans__n_clusters=33; total time=   3.1s\n",
      "[CV] END ..............................kmeans__n_clusters=34; total time=   3.3s\n",
      "[CV] END ..............................kmeans__n_clusters=34; total time=   3.5s\n",
      "[CV] END ..............................kmeans__n_clusters=34; total time=   3.1s\n",
      "[CV] END ..............................kmeans__n_clusters=35; total time=   3.2s\n",
      "[CV] END ..............................kmeans__n_clusters=35; total time=   3.4s\n"
     ]
    },
    {
     "name": "stdout",
     "output_type": "stream",
     "text": [
      "[CV] END ..............................kmeans__n_clusters=35; total time=   3.2s\n",
      "[CV] END ..............................kmeans__n_clusters=36; total time=   3.6s\n",
      "[CV] END ..............................kmeans__n_clusters=36; total time=   3.4s\n",
      "[CV] END ..............................kmeans__n_clusters=36; total time=   3.1s\n",
      "[CV] END ..............................kmeans__n_clusters=37; total time=   3.5s\n",
      "[CV] END ..............................kmeans__n_clusters=37; total time=   3.2s\n",
      "[CV] END ..............................kmeans__n_clusters=37; total time=   2.8s\n",
      "[CV] END ..............................kmeans__n_clusters=38; total time=   3.3s\n",
      "[CV] END ..............................kmeans__n_clusters=38; total time=   3.4s\n",
      "[CV] END ..............................kmeans__n_clusters=38; total time=   3.6s\n",
      "[CV] END ..............................kmeans__n_clusters=39; total time=   3.5s\n",
      "[CV] END ..............................kmeans__n_clusters=39; total time=   3.9s\n",
      "[CV] END ..............................kmeans__n_clusters=39; total time=   3.3s\n",
      "[CV] END ..............................kmeans__n_clusters=40; total time=   3.3s\n",
      "[CV] END ..............................kmeans__n_clusters=40; total time=   3.5s\n",
      "[CV] END ..............................kmeans__n_clusters=40; total time=   3.4s\n",
      "[CV] END ..............................kmeans__n_clusters=41; total time=   3.3s\n",
      "[CV] END ..............................kmeans__n_clusters=41; total time=   3.4s\n",
      "[CV] END ..............................kmeans__n_clusters=41; total time=   3.5s\n",
      "[CV] END ..............................kmeans__n_clusters=42; total time=   3.5s\n",
      "[CV] END ..............................kmeans__n_clusters=42; total time=   3.2s\n",
      "[CV] END ..............................kmeans__n_clusters=42; total time=   3.5s\n",
      "[CV] END ..............................kmeans__n_clusters=43; total time=   3.4s\n",
      "[CV] END ..............................kmeans__n_clusters=43; total time=   3.4s\n",
      "[CV] END ..............................kmeans__n_clusters=43; total time=   3.3s\n",
      "[CV] END ..............................kmeans__n_clusters=44; total time=   3.6s\n",
      "[CV] END ..............................kmeans__n_clusters=44; total time=   3.3s\n",
      "[CV] END ..............................kmeans__n_clusters=44; total time=   3.0s\n",
      "[CV] END ..............................kmeans__n_clusters=45; total time=   3.4s\n",
      "[CV] END ..............................kmeans__n_clusters=45; total time=   3.4s\n",
      "[CV] END ..............................kmeans__n_clusters=45; total time=   3.5s\n",
      "[CV] END ..............................kmeans__n_clusters=46; total time=   3.3s\n",
      "[CV] END ..............................kmeans__n_clusters=46; total time=   3.5s\n",
      "[CV] END ..............................kmeans__n_clusters=46; total time=   3.8s\n",
      "[CV] END ..............................kmeans__n_clusters=47; total time=   4.1s\n",
      "[CV] END ..............................kmeans__n_clusters=47; total time=   3.2s\n",
      "[CV] END ..............................kmeans__n_clusters=47; total time=   3.5s\n",
      "[CV] END ..............................kmeans__n_clusters=48; total time=   3.4s\n",
      "[CV] END ..............................kmeans__n_clusters=48; total time=   3.8s\n",
      "[CV] END ..............................kmeans__n_clusters=48; total time=   3.1s\n",
      "[CV] END ..............................kmeans__n_clusters=49; total time=   3.4s\n",
      "[CV] END ..............................kmeans__n_clusters=49; total time=   3.8s\n",
      "[CV] END ..............................kmeans__n_clusters=49; total time=   3.7s\n",
      "[CV] END ..............................kmeans__n_clusters=50; total time=   3.6s\n",
      "[CV] END ..............................kmeans__n_clusters=50; total time=   3.8s\n",
      "[CV] END ..............................kmeans__n_clusters=50; total time=   3.8s\n",
      "[CV] END ..............................kmeans__n_clusters=51; total time=   3.9s\n",
      "[CV] END ..............................kmeans__n_clusters=51; total time=   3.7s\n",
      "[CV] END ..............................kmeans__n_clusters=51; total time=   3.5s\n",
      "[CV] END ..............................kmeans__n_clusters=52; total time=   3.4s\n",
      "[CV] END ..............................kmeans__n_clusters=52; total time=   3.7s\n",
      "[CV] END ..............................kmeans__n_clusters=52; total time=   3.7s\n",
      "[CV] END ..............................kmeans__n_clusters=53; total time=   3.5s\n",
      "[CV] END ..............................kmeans__n_clusters=53; total time=   3.4s\n",
      "[CV] END ..............................kmeans__n_clusters=53; total time=   3.5s\n",
      "[CV] END ..............................kmeans__n_clusters=54; total time=   3.6s\n",
      "[CV] END ..............................kmeans__n_clusters=54; total time=   3.6s\n",
      "[CV] END ..............................kmeans__n_clusters=54; total time=   3.0s\n",
      "[CV] END ..............................kmeans__n_clusters=55; total time=   3.6s\n",
      "[CV] END ..............................kmeans__n_clusters=55; total time=   3.6s\n",
      "[CV] END ..............................kmeans__n_clusters=55; total time=   3.7s\n",
      "[CV] END ..............................kmeans__n_clusters=56; total time=   3.5s\n",
      "[CV] END ..............................kmeans__n_clusters=56; total time=   3.3s\n",
      "[CV] END ..............................kmeans__n_clusters=56; total time=   4.2s\n",
      "[CV] END ..............................kmeans__n_clusters=57; total time=   3.6s\n"
     ]
    },
    {
     "ename": "KeyboardInterrupt",
     "evalue": "",
     "output_type": "error",
     "traceback": [
      "\u001b[1;31m---------------------------------------------------------------------------\u001b[0m",
      "\u001b[1;31mKeyboardInterrupt\u001b[0m                         Traceback (most recent call last)",
      "\u001b[1;32m~\\AppData\\Local\\Temp/ipykernel_18328/3450863000.py\u001b[0m in \u001b[0;36m<module>\u001b[1;34m\u001b[0m\n\u001b[0;32m      3\u001b[0m \u001b[0mparam_grid\u001b[0m \u001b[1;33m=\u001b[0m \u001b[0mdict\u001b[0m\u001b[1;33m(\u001b[0m\u001b[0mkmeans__n_clusters\u001b[0m \u001b[1;33m=\u001b[0m \u001b[0mrange\u001b[0m\u001b[1;33m(\u001b[0m\u001b[1;36m2\u001b[0m\u001b[1;33m,\u001b[0m\u001b[1;36m100\u001b[0m\u001b[1;33m)\u001b[0m\u001b[1;33m)\u001b[0m\u001b[1;33m\u001b[0m\u001b[1;33m\u001b[0m\u001b[0m\n\u001b[0;32m      4\u001b[0m \u001b[0mgrid_clf\u001b[0m \u001b[1;33m=\u001b[0m \u001b[0mGridSearchCV\u001b[0m\u001b[1;33m(\u001b[0m\u001b[0mpipeline\u001b[0m\u001b[1;33m,\u001b[0m \u001b[0mparam_grid\u001b[0m\u001b[1;33m,\u001b[0m \u001b[0mcv\u001b[0m\u001b[1;33m=\u001b[0m\u001b[1;36m3\u001b[0m\u001b[1;33m,\u001b[0m \u001b[0mverbose\u001b[0m\u001b[1;33m=\u001b[0m \u001b[1;36m2\u001b[0m\u001b[1;33m)\u001b[0m\u001b[1;33m\u001b[0m\u001b[1;33m\u001b[0m\u001b[0m\n\u001b[1;32m----> 5\u001b[1;33m \u001b[0mgrid_clf\u001b[0m\u001b[1;33m.\u001b[0m\u001b[0mfit\u001b[0m\u001b[1;33m(\u001b[0m\u001b[0mX_train\u001b[0m\u001b[1;33m,\u001b[0m \u001b[0my_train\u001b[0m\u001b[1;33m)\u001b[0m\u001b[1;33m\u001b[0m\u001b[1;33m\u001b[0m\u001b[0m\n\u001b[0m",
      "\u001b[1;32m~\\AppData\\Roaming\\Python\\Python39\\site-packages\\sklearn\\utils\\validation.py\u001b[0m in \u001b[0;36minner_f\u001b[1;34m(*args, **kwargs)\u001b[0m\n\u001b[0;32m     61\u001b[0m             \u001b[0mextra_args\u001b[0m \u001b[1;33m=\u001b[0m \u001b[0mlen\u001b[0m\u001b[1;33m(\u001b[0m\u001b[0margs\u001b[0m\u001b[1;33m)\u001b[0m \u001b[1;33m-\u001b[0m \u001b[0mlen\u001b[0m\u001b[1;33m(\u001b[0m\u001b[0mall_args\u001b[0m\u001b[1;33m)\u001b[0m\u001b[1;33m\u001b[0m\u001b[1;33m\u001b[0m\u001b[0m\n\u001b[0;32m     62\u001b[0m             \u001b[1;32mif\u001b[0m \u001b[0mextra_args\u001b[0m \u001b[1;33m<=\u001b[0m \u001b[1;36m0\u001b[0m\u001b[1;33m:\u001b[0m\u001b[1;33m\u001b[0m\u001b[1;33m\u001b[0m\u001b[0m\n\u001b[1;32m---> 63\u001b[1;33m                 \u001b[1;32mreturn\u001b[0m \u001b[0mf\u001b[0m\u001b[1;33m(\u001b[0m\u001b[1;33m*\u001b[0m\u001b[0margs\u001b[0m\u001b[1;33m,\u001b[0m \u001b[1;33m**\u001b[0m\u001b[0mkwargs\u001b[0m\u001b[1;33m)\u001b[0m\u001b[1;33m\u001b[0m\u001b[1;33m\u001b[0m\u001b[0m\n\u001b[0m\u001b[0;32m     64\u001b[0m \u001b[1;33m\u001b[0m\u001b[0m\n\u001b[0;32m     65\u001b[0m             \u001b[1;31m# extra_args > 0\u001b[0m\u001b[1;33m\u001b[0m\u001b[1;33m\u001b[0m\u001b[1;33m\u001b[0m\u001b[0m\n",
      "\u001b[1;32m~\\AppData\\Roaming\\Python\\Python39\\site-packages\\sklearn\\model_selection\\_search.py\u001b[0m in \u001b[0;36mfit\u001b[1;34m(self, X, y, groups, **fit_params)\u001b[0m\n\u001b[0;32m    839\u001b[0m                 \u001b[1;32mreturn\u001b[0m \u001b[0mresults\u001b[0m\u001b[1;33m\u001b[0m\u001b[1;33m\u001b[0m\u001b[0m\n\u001b[0;32m    840\u001b[0m \u001b[1;33m\u001b[0m\u001b[0m\n\u001b[1;32m--> 841\u001b[1;33m             \u001b[0mself\u001b[0m\u001b[1;33m.\u001b[0m\u001b[0m_run_search\u001b[0m\u001b[1;33m(\u001b[0m\u001b[0mevaluate_candidates\u001b[0m\u001b[1;33m)\u001b[0m\u001b[1;33m\u001b[0m\u001b[1;33m\u001b[0m\u001b[0m\n\u001b[0m\u001b[0;32m    842\u001b[0m \u001b[1;33m\u001b[0m\u001b[0m\n\u001b[0;32m    843\u001b[0m             \u001b[1;31m# multimetric is determined here because in the case of a callable\u001b[0m\u001b[1;33m\u001b[0m\u001b[1;33m\u001b[0m\u001b[1;33m\u001b[0m\u001b[0m\n",
      "\u001b[1;32m~\\AppData\\Roaming\\Python\\Python39\\site-packages\\sklearn\\model_selection\\_search.py\u001b[0m in \u001b[0;36m_run_search\u001b[1;34m(self, evaluate_candidates)\u001b[0m\n\u001b[0;32m   1294\u001b[0m     \u001b[1;32mdef\u001b[0m \u001b[0m_run_search\u001b[0m\u001b[1;33m(\u001b[0m\u001b[0mself\u001b[0m\u001b[1;33m,\u001b[0m \u001b[0mevaluate_candidates\u001b[0m\u001b[1;33m)\u001b[0m\u001b[1;33m:\u001b[0m\u001b[1;33m\u001b[0m\u001b[1;33m\u001b[0m\u001b[0m\n\u001b[0;32m   1295\u001b[0m         \u001b[1;34m\"\"\"Search all candidates in param_grid\"\"\"\u001b[0m\u001b[1;33m\u001b[0m\u001b[1;33m\u001b[0m\u001b[0m\n\u001b[1;32m-> 1296\u001b[1;33m         \u001b[0mevaluate_candidates\u001b[0m\u001b[1;33m(\u001b[0m\u001b[0mParameterGrid\u001b[0m\u001b[1;33m(\u001b[0m\u001b[0mself\u001b[0m\u001b[1;33m.\u001b[0m\u001b[0mparam_grid\u001b[0m\u001b[1;33m)\u001b[0m\u001b[1;33m)\u001b[0m\u001b[1;33m\u001b[0m\u001b[1;33m\u001b[0m\u001b[0m\n\u001b[0m\u001b[0;32m   1297\u001b[0m \u001b[1;33m\u001b[0m\u001b[0m\n\u001b[0;32m   1298\u001b[0m \u001b[1;33m\u001b[0m\u001b[0m\n",
      "\u001b[1;32m~\\AppData\\Roaming\\Python\\Python39\\site-packages\\sklearn\\model_selection\\_search.py\u001b[0m in \u001b[0;36mevaluate_candidates\u001b[1;34m(candidate_params, cv, more_results)\u001b[0m\n\u001b[0;32m    793\u001b[0m                               n_splits, n_candidates, n_candidates * n_splits))\n\u001b[0;32m    794\u001b[0m \u001b[1;33m\u001b[0m\u001b[0m\n\u001b[1;32m--> 795\u001b[1;33m                 out = parallel(delayed(_fit_and_score)(clone(base_estimator),\n\u001b[0m\u001b[0;32m    796\u001b[0m                                                        \u001b[0mX\u001b[0m\u001b[1;33m,\u001b[0m \u001b[0my\u001b[0m\u001b[1;33m,\u001b[0m\u001b[1;33m\u001b[0m\u001b[1;33m\u001b[0m\u001b[0m\n\u001b[0;32m    797\u001b[0m                                                        \u001b[0mtrain\u001b[0m\u001b[1;33m=\u001b[0m\u001b[0mtrain\u001b[0m\u001b[1;33m,\u001b[0m \u001b[0mtest\u001b[0m\u001b[1;33m=\u001b[0m\u001b[0mtest\u001b[0m\u001b[1;33m,\u001b[0m\u001b[1;33m\u001b[0m\u001b[1;33m\u001b[0m\u001b[0m\n",
      "\u001b[1;32m~\\AppData\\Roaming\\Python\\Python39\\site-packages\\joblib\\parallel.py\u001b[0m in \u001b[0;36m__call__\u001b[1;34m(self, iterable)\u001b[0m\n\u001b[0;32m   1042\u001b[0m                 \u001b[0mself\u001b[0m\u001b[1;33m.\u001b[0m\u001b[0m_iterating\u001b[0m \u001b[1;33m=\u001b[0m \u001b[0mself\u001b[0m\u001b[1;33m.\u001b[0m\u001b[0m_original_iterator\u001b[0m \u001b[1;32mis\u001b[0m \u001b[1;32mnot\u001b[0m \u001b[1;32mNone\u001b[0m\u001b[1;33m\u001b[0m\u001b[1;33m\u001b[0m\u001b[0m\n\u001b[0;32m   1043\u001b[0m \u001b[1;33m\u001b[0m\u001b[0m\n\u001b[1;32m-> 1044\u001b[1;33m             \u001b[1;32mwhile\u001b[0m \u001b[0mself\u001b[0m\u001b[1;33m.\u001b[0m\u001b[0mdispatch_one_batch\u001b[0m\u001b[1;33m(\u001b[0m\u001b[0miterator\u001b[0m\u001b[1;33m)\u001b[0m\u001b[1;33m:\u001b[0m\u001b[1;33m\u001b[0m\u001b[1;33m\u001b[0m\u001b[0m\n\u001b[0m\u001b[0;32m   1045\u001b[0m                 \u001b[1;32mpass\u001b[0m\u001b[1;33m\u001b[0m\u001b[1;33m\u001b[0m\u001b[0m\n\u001b[0;32m   1046\u001b[0m \u001b[1;33m\u001b[0m\u001b[0m\n",
      "\u001b[1;32m~\\AppData\\Roaming\\Python\\Python39\\site-packages\\joblib\\parallel.py\u001b[0m in \u001b[0;36mdispatch_one_batch\u001b[1;34m(self, iterator)\u001b[0m\n\u001b[0;32m    857\u001b[0m                 \u001b[1;32mreturn\u001b[0m \u001b[1;32mFalse\u001b[0m\u001b[1;33m\u001b[0m\u001b[1;33m\u001b[0m\u001b[0m\n\u001b[0;32m    858\u001b[0m             \u001b[1;32melse\u001b[0m\u001b[1;33m:\u001b[0m\u001b[1;33m\u001b[0m\u001b[1;33m\u001b[0m\u001b[0m\n\u001b[1;32m--> 859\u001b[1;33m                 \u001b[0mself\u001b[0m\u001b[1;33m.\u001b[0m\u001b[0m_dispatch\u001b[0m\u001b[1;33m(\u001b[0m\u001b[0mtasks\u001b[0m\u001b[1;33m)\u001b[0m\u001b[1;33m\u001b[0m\u001b[1;33m\u001b[0m\u001b[0m\n\u001b[0m\u001b[0;32m    860\u001b[0m                 \u001b[1;32mreturn\u001b[0m \u001b[1;32mTrue\u001b[0m\u001b[1;33m\u001b[0m\u001b[1;33m\u001b[0m\u001b[0m\n\u001b[0;32m    861\u001b[0m \u001b[1;33m\u001b[0m\u001b[0m\n",
      "\u001b[1;32m~\\AppData\\Roaming\\Python\\Python39\\site-packages\\joblib\\parallel.py\u001b[0m in \u001b[0;36m_dispatch\u001b[1;34m(self, batch)\u001b[0m\n\u001b[0;32m    775\u001b[0m         \u001b[1;32mwith\u001b[0m \u001b[0mself\u001b[0m\u001b[1;33m.\u001b[0m\u001b[0m_lock\u001b[0m\u001b[1;33m:\u001b[0m\u001b[1;33m\u001b[0m\u001b[1;33m\u001b[0m\u001b[0m\n\u001b[0;32m    776\u001b[0m             \u001b[0mjob_idx\u001b[0m \u001b[1;33m=\u001b[0m \u001b[0mlen\u001b[0m\u001b[1;33m(\u001b[0m\u001b[0mself\u001b[0m\u001b[1;33m.\u001b[0m\u001b[0m_jobs\u001b[0m\u001b[1;33m)\u001b[0m\u001b[1;33m\u001b[0m\u001b[1;33m\u001b[0m\u001b[0m\n\u001b[1;32m--> 777\u001b[1;33m             \u001b[0mjob\u001b[0m \u001b[1;33m=\u001b[0m \u001b[0mself\u001b[0m\u001b[1;33m.\u001b[0m\u001b[0m_backend\u001b[0m\u001b[1;33m.\u001b[0m\u001b[0mapply_async\u001b[0m\u001b[1;33m(\u001b[0m\u001b[0mbatch\u001b[0m\u001b[1;33m,\u001b[0m \u001b[0mcallback\u001b[0m\u001b[1;33m=\u001b[0m\u001b[0mcb\u001b[0m\u001b[1;33m)\u001b[0m\u001b[1;33m\u001b[0m\u001b[1;33m\u001b[0m\u001b[0m\n\u001b[0m\u001b[0;32m    778\u001b[0m             \u001b[1;31m# A job can complete so quickly than its callback is\u001b[0m\u001b[1;33m\u001b[0m\u001b[1;33m\u001b[0m\u001b[1;33m\u001b[0m\u001b[0m\n\u001b[0;32m    779\u001b[0m             \u001b[1;31m# called before we get here, causing self._jobs to\u001b[0m\u001b[1;33m\u001b[0m\u001b[1;33m\u001b[0m\u001b[1;33m\u001b[0m\u001b[0m\n",
      "\u001b[1;32m~\\AppData\\Roaming\\Python\\Python39\\site-packages\\joblib\\_parallel_backends.py\u001b[0m in \u001b[0;36mapply_async\u001b[1;34m(self, func, callback)\u001b[0m\n\u001b[0;32m    206\u001b[0m     \u001b[1;32mdef\u001b[0m \u001b[0mapply_async\u001b[0m\u001b[1;33m(\u001b[0m\u001b[0mself\u001b[0m\u001b[1;33m,\u001b[0m \u001b[0mfunc\u001b[0m\u001b[1;33m,\u001b[0m \u001b[0mcallback\u001b[0m\u001b[1;33m=\u001b[0m\u001b[1;32mNone\u001b[0m\u001b[1;33m)\u001b[0m\u001b[1;33m:\u001b[0m\u001b[1;33m\u001b[0m\u001b[1;33m\u001b[0m\u001b[0m\n\u001b[0;32m    207\u001b[0m         \u001b[1;34m\"\"\"Schedule a func to be run\"\"\"\u001b[0m\u001b[1;33m\u001b[0m\u001b[1;33m\u001b[0m\u001b[0m\n\u001b[1;32m--> 208\u001b[1;33m         \u001b[0mresult\u001b[0m \u001b[1;33m=\u001b[0m \u001b[0mImmediateResult\u001b[0m\u001b[1;33m(\u001b[0m\u001b[0mfunc\u001b[0m\u001b[1;33m)\u001b[0m\u001b[1;33m\u001b[0m\u001b[1;33m\u001b[0m\u001b[0m\n\u001b[0m\u001b[0;32m    209\u001b[0m         \u001b[1;32mif\u001b[0m \u001b[0mcallback\u001b[0m\u001b[1;33m:\u001b[0m\u001b[1;33m\u001b[0m\u001b[1;33m\u001b[0m\u001b[0m\n\u001b[0;32m    210\u001b[0m             \u001b[0mcallback\u001b[0m\u001b[1;33m(\u001b[0m\u001b[0mresult\u001b[0m\u001b[1;33m)\u001b[0m\u001b[1;33m\u001b[0m\u001b[1;33m\u001b[0m\u001b[0m\n",
      "\u001b[1;32m~\\AppData\\Roaming\\Python\\Python39\\site-packages\\joblib\\_parallel_backends.py\u001b[0m in \u001b[0;36m__init__\u001b[1;34m(self, batch)\u001b[0m\n\u001b[0;32m    570\u001b[0m         \u001b[1;31m# Don't delay the application, to avoid keeping the input\u001b[0m\u001b[1;33m\u001b[0m\u001b[1;33m\u001b[0m\u001b[1;33m\u001b[0m\u001b[0m\n\u001b[0;32m    571\u001b[0m         \u001b[1;31m# arguments in memory\u001b[0m\u001b[1;33m\u001b[0m\u001b[1;33m\u001b[0m\u001b[1;33m\u001b[0m\u001b[0m\n\u001b[1;32m--> 572\u001b[1;33m         \u001b[0mself\u001b[0m\u001b[1;33m.\u001b[0m\u001b[0mresults\u001b[0m \u001b[1;33m=\u001b[0m \u001b[0mbatch\u001b[0m\u001b[1;33m(\u001b[0m\u001b[1;33m)\u001b[0m\u001b[1;33m\u001b[0m\u001b[1;33m\u001b[0m\u001b[0m\n\u001b[0m\u001b[0;32m    573\u001b[0m \u001b[1;33m\u001b[0m\u001b[0m\n\u001b[0;32m    574\u001b[0m     \u001b[1;32mdef\u001b[0m \u001b[0mget\u001b[0m\u001b[1;33m(\u001b[0m\u001b[0mself\u001b[0m\u001b[1;33m)\u001b[0m\u001b[1;33m:\u001b[0m\u001b[1;33m\u001b[0m\u001b[1;33m\u001b[0m\u001b[0m\n",
      "\u001b[1;32m~\\AppData\\Roaming\\Python\\Python39\\site-packages\\joblib\\parallel.py\u001b[0m in \u001b[0;36m__call__\u001b[1;34m(self)\u001b[0m\n\u001b[0;32m    260\u001b[0m         \u001b[1;31m# change the default number of processes to -1\u001b[0m\u001b[1;33m\u001b[0m\u001b[1;33m\u001b[0m\u001b[1;33m\u001b[0m\u001b[0m\n\u001b[0;32m    261\u001b[0m         \u001b[1;32mwith\u001b[0m \u001b[0mparallel_backend\u001b[0m\u001b[1;33m(\u001b[0m\u001b[0mself\u001b[0m\u001b[1;33m.\u001b[0m\u001b[0m_backend\u001b[0m\u001b[1;33m,\u001b[0m \u001b[0mn_jobs\u001b[0m\u001b[1;33m=\u001b[0m\u001b[0mself\u001b[0m\u001b[1;33m.\u001b[0m\u001b[0m_n_jobs\u001b[0m\u001b[1;33m)\u001b[0m\u001b[1;33m:\u001b[0m\u001b[1;33m\u001b[0m\u001b[1;33m\u001b[0m\u001b[0m\n\u001b[1;32m--> 262\u001b[1;33m             return [func(*args, **kwargs)\n\u001b[0m\u001b[0;32m    263\u001b[0m                     for func, args, kwargs in self.items]\n\u001b[0;32m    264\u001b[0m \u001b[1;33m\u001b[0m\u001b[0m\n",
      "\u001b[1;32m~\\AppData\\Roaming\\Python\\Python39\\site-packages\\joblib\\parallel.py\u001b[0m in \u001b[0;36m<listcomp>\u001b[1;34m(.0)\u001b[0m\n\u001b[0;32m    260\u001b[0m         \u001b[1;31m# change the default number of processes to -1\u001b[0m\u001b[1;33m\u001b[0m\u001b[1;33m\u001b[0m\u001b[1;33m\u001b[0m\u001b[0m\n\u001b[0;32m    261\u001b[0m         \u001b[1;32mwith\u001b[0m \u001b[0mparallel_backend\u001b[0m\u001b[1;33m(\u001b[0m\u001b[0mself\u001b[0m\u001b[1;33m.\u001b[0m\u001b[0m_backend\u001b[0m\u001b[1;33m,\u001b[0m \u001b[0mn_jobs\u001b[0m\u001b[1;33m=\u001b[0m\u001b[0mself\u001b[0m\u001b[1;33m.\u001b[0m\u001b[0m_n_jobs\u001b[0m\u001b[1;33m)\u001b[0m\u001b[1;33m:\u001b[0m\u001b[1;33m\u001b[0m\u001b[1;33m\u001b[0m\u001b[0m\n\u001b[1;32m--> 262\u001b[1;33m             return [func(*args, **kwargs)\n\u001b[0m\u001b[0;32m    263\u001b[0m                     for func, args, kwargs in self.items]\n\u001b[0;32m    264\u001b[0m \u001b[1;33m\u001b[0m\u001b[0m\n",
      "\u001b[1;32m~\\AppData\\Roaming\\Python\\Python39\\site-packages\\sklearn\\utils\\fixes.py\u001b[0m in \u001b[0;36m__call__\u001b[1;34m(self, *args, **kwargs)\u001b[0m\n\u001b[0;32m    220\u001b[0m     \u001b[1;32mdef\u001b[0m \u001b[0m__call__\u001b[0m\u001b[1;33m(\u001b[0m\u001b[0mself\u001b[0m\u001b[1;33m,\u001b[0m \u001b[1;33m*\u001b[0m\u001b[0margs\u001b[0m\u001b[1;33m,\u001b[0m \u001b[1;33m**\u001b[0m\u001b[0mkwargs\u001b[0m\u001b[1;33m)\u001b[0m\u001b[1;33m:\u001b[0m\u001b[1;33m\u001b[0m\u001b[1;33m\u001b[0m\u001b[0m\n\u001b[0;32m    221\u001b[0m         \u001b[1;32mwith\u001b[0m \u001b[0mconfig_context\u001b[0m\u001b[1;33m(\u001b[0m\u001b[1;33m**\u001b[0m\u001b[0mself\u001b[0m\u001b[1;33m.\u001b[0m\u001b[0mconfig\u001b[0m\u001b[1;33m)\u001b[0m\u001b[1;33m:\u001b[0m\u001b[1;33m\u001b[0m\u001b[1;33m\u001b[0m\u001b[0m\n\u001b[1;32m--> 222\u001b[1;33m             \u001b[1;32mreturn\u001b[0m \u001b[0mself\u001b[0m\u001b[1;33m.\u001b[0m\u001b[0mfunction\u001b[0m\u001b[1;33m(\u001b[0m\u001b[1;33m*\u001b[0m\u001b[0margs\u001b[0m\u001b[1;33m,\u001b[0m \u001b[1;33m**\u001b[0m\u001b[0mkwargs\u001b[0m\u001b[1;33m)\u001b[0m\u001b[1;33m\u001b[0m\u001b[1;33m\u001b[0m\u001b[0m\n\u001b[0m",
      "\u001b[1;32m~\\AppData\\Roaming\\Python\\Python39\\site-packages\\sklearn\\model_selection\\_validation.py\u001b[0m in \u001b[0;36m_fit_and_score\u001b[1;34m(estimator, X, y, scorer, train, test, verbose, parameters, fit_params, return_train_score, return_parameters, return_n_test_samples, return_times, return_estimator, split_progress, candidate_progress, error_score)\u001b[0m\n\u001b[0;32m    596\u001b[0m             \u001b[0mestimator\u001b[0m\u001b[1;33m.\u001b[0m\u001b[0mfit\u001b[0m\u001b[1;33m(\u001b[0m\u001b[0mX_train\u001b[0m\u001b[1;33m,\u001b[0m \u001b[1;33m**\u001b[0m\u001b[0mfit_params\u001b[0m\u001b[1;33m)\u001b[0m\u001b[1;33m\u001b[0m\u001b[1;33m\u001b[0m\u001b[0m\n\u001b[0;32m    597\u001b[0m         \u001b[1;32melse\u001b[0m\u001b[1;33m:\u001b[0m\u001b[1;33m\u001b[0m\u001b[1;33m\u001b[0m\u001b[0m\n\u001b[1;32m--> 598\u001b[1;33m             \u001b[0mestimator\u001b[0m\u001b[1;33m.\u001b[0m\u001b[0mfit\u001b[0m\u001b[1;33m(\u001b[0m\u001b[0mX_train\u001b[0m\u001b[1;33m,\u001b[0m \u001b[0my_train\u001b[0m\u001b[1;33m,\u001b[0m \u001b[1;33m**\u001b[0m\u001b[0mfit_params\u001b[0m\u001b[1;33m)\u001b[0m\u001b[1;33m\u001b[0m\u001b[1;33m\u001b[0m\u001b[0m\n\u001b[0m\u001b[0;32m    599\u001b[0m \u001b[1;33m\u001b[0m\u001b[0m\n\u001b[0;32m    600\u001b[0m     \u001b[1;32mexcept\u001b[0m \u001b[0mException\u001b[0m \u001b[1;32mas\u001b[0m \u001b[0me\u001b[0m\u001b[1;33m:\u001b[0m\u001b[1;33m\u001b[0m\u001b[1;33m\u001b[0m\u001b[0m\n",
      "\u001b[1;32m~\\AppData\\Roaming\\Python\\Python39\\site-packages\\sklearn\\pipeline.py\u001b[0m in \u001b[0;36mfit\u001b[1;34m(self, X, y, **fit_params)\u001b[0m\n\u001b[0;32m    344\u001b[0m             \u001b[1;32mif\u001b[0m \u001b[0mself\u001b[0m\u001b[1;33m.\u001b[0m\u001b[0m_final_estimator\u001b[0m \u001b[1;33m!=\u001b[0m \u001b[1;34m'passthrough'\u001b[0m\u001b[1;33m:\u001b[0m\u001b[1;33m\u001b[0m\u001b[1;33m\u001b[0m\u001b[0m\n\u001b[0;32m    345\u001b[0m                 \u001b[0mfit_params_last_step\u001b[0m \u001b[1;33m=\u001b[0m \u001b[0mfit_params_steps\u001b[0m\u001b[1;33m[\u001b[0m\u001b[0mself\u001b[0m\u001b[1;33m.\u001b[0m\u001b[0msteps\u001b[0m\u001b[1;33m[\u001b[0m\u001b[1;33m-\u001b[0m\u001b[1;36m1\u001b[0m\u001b[1;33m]\u001b[0m\u001b[1;33m[\u001b[0m\u001b[1;36m0\u001b[0m\u001b[1;33m]\u001b[0m\u001b[1;33m]\u001b[0m\u001b[1;33m\u001b[0m\u001b[1;33m\u001b[0m\u001b[0m\n\u001b[1;32m--> 346\u001b[1;33m                 \u001b[0mself\u001b[0m\u001b[1;33m.\u001b[0m\u001b[0m_final_estimator\u001b[0m\u001b[1;33m.\u001b[0m\u001b[0mfit\u001b[0m\u001b[1;33m(\u001b[0m\u001b[0mXt\u001b[0m\u001b[1;33m,\u001b[0m \u001b[0my\u001b[0m\u001b[1;33m,\u001b[0m \u001b[1;33m**\u001b[0m\u001b[0mfit_params_last_step\u001b[0m\u001b[1;33m)\u001b[0m\u001b[1;33m\u001b[0m\u001b[1;33m\u001b[0m\u001b[0m\n\u001b[0m\u001b[0;32m    347\u001b[0m \u001b[1;33m\u001b[0m\u001b[0m\n\u001b[0;32m    348\u001b[0m         \u001b[1;32mreturn\u001b[0m \u001b[0mself\u001b[0m\u001b[1;33m\u001b[0m\u001b[1;33m\u001b[0m\u001b[0m\n",
      "\u001b[1;32m~\\AppData\\Roaming\\Python\\Python39\\site-packages\\sklearn\\linear_model\\_logistic.py\u001b[0m in \u001b[0;36mfit\u001b[1;34m(self, X, y, sample_weight)\u001b[0m\n\u001b[0;32m   1404\u001b[0m         \u001b[1;32melse\u001b[0m\u001b[1;33m:\u001b[0m\u001b[1;33m\u001b[0m\u001b[1;33m\u001b[0m\u001b[0m\n\u001b[0;32m   1405\u001b[0m             \u001b[0mprefer\u001b[0m \u001b[1;33m=\u001b[0m \u001b[1;34m'processes'\u001b[0m\u001b[1;33m\u001b[0m\u001b[1;33m\u001b[0m\u001b[0m\n\u001b[1;32m-> 1406\u001b[1;33m         fold_coefs_ = Parallel(n_jobs=self.n_jobs, verbose=self.verbose,\n\u001b[0m\u001b[0;32m   1407\u001b[0m                                \u001b[1;33m**\u001b[0m\u001b[0m_joblib_parallel_args\u001b[0m\u001b[1;33m(\u001b[0m\u001b[0mprefer\u001b[0m\u001b[1;33m=\u001b[0m\u001b[0mprefer\u001b[0m\u001b[1;33m)\u001b[0m\u001b[1;33m)\u001b[0m\u001b[1;33m(\u001b[0m\u001b[1;33m\u001b[0m\u001b[1;33m\u001b[0m\u001b[0m\n\u001b[0;32m   1408\u001b[0m             path_func(X, y, pos_class=class_, Cs=[C_],\n",
      "\u001b[1;32m~\\AppData\\Roaming\\Python\\Python39\\site-packages\\joblib\\parallel.py\u001b[0m in \u001b[0;36m__call__\u001b[1;34m(self, iterable)\u001b[0m\n\u001b[0;32m   1039\u001b[0m             \u001b[1;31m# remaining jobs.\u001b[0m\u001b[1;33m\u001b[0m\u001b[1;33m\u001b[0m\u001b[1;33m\u001b[0m\u001b[0m\n\u001b[0;32m   1040\u001b[0m             \u001b[0mself\u001b[0m\u001b[1;33m.\u001b[0m\u001b[0m_iterating\u001b[0m \u001b[1;33m=\u001b[0m \u001b[1;32mFalse\u001b[0m\u001b[1;33m\u001b[0m\u001b[1;33m\u001b[0m\u001b[0m\n\u001b[1;32m-> 1041\u001b[1;33m             \u001b[1;32mif\u001b[0m \u001b[0mself\u001b[0m\u001b[1;33m.\u001b[0m\u001b[0mdispatch_one_batch\u001b[0m\u001b[1;33m(\u001b[0m\u001b[0miterator\u001b[0m\u001b[1;33m)\u001b[0m\u001b[1;33m:\u001b[0m\u001b[1;33m\u001b[0m\u001b[1;33m\u001b[0m\u001b[0m\n\u001b[0m\u001b[0;32m   1042\u001b[0m                 \u001b[0mself\u001b[0m\u001b[1;33m.\u001b[0m\u001b[0m_iterating\u001b[0m \u001b[1;33m=\u001b[0m \u001b[0mself\u001b[0m\u001b[1;33m.\u001b[0m\u001b[0m_original_iterator\u001b[0m \u001b[1;32mis\u001b[0m \u001b[1;32mnot\u001b[0m \u001b[1;32mNone\u001b[0m\u001b[1;33m\u001b[0m\u001b[1;33m\u001b[0m\u001b[0m\n\u001b[0;32m   1043\u001b[0m \u001b[1;33m\u001b[0m\u001b[0m\n",
      "\u001b[1;32m~\\AppData\\Roaming\\Python\\Python39\\site-packages\\joblib\\parallel.py\u001b[0m in \u001b[0;36mdispatch_one_batch\u001b[1;34m(self, iterator)\u001b[0m\n\u001b[0;32m    857\u001b[0m                 \u001b[1;32mreturn\u001b[0m \u001b[1;32mFalse\u001b[0m\u001b[1;33m\u001b[0m\u001b[1;33m\u001b[0m\u001b[0m\n\u001b[0;32m    858\u001b[0m             \u001b[1;32melse\u001b[0m\u001b[1;33m:\u001b[0m\u001b[1;33m\u001b[0m\u001b[1;33m\u001b[0m\u001b[0m\n\u001b[1;32m--> 859\u001b[1;33m                 \u001b[0mself\u001b[0m\u001b[1;33m.\u001b[0m\u001b[0m_dispatch\u001b[0m\u001b[1;33m(\u001b[0m\u001b[0mtasks\u001b[0m\u001b[1;33m)\u001b[0m\u001b[1;33m\u001b[0m\u001b[1;33m\u001b[0m\u001b[0m\n\u001b[0m\u001b[0;32m    860\u001b[0m                 \u001b[1;32mreturn\u001b[0m \u001b[1;32mTrue\u001b[0m\u001b[1;33m\u001b[0m\u001b[1;33m\u001b[0m\u001b[0m\n\u001b[0;32m    861\u001b[0m \u001b[1;33m\u001b[0m\u001b[0m\n",
      "\u001b[1;32m~\\AppData\\Roaming\\Python\\Python39\\site-packages\\joblib\\parallel.py\u001b[0m in \u001b[0;36m_dispatch\u001b[1;34m(self, batch)\u001b[0m\n\u001b[0;32m    775\u001b[0m         \u001b[1;32mwith\u001b[0m \u001b[0mself\u001b[0m\u001b[1;33m.\u001b[0m\u001b[0m_lock\u001b[0m\u001b[1;33m:\u001b[0m\u001b[1;33m\u001b[0m\u001b[1;33m\u001b[0m\u001b[0m\n\u001b[0;32m    776\u001b[0m             \u001b[0mjob_idx\u001b[0m \u001b[1;33m=\u001b[0m \u001b[0mlen\u001b[0m\u001b[1;33m(\u001b[0m\u001b[0mself\u001b[0m\u001b[1;33m.\u001b[0m\u001b[0m_jobs\u001b[0m\u001b[1;33m)\u001b[0m\u001b[1;33m\u001b[0m\u001b[1;33m\u001b[0m\u001b[0m\n\u001b[1;32m--> 777\u001b[1;33m             \u001b[0mjob\u001b[0m \u001b[1;33m=\u001b[0m \u001b[0mself\u001b[0m\u001b[1;33m.\u001b[0m\u001b[0m_backend\u001b[0m\u001b[1;33m.\u001b[0m\u001b[0mapply_async\u001b[0m\u001b[1;33m(\u001b[0m\u001b[0mbatch\u001b[0m\u001b[1;33m,\u001b[0m \u001b[0mcallback\u001b[0m\u001b[1;33m=\u001b[0m\u001b[0mcb\u001b[0m\u001b[1;33m)\u001b[0m\u001b[1;33m\u001b[0m\u001b[1;33m\u001b[0m\u001b[0m\n\u001b[0m\u001b[0;32m    778\u001b[0m             \u001b[1;31m# A job can complete so quickly than its callback is\u001b[0m\u001b[1;33m\u001b[0m\u001b[1;33m\u001b[0m\u001b[1;33m\u001b[0m\u001b[0m\n\u001b[0;32m    779\u001b[0m             \u001b[1;31m# called before we get here, causing self._jobs to\u001b[0m\u001b[1;33m\u001b[0m\u001b[1;33m\u001b[0m\u001b[1;33m\u001b[0m\u001b[0m\n",
      "\u001b[1;32m~\\AppData\\Roaming\\Python\\Python39\\site-packages\\joblib\\_parallel_backends.py\u001b[0m in \u001b[0;36mapply_async\u001b[1;34m(self, func, callback)\u001b[0m\n\u001b[0;32m    206\u001b[0m     \u001b[1;32mdef\u001b[0m \u001b[0mapply_async\u001b[0m\u001b[1;33m(\u001b[0m\u001b[0mself\u001b[0m\u001b[1;33m,\u001b[0m \u001b[0mfunc\u001b[0m\u001b[1;33m,\u001b[0m \u001b[0mcallback\u001b[0m\u001b[1;33m=\u001b[0m\u001b[1;32mNone\u001b[0m\u001b[1;33m)\u001b[0m\u001b[1;33m:\u001b[0m\u001b[1;33m\u001b[0m\u001b[1;33m\u001b[0m\u001b[0m\n\u001b[0;32m    207\u001b[0m         \u001b[1;34m\"\"\"Schedule a func to be run\"\"\"\u001b[0m\u001b[1;33m\u001b[0m\u001b[1;33m\u001b[0m\u001b[0m\n\u001b[1;32m--> 208\u001b[1;33m         \u001b[0mresult\u001b[0m \u001b[1;33m=\u001b[0m \u001b[0mImmediateResult\u001b[0m\u001b[1;33m(\u001b[0m\u001b[0mfunc\u001b[0m\u001b[1;33m)\u001b[0m\u001b[1;33m\u001b[0m\u001b[1;33m\u001b[0m\u001b[0m\n\u001b[0m\u001b[0;32m    209\u001b[0m         \u001b[1;32mif\u001b[0m \u001b[0mcallback\u001b[0m\u001b[1;33m:\u001b[0m\u001b[1;33m\u001b[0m\u001b[1;33m\u001b[0m\u001b[0m\n\u001b[0;32m    210\u001b[0m             \u001b[0mcallback\u001b[0m\u001b[1;33m(\u001b[0m\u001b[0mresult\u001b[0m\u001b[1;33m)\u001b[0m\u001b[1;33m\u001b[0m\u001b[1;33m\u001b[0m\u001b[0m\n",
      "\u001b[1;32m~\\AppData\\Roaming\\Python\\Python39\\site-packages\\joblib\\_parallel_backends.py\u001b[0m in \u001b[0;36m__init__\u001b[1;34m(self, batch)\u001b[0m\n\u001b[0;32m    570\u001b[0m         \u001b[1;31m# Don't delay the application, to avoid keeping the input\u001b[0m\u001b[1;33m\u001b[0m\u001b[1;33m\u001b[0m\u001b[1;33m\u001b[0m\u001b[0m\n\u001b[0;32m    571\u001b[0m         \u001b[1;31m# arguments in memory\u001b[0m\u001b[1;33m\u001b[0m\u001b[1;33m\u001b[0m\u001b[1;33m\u001b[0m\u001b[0m\n\u001b[1;32m--> 572\u001b[1;33m         \u001b[0mself\u001b[0m\u001b[1;33m.\u001b[0m\u001b[0mresults\u001b[0m \u001b[1;33m=\u001b[0m \u001b[0mbatch\u001b[0m\u001b[1;33m(\u001b[0m\u001b[1;33m)\u001b[0m\u001b[1;33m\u001b[0m\u001b[1;33m\u001b[0m\u001b[0m\n\u001b[0m\u001b[0;32m    573\u001b[0m \u001b[1;33m\u001b[0m\u001b[0m\n\u001b[0;32m    574\u001b[0m     \u001b[1;32mdef\u001b[0m \u001b[0mget\u001b[0m\u001b[1;33m(\u001b[0m\u001b[0mself\u001b[0m\u001b[1;33m)\u001b[0m\u001b[1;33m:\u001b[0m\u001b[1;33m\u001b[0m\u001b[1;33m\u001b[0m\u001b[0m\n",
      "\u001b[1;32m~\\AppData\\Roaming\\Python\\Python39\\site-packages\\joblib\\parallel.py\u001b[0m in \u001b[0;36m__call__\u001b[1;34m(self)\u001b[0m\n\u001b[0;32m    260\u001b[0m         \u001b[1;31m# change the default number of processes to -1\u001b[0m\u001b[1;33m\u001b[0m\u001b[1;33m\u001b[0m\u001b[1;33m\u001b[0m\u001b[0m\n\u001b[0;32m    261\u001b[0m         \u001b[1;32mwith\u001b[0m \u001b[0mparallel_backend\u001b[0m\u001b[1;33m(\u001b[0m\u001b[0mself\u001b[0m\u001b[1;33m.\u001b[0m\u001b[0m_backend\u001b[0m\u001b[1;33m,\u001b[0m \u001b[0mn_jobs\u001b[0m\u001b[1;33m=\u001b[0m\u001b[0mself\u001b[0m\u001b[1;33m.\u001b[0m\u001b[0m_n_jobs\u001b[0m\u001b[1;33m)\u001b[0m\u001b[1;33m:\u001b[0m\u001b[1;33m\u001b[0m\u001b[1;33m\u001b[0m\u001b[0m\n\u001b[1;32m--> 262\u001b[1;33m             return [func(*args, **kwargs)\n\u001b[0m\u001b[0;32m    263\u001b[0m                     for func, args, kwargs in self.items]\n\u001b[0;32m    264\u001b[0m \u001b[1;33m\u001b[0m\u001b[0m\n",
      "\u001b[1;32m~\\AppData\\Roaming\\Python\\Python39\\site-packages\\joblib\\parallel.py\u001b[0m in \u001b[0;36m<listcomp>\u001b[1;34m(.0)\u001b[0m\n\u001b[0;32m    260\u001b[0m         \u001b[1;31m# change the default number of processes to -1\u001b[0m\u001b[1;33m\u001b[0m\u001b[1;33m\u001b[0m\u001b[1;33m\u001b[0m\u001b[0m\n\u001b[0;32m    261\u001b[0m         \u001b[1;32mwith\u001b[0m \u001b[0mparallel_backend\u001b[0m\u001b[1;33m(\u001b[0m\u001b[0mself\u001b[0m\u001b[1;33m.\u001b[0m\u001b[0m_backend\u001b[0m\u001b[1;33m,\u001b[0m \u001b[0mn_jobs\u001b[0m\u001b[1;33m=\u001b[0m\u001b[0mself\u001b[0m\u001b[1;33m.\u001b[0m\u001b[0m_n_jobs\u001b[0m\u001b[1;33m)\u001b[0m\u001b[1;33m:\u001b[0m\u001b[1;33m\u001b[0m\u001b[1;33m\u001b[0m\u001b[0m\n\u001b[1;32m--> 262\u001b[1;33m             return [func(*args, **kwargs)\n\u001b[0m\u001b[0;32m    263\u001b[0m                     for func, args, kwargs in self.items]\n\u001b[0;32m    264\u001b[0m \u001b[1;33m\u001b[0m\u001b[0m\n",
      "\u001b[1;32m~\\AppData\\Roaming\\Python\\Python39\\site-packages\\sklearn\\utils\\fixes.py\u001b[0m in \u001b[0;36m__call__\u001b[1;34m(self, *args, **kwargs)\u001b[0m\n\u001b[0;32m    220\u001b[0m     \u001b[1;32mdef\u001b[0m \u001b[0m__call__\u001b[0m\u001b[1;33m(\u001b[0m\u001b[0mself\u001b[0m\u001b[1;33m,\u001b[0m \u001b[1;33m*\u001b[0m\u001b[0margs\u001b[0m\u001b[1;33m,\u001b[0m \u001b[1;33m**\u001b[0m\u001b[0mkwargs\u001b[0m\u001b[1;33m)\u001b[0m\u001b[1;33m:\u001b[0m\u001b[1;33m\u001b[0m\u001b[1;33m\u001b[0m\u001b[0m\n\u001b[0;32m    221\u001b[0m         \u001b[1;32mwith\u001b[0m \u001b[0mconfig_context\u001b[0m\u001b[1;33m(\u001b[0m\u001b[1;33m**\u001b[0m\u001b[0mself\u001b[0m\u001b[1;33m.\u001b[0m\u001b[0mconfig\u001b[0m\u001b[1;33m)\u001b[0m\u001b[1;33m:\u001b[0m\u001b[1;33m\u001b[0m\u001b[1;33m\u001b[0m\u001b[0m\n\u001b[1;32m--> 222\u001b[1;33m             \u001b[1;32mreturn\u001b[0m \u001b[0mself\u001b[0m\u001b[1;33m.\u001b[0m\u001b[0mfunction\u001b[0m\u001b[1;33m(\u001b[0m\u001b[1;33m*\u001b[0m\u001b[0margs\u001b[0m\u001b[1;33m,\u001b[0m \u001b[1;33m**\u001b[0m\u001b[0mkwargs\u001b[0m\u001b[1;33m)\u001b[0m\u001b[1;33m\u001b[0m\u001b[1;33m\u001b[0m\u001b[0m\n\u001b[0m",
      "\u001b[1;32m~\\AppData\\Roaming\\Python\\Python39\\site-packages\\sklearn\\linear_model\\_logistic.py\u001b[0m in \u001b[0;36m_logistic_regression_path\u001b[1;34m(X, y, pos_class, Cs, fit_intercept, max_iter, tol, verbose, solver, coef, class_weight, dual, penalty, intercept_scaling, multi_class, random_state, check_input, max_squared_sum, sample_weight, l1_ratio)\u001b[0m\n\u001b[0;32m    756\u001b[0m             iprint = [-1, 50, 1, 100, 101][\n\u001b[0;32m    757\u001b[0m                 np.searchsorted(np.array([0, 1, 2, 3]), verbose)]\n\u001b[1;32m--> 758\u001b[1;33m             opt_res = optimize.minimize(\n\u001b[0m\u001b[0;32m    759\u001b[0m                 \u001b[0mfunc\u001b[0m\u001b[1;33m,\u001b[0m \u001b[0mw0\u001b[0m\u001b[1;33m,\u001b[0m \u001b[0mmethod\u001b[0m\u001b[1;33m=\u001b[0m\u001b[1;34m\"L-BFGS-B\"\u001b[0m\u001b[1;33m,\u001b[0m \u001b[0mjac\u001b[0m\u001b[1;33m=\u001b[0m\u001b[1;32mTrue\u001b[0m\u001b[1;33m,\u001b[0m\u001b[1;33m\u001b[0m\u001b[1;33m\u001b[0m\u001b[0m\n\u001b[0;32m    760\u001b[0m                 \u001b[0margs\u001b[0m\u001b[1;33m=\u001b[0m\u001b[1;33m(\u001b[0m\u001b[0mX\u001b[0m\u001b[1;33m,\u001b[0m \u001b[0mtarget\u001b[0m\u001b[1;33m,\u001b[0m \u001b[1;36m1.\u001b[0m \u001b[1;33m/\u001b[0m \u001b[0mC\u001b[0m\u001b[1;33m,\u001b[0m \u001b[0msample_weight\u001b[0m\u001b[1;33m)\u001b[0m\u001b[1;33m,\u001b[0m\u001b[1;33m\u001b[0m\u001b[1;33m\u001b[0m\u001b[0m\n",
      "\u001b[1;32m~\\AppData\\Roaming\\Python\\Python39\\site-packages\\scipy\\optimize\\_minimize.py\u001b[0m in \u001b[0;36mminimize\u001b[1;34m(fun, x0, args, method, jac, hess, hessp, bounds, constraints, tol, callback, options)\u001b[0m\n\u001b[0;32m    617\u001b[0m                                   **options)\n\u001b[0;32m    618\u001b[0m     \u001b[1;32melif\u001b[0m \u001b[0mmeth\u001b[0m \u001b[1;33m==\u001b[0m \u001b[1;34m'l-bfgs-b'\u001b[0m\u001b[1;33m:\u001b[0m\u001b[1;33m\u001b[0m\u001b[1;33m\u001b[0m\u001b[0m\n\u001b[1;32m--> 619\u001b[1;33m         return _minimize_lbfgsb(fun, x0, args, jac, bounds,\n\u001b[0m\u001b[0;32m    620\u001b[0m                                 callback=callback, **options)\n\u001b[0;32m    621\u001b[0m     \u001b[1;32melif\u001b[0m \u001b[0mmeth\u001b[0m \u001b[1;33m==\u001b[0m \u001b[1;34m'tnc'\u001b[0m\u001b[1;33m:\u001b[0m\u001b[1;33m\u001b[0m\u001b[1;33m\u001b[0m\u001b[0m\n",
      "\u001b[1;32m~\\AppData\\Roaming\\Python\\Python39\\site-packages\\scipy\\optimize\\lbfgsb.py\u001b[0m in \u001b[0;36m_minimize_lbfgsb\u001b[1;34m(fun, x0, args, jac, bounds, disp, maxcor, ftol, gtol, eps, maxfun, maxiter, iprint, callback, maxls, finite_diff_rel_step, **unknown_options)\u001b[0m\n\u001b[0;32m    358\u001b[0m             \u001b[1;31m# until the completion of the current minimization iteration.\u001b[0m\u001b[1;33m\u001b[0m\u001b[1;33m\u001b[0m\u001b[1;33m\u001b[0m\u001b[0m\n\u001b[0;32m    359\u001b[0m             \u001b[1;31m# Overwrite f and g:\u001b[0m\u001b[1;33m\u001b[0m\u001b[1;33m\u001b[0m\u001b[1;33m\u001b[0m\u001b[0m\n\u001b[1;32m--> 360\u001b[1;33m             \u001b[0mf\u001b[0m\u001b[1;33m,\u001b[0m \u001b[0mg\u001b[0m \u001b[1;33m=\u001b[0m \u001b[0mfunc_and_grad\u001b[0m\u001b[1;33m(\u001b[0m\u001b[0mx\u001b[0m\u001b[1;33m)\u001b[0m\u001b[1;33m\u001b[0m\u001b[1;33m\u001b[0m\u001b[0m\n\u001b[0m\u001b[0;32m    361\u001b[0m         \u001b[1;32melif\u001b[0m \u001b[0mtask_str\u001b[0m\u001b[1;33m.\u001b[0m\u001b[0mstartswith\u001b[0m\u001b[1;33m(\u001b[0m\u001b[1;34mb'NEW_X'\u001b[0m\u001b[1;33m)\u001b[0m\u001b[1;33m:\u001b[0m\u001b[1;33m\u001b[0m\u001b[1;33m\u001b[0m\u001b[0m\n\u001b[0;32m    362\u001b[0m             \u001b[1;31m# new iteration\u001b[0m\u001b[1;33m\u001b[0m\u001b[1;33m\u001b[0m\u001b[1;33m\u001b[0m\u001b[0m\n",
      "\u001b[1;32m~\\AppData\\Roaming\\Python\\Python39\\site-packages\\scipy\\optimize\\_differentiable_functions.py\u001b[0m in \u001b[0;36mfun_and_grad\u001b[1;34m(self, x)\u001b[0m\n\u001b[0;32m    258\u001b[0m         \u001b[1;32mif\u001b[0m \u001b[1;32mnot\u001b[0m \u001b[0mnp\u001b[0m\u001b[1;33m.\u001b[0m\u001b[0marray_equal\u001b[0m\u001b[1;33m(\u001b[0m\u001b[0mx\u001b[0m\u001b[1;33m,\u001b[0m \u001b[0mself\u001b[0m\u001b[1;33m.\u001b[0m\u001b[0mx\u001b[0m\u001b[1;33m)\u001b[0m\u001b[1;33m:\u001b[0m\u001b[1;33m\u001b[0m\u001b[1;33m\u001b[0m\u001b[0m\n\u001b[0;32m    259\u001b[0m             \u001b[0mself\u001b[0m\u001b[1;33m.\u001b[0m\u001b[0m_update_x_impl\u001b[0m\u001b[1;33m(\u001b[0m\u001b[0mx\u001b[0m\u001b[1;33m)\u001b[0m\u001b[1;33m\u001b[0m\u001b[1;33m\u001b[0m\u001b[0m\n\u001b[1;32m--> 260\u001b[1;33m         \u001b[0mself\u001b[0m\u001b[1;33m.\u001b[0m\u001b[0m_update_fun\u001b[0m\u001b[1;33m(\u001b[0m\u001b[1;33m)\u001b[0m\u001b[1;33m\u001b[0m\u001b[1;33m\u001b[0m\u001b[0m\n\u001b[0m\u001b[0;32m    261\u001b[0m         \u001b[0mself\u001b[0m\u001b[1;33m.\u001b[0m\u001b[0m_update_grad\u001b[0m\u001b[1;33m(\u001b[0m\u001b[1;33m)\u001b[0m\u001b[1;33m\u001b[0m\u001b[1;33m\u001b[0m\u001b[0m\n\u001b[0;32m    262\u001b[0m         \u001b[1;32mreturn\u001b[0m \u001b[0mself\u001b[0m\u001b[1;33m.\u001b[0m\u001b[0mf\u001b[0m\u001b[1;33m,\u001b[0m \u001b[0mself\u001b[0m\u001b[1;33m.\u001b[0m\u001b[0mg\u001b[0m\u001b[1;33m\u001b[0m\u001b[1;33m\u001b[0m\u001b[0m\n",
      "\u001b[1;32m~\\AppData\\Roaming\\Python\\Python39\\site-packages\\scipy\\optimize\\_differentiable_functions.py\u001b[0m in \u001b[0;36m_update_fun\u001b[1;34m(self)\u001b[0m\n\u001b[0;32m    224\u001b[0m     \u001b[1;32mdef\u001b[0m \u001b[0m_update_fun\u001b[0m\u001b[1;33m(\u001b[0m\u001b[0mself\u001b[0m\u001b[1;33m)\u001b[0m\u001b[1;33m:\u001b[0m\u001b[1;33m\u001b[0m\u001b[1;33m\u001b[0m\u001b[0m\n\u001b[0;32m    225\u001b[0m         \u001b[1;32mif\u001b[0m \u001b[1;32mnot\u001b[0m \u001b[0mself\u001b[0m\u001b[1;33m.\u001b[0m\u001b[0mf_updated\u001b[0m\u001b[1;33m:\u001b[0m\u001b[1;33m\u001b[0m\u001b[1;33m\u001b[0m\u001b[0m\n\u001b[1;32m--> 226\u001b[1;33m             \u001b[0mself\u001b[0m\u001b[1;33m.\u001b[0m\u001b[0m_update_fun_impl\u001b[0m\u001b[1;33m(\u001b[0m\u001b[1;33m)\u001b[0m\u001b[1;33m\u001b[0m\u001b[1;33m\u001b[0m\u001b[0m\n\u001b[0m\u001b[0;32m    227\u001b[0m             \u001b[0mself\u001b[0m\u001b[1;33m.\u001b[0m\u001b[0mf_updated\u001b[0m \u001b[1;33m=\u001b[0m \u001b[1;32mTrue\u001b[0m\u001b[1;33m\u001b[0m\u001b[1;33m\u001b[0m\u001b[0m\n\u001b[0;32m    228\u001b[0m \u001b[1;33m\u001b[0m\u001b[0m\n",
      "\u001b[1;32m~\\AppData\\Roaming\\Python\\Python39\\site-packages\\scipy\\optimize\\_differentiable_functions.py\u001b[0m in \u001b[0;36mupdate_fun\u001b[1;34m()\u001b[0m\n\u001b[0;32m    131\u001b[0m \u001b[1;33m\u001b[0m\u001b[0m\n\u001b[0;32m    132\u001b[0m         \u001b[1;32mdef\u001b[0m \u001b[0mupdate_fun\u001b[0m\u001b[1;33m(\u001b[0m\u001b[1;33m)\u001b[0m\u001b[1;33m:\u001b[0m\u001b[1;33m\u001b[0m\u001b[1;33m\u001b[0m\u001b[0m\n\u001b[1;32m--> 133\u001b[1;33m             \u001b[0mself\u001b[0m\u001b[1;33m.\u001b[0m\u001b[0mf\u001b[0m \u001b[1;33m=\u001b[0m \u001b[0mfun_wrapped\u001b[0m\u001b[1;33m(\u001b[0m\u001b[0mself\u001b[0m\u001b[1;33m.\u001b[0m\u001b[0mx\u001b[0m\u001b[1;33m)\u001b[0m\u001b[1;33m\u001b[0m\u001b[1;33m\u001b[0m\u001b[0m\n\u001b[0m\u001b[0;32m    134\u001b[0m \u001b[1;33m\u001b[0m\u001b[0m\n\u001b[0;32m    135\u001b[0m         \u001b[0mself\u001b[0m\u001b[1;33m.\u001b[0m\u001b[0m_update_fun_impl\u001b[0m \u001b[1;33m=\u001b[0m \u001b[0mupdate_fun\u001b[0m\u001b[1;33m\u001b[0m\u001b[1;33m\u001b[0m\u001b[0m\n",
      "\u001b[1;32m~\\AppData\\Roaming\\Python\\Python39\\site-packages\\scipy\\optimize\\_differentiable_functions.py\u001b[0m in \u001b[0;36mfun_wrapped\u001b[1;34m(x)\u001b[0m\n\u001b[0;32m    128\u001b[0m         \u001b[1;32mdef\u001b[0m \u001b[0mfun_wrapped\u001b[0m\u001b[1;33m(\u001b[0m\u001b[0mx\u001b[0m\u001b[1;33m)\u001b[0m\u001b[1;33m:\u001b[0m\u001b[1;33m\u001b[0m\u001b[1;33m\u001b[0m\u001b[0m\n\u001b[0;32m    129\u001b[0m             \u001b[0mself\u001b[0m\u001b[1;33m.\u001b[0m\u001b[0mnfev\u001b[0m \u001b[1;33m+=\u001b[0m \u001b[1;36m1\u001b[0m\u001b[1;33m\u001b[0m\u001b[1;33m\u001b[0m\u001b[0m\n\u001b[1;32m--> 130\u001b[1;33m             \u001b[1;32mreturn\u001b[0m \u001b[0mfun\u001b[0m\u001b[1;33m(\u001b[0m\u001b[0mx\u001b[0m\u001b[1;33m,\u001b[0m \u001b[1;33m*\u001b[0m\u001b[0margs\u001b[0m\u001b[1;33m)\u001b[0m\u001b[1;33m\u001b[0m\u001b[1;33m\u001b[0m\u001b[0m\n\u001b[0m\u001b[0;32m    131\u001b[0m \u001b[1;33m\u001b[0m\u001b[0m\n\u001b[0;32m    132\u001b[0m         \u001b[1;32mdef\u001b[0m \u001b[0mupdate_fun\u001b[0m\u001b[1;33m(\u001b[0m\u001b[1;33m)\u001b[0m\u001b[1;33m:\u001b[0m\u001b[1;33m\u001b[0m\u001b[1;33m\u001b[0m\u001b[0m\n",
      "\u001b[1;32m~\\AppData\\Roaming\\Python\\Python39\\site-packages\\scipy\\optimize\\optimize.py\u001b[0m in \u001b[0;36m__call__\u001b[1;34m(self, x, *args)\u001b[0m\n\u001b[0;32m     72\u001b[0m     \u001b[1;32mdef\u001b[0m \u001b[0m__call__\u001b[0m\u001b[1;33m(\u001b[0m\u001b[0mself\u001b[0m\u001b[1;33m,\u001b[0m \u001b[0mx\u001b[0m\u001b[1;33m,\u001b[0m \u001b[1;33m*\u001b[0m\u001b[0margs\u001b[0m\u001b[1;33m)\u001b[0m\u001b[1;33m:\u001b[0m\u001b[1;33m\u001b[0m\u001b[1;33m\u001b[0m\u001b[0m\n\u001b[0;32m     73\u001b[0m         \u001b[1;34m\"\"\" returns the the function value \"\"\"\u001b[0m\u001b[1;33m\u001b[0m\u001b[1;33m\u001b[0m\u001b[0m\n\u001b[1;32m---> 74\u001b[1;33m         \u001b[0mself\u001b[0m\u001b[1;33m.\u001b[0m\u001b[0m_compute_if_needed\u001b[0m\u001b[1;33m(\u001b[0m\u001b[0mx\u001b[0m\u001b[1;33m,\u001b[0m \u001b[1;33m*\u001b[0m\u001b[0margs\u001b[0m\u001b[1;33m)\u001b[0m\u001b[1;33m\u001b[0m\u001b[1;33m\u001b[0m\u001b[0m\n\u001b[0m\u001b[0;32m     75\u001b[0m         \u001b[1;32mreturn\u001b[0m \u001b[0mself\u001b[0m\u001b[1;33m.\u001b[0m\u001b[0m_value\u001b[0m\u001b[1;33m\u001b[0m\u001b[1;33m\u001b[0m\u001b[0m\n\u001b[0;32m     76\u001b[0m \u001b[1;33m\u001b[0m\u001b[0m\n",
      "\u001b[1;32m~\\AppData\\Roaming\\Python\\Python39\\site-packages\\scipy\\optimize\\optimize.py\u001b[0m in \u001b[0;36m_compute_if_needed\u001b[1;34m(self, x, *args)\u001b[0m\n\u001b[0;32m     66\u001b[0m         \u001b[1;32mif\u001b[0m \u001b[1;32mnot\u001b[0m \u001b[0mnp\u001b[0m\u001b[1;33m.\u001b[0m\u001b[0mall\u001b[0m\u001b[1;33m(\u001b[0m\u001b[0mx\u001b[0m \u001b[1;33m==\u001b[0m \u001b[0mself\u001b[0m\u001b[1;33m.\u001b[0m\u001b[0mx\u001b[0m\u001b[1;33m)\u001b[0m \u001b[1;32mor\u001b[0m \u001b[0mself\u001b[0m\u001b[1;33m.\u001b[0m\u001b[0m_value\u001b[0m \u001b[1;32mis\u001b[0m \u001b[1;32mNone\u001b[0m \u001b[1;32mor\u001b[0m \u001b[0mself\u001b[0m\u001b[1;33m.\u001b[0m\u001b[0mjac\u001b[0m \u001b[1;32mis\u001b[0m \u001b[1;32mNone\u001b[0m\u001b[1;33m:\u001b[0m\u001b[1;33m\u001b[0m\u001b[1;33m\u001b[0m\u001b[0m\n\u001b[0;32m     67\u001b[0m             \u001b[0mself\u001b[0m\u001b[1;33m.\u001b[0m\u001b[0mx\u001b[0m \u001b[1;33m=\u001b[0m \u001b[0mnp\u001b[0m\u001b[1;33m.\u001b[0m\u001b[0masarray\u001b[0m\u001b[1;33m(\u001b[0m\u001b[0mx\u001b[0m\u001b[1;33m)\u001b[0m\u001b[1;33m.\u001b[0m\u001b[0mcopy\u001b[0m\u001b[1;33m(\u001b[0m\u001b[1;33m)\u001b[0m\u001b[1;33m\u001b[0m\u001b[1;33m\u001b[0m\u001b[0m\n\u001b[1;32m---> 68\u001b[1;33m             \u001b[0mfg\u001b[0m \u001b[1;33m=\u001b[0m \u001b[0mself\u001b[0m\u001b[1;33m.\u001b[0m\u001b[0mfun\u001b[0m\u001b[1;33m(\u001b[0m\u001b[0mx\u001b[0m\u001b[1;33m,\u001b[0m \u001b[1;33m*\u001b[0m\u001b[0margs\u001b[0m\u001b[1;33m)\u001b[0m\u001b[1;33m\u001b[0m\u001b[1;33m\u001b[0m\u001b[0m\n\u001b[0m\u001b[0;32m     69\u001b[0m             \u001b[0mself\u001b[0m\u001b[1;33m.\u001b[0m\u001b[0mjac\u001b[0m \u001b[1;33m=\u001b[0m \u001b[0mfg\u001b[0m\u001b[1;33m[\u001b[0m\u001b[1;36m1\u001b[0m\u001b[1;33m]\u001b[0m\u001b[1;33m\u001b[0m\u001b[1;33m\u001b[0m\u001b[0m\n\u001b[0;32m     70\u001b[0m             \u001b[0mself\u001b[0m\u001b[1;33m.\u001b[0m\u001b[0m_value\u001b[0m \u001b[1;33m=\u001b[0m \u001b[0mfg\u001b[0m\u001b[1;33m[\u001b[0m\u001b[1;36m0\u001b[0m\u001b[1;33m]\u001b[0m\u001b[1;33m\u001b[0m\u001b[1;33m\u001b[0m\u001b[0m\n",
      "\u001b[1;32m~\\AppData\\Roaming\\Python\\Python39\\site-packages\\sklearn\\linear_model\\_logistic.py\u001b[0m in \u001b[0;36m_logistic_loss_and_grad\u001b[1;34m(w, X, y, alpha, sample_weight)\u001b[0m\n\u001b[0;32m    123\u001b[0m     \u001b[0mout\u001b[0m \u001b[1;33m=\u001b[0m \u001b[1;33m-\u001b[0m\u001b[0mnp\u001b[0m\u001b[1;33m.\u001b[0m\u001b[0msum\u001b[0m\u001b[1;33m(\u001b[0m\u001b[0msample_weight\u001b[0m \u001b[1;33m*\u001b[0m \u001b[0mlog_logistic\u001b[0m\u001b[1;33m(\u001b[0m\u001b[0myz\u001b[0m\u001b[1;33m)\u001b[0m\u001b[1;33m)\u001b[0m \u001b[1;33m+\u001b[0m \u001b[1;36m.5\u001b[0m \u001b[1;33m*\u001b[0m \u001b[0malpha\u001b[0m \u001b[1;33m*\u001b[0m \u001b[0mnp\u001b[0m\u001b[1;33m.\u001b[0m\u001b[0mdot\u001b[0m\u001b[1;33m(\u001b[0m\u001b[0mw\u001b[0m\u001b[1;33m,\u001b[0m \u001b[0mw\u001b[0m\u001b[1;33m)\u001b[0m\u001b[1;33m\u001b[0m\u001b[1;33m\u001b[0m\u001b[0m\n\u001b[0;32m    124\u001b[0m \u001b[1;33m\u001b[0m\u001b[0m\n\u001b[1;32m--> 125\u001b[1;33m     \u001b[0mz\u001b[0m \u001b[1;33m=\u001b[0m \u001b[0mexpit\u001b[0m\u001b[1;33m(\u001b[0m\u001b[0myz\u001b[0m\u001b[1;33m)\u001b[0m\u001b[1;33m\u001b[0m\u001b[1;33m\u001b[0m\u001b[0m\n\u001b[0m\u001b[0;32m    126\u001b[0m     \u001b[0mz0\u001b[0m \u001b[1;33m=\u001b[0m \u001b[0msample_weight\u001b[0m \u001b[1;33m*\u001b[0m \u001b[1;33m(\u001b[0m\u001b[0mz\u001b[0m \u001b[1;33m-\u001b[0m \u001b[1;36m1\u001b[0m\u001b[1;33m)\u001b[0m \u001b[1;33m*\u001b[0m \u001b[0my\u001b[0m\u001b[1;33m\u001b[0m\u001b[1;33m\u001b[0m\u001b[0m\n\u001b[0;32m    127\u001b[0m \u001b[1;33m\u001b[0m\u001b[0m\n",
      "\u001b[1;31mKeyboardInterrupt\u001b[0m: "
     ]
    }
   ],
   "source": [
    "from sklearn.model_selection import GridSearchCV\n",
    "\n",
    "param_grid = dict(kmeans__n_clusters = range(2,100))\n",
    "grid_clf = GridSearchCV(pipeline, param_grid, cv=3, verbose= 2)\n",
    "grid_clf.fit(X_train, y_train)"
   ]
  },
  {
   "cell_type": "code",
   "execution_count": null,
   "id": "81dc3b72",
   "metadata": {},
   "outputs": [],
   "source": [
    "grid_clf.best_params_"
   ]
  },
  {
   "cell_type": "code",
   "execution_count": null,
   "id": "8c9458cd",
   "metadata": {},
   "outputs": [],
   "source": [
    "grid_clf.score(X_test, y_test)"
   ]
  },
  {
   "cell_type": "markdown",
   "id": "d774c5bd",
   "metadata": {},
   "source": [
    "### Using Clustering for Semi-Supervised Learning"
   ]
  },
  {
   "cell_type": "code",
   "execution_count": 26,
   "id": "a4e1a5dd",
   "metadata": {},
   "outputs": [
    {
     "data": {
      "text/plain": [
       "LogisticRegression(multi_class='ovr', random_state=42)"
      ]
     },
     "execution_count": 26,
     "metadata": {},
     "output_type": "execute_result"
    }
   ],
   "source": [
    "n_labeled=50\n",
    "log_reg = LogisticRegression(multi_class=\"ovr\",solver=\"lbfgs\", random_state=42)\n",
    "log_reg.fit(X_train[:n_labeled], y_train[:n_labeled])"
   ]
  },
  {
   "cell_type": "code",
   "execution_count": 27,
   "id": "703f42ec",
   "metadata": {},
   "outputs": [
    {
     "data": {
      "text/plain": [
       "0.8333333333333334"
      ]
     },
     "execution_count": 27,
     "metadata": {},
     "output_type": "execute_result"
    }
   ],
   "source": [
    "log_reg.score(X_test, y_test)"
   ]
  },
  {
   "cell_type": "code",
   "execution_count": 28,
   "id": "b72c8f46",
   "metadata": {},
   "outputs": [],
   "source": [
    "k=50\n",
    "kmeans = KMeans(n_clusters=k)\n",
    "X_digits_dist = kmeans.fit_transform(X_train)\n",
    "representative_digit_idx = np.argmin(X_digits_dist, axis=0)\n",
    "X_representative_digits = X_train[representative_digit_idx]"
   ]
  },
  {
   "cell_type": "code",
   "execution_count": 29,
   "id": "6ad65b22",
   "metadata": {},
   "outputs": [
    {
     "name": "stdout",
     "output_type": "stream",
     "text": [
      "Saving figure representative_images_diagram\n"
     ]
    },
    {
     "data": {
      "image/png": "[encoded data removed]",
      "text/plain": [
       "<Figure size 576x144 with 50 Axes>"
      ]
     },
     "metadata": {
      "needs_background": "light"
     },
     "output_type": "display_data"
    }
   ],
   "source": [
    "plt.figure(figsize=(8,2))\n",
    "for index, X_representative_digit in enumerate (X_representative_digits):\n",
    "    plt.subplot(k // 10, 10, index + 1)\n",
    "    plt.imshow(X_representative_digit.reshape(8,8), cmap=\"binary\", interpolation=\"bilinear\")\n",
    "    plt.axis('off')\n",
    "\n",
    "save_fig(\"representative_images_diagram\", tight_layout=False)\n",
    "plt.show()"
   ]
  },
  {
   "cell_type": "code",
   "execution_count": 30,
   "id": "5c89abca",
   "metadata": {},
   "outputs": [
    {
     "data": {
      "text/plain": [
       "array([7, 6, 2, 0, 1, 8, 3, 2, 4, 5, 7, 6, 5, 1, 1, 8, 4, 5, 0, 1, 9, 2,\n",
       "       1, 4, 7, 9, 7, 3, 9, 4, 1, 7, 0, 3, 2, 2, 8, 5, 9, 1, 9, 3, 4, 4,\n",
       "       7, 5, 6, 9, 2, 8])"
      ]
     },
     "execution_count": 30,
     "metadata": {},
     "output_type": "execute_result"
    }
   ],
   "source": [
    "y_train[representative_digit_idx]"
   ]
  },
  {
   "cell_type": "code",
   "execution_count": 31,
   "id": "71a80c03",
   "metadata": {},
   "outputs": [],
   "source": [
    "y_representative_digits = np.array([\n",
    "    1, 8, 0, 6, 3, 4, 7, 5, 2, 9,\n",
    "    6, 9, 1, 3, 4, 8, 1, 4, 2, 7,\n",
    "    7, 8, 1, 3, 6, 1, 8, 8, 3, 4,\n",
    "    7, 7, 3, 1, 5, 9, 4, 2, 4, 5,\n",
    "    0, 9, 0, 2, 2, 9, 4, 6, 5, 1\n",
    "])"
   ]
  },
  {
   "cell_type": "code",
   "execution_count": 32,
   "id": "60587e35",
   "metadata": {},
   "outputs": [],
   "source": [
    "y_train_propagated = np.empty(len(X_train), dtype=np.int32)\n",
    "for i in range(k):\n",
    "    y_train_propagated[kmeans.labels_ == i] = y_representative_digits[i]"
   ]
  },
  {
   "cell_type": "code",
   "execution_count": 33,
   "id": "b363c60c",
   "metadata": {},
   "outputs": [
    {
     "data": {
      "text/plain": [
       "0.07111111111111111"
      ]
     },
     "execution_count": 33,
     "metadata": {},
     "output_type": "execute_result"
    }
   ],
   "source": [
    "log_reg = LogisticRegression(multi_class=\"ovr\", solver=\"lbfgs\", max_iter=5000, random_state=42)\n",
    "log_reg.fit(X_train, y_train_propagated)\n",
    "log_reg.score(X_test, y_test)"
   ]
  },
  {
   "cell_type": "code",
   "execution_count": 34,
   "id": "646466d2",
   "metadata": {},
   "outputs": [],
   "source": [
    "percentile_closest = 75\n",
    "\n",
    "X_cluster_dist = X_digits_dist[np.arange(len(X_train)), kmeans.labels_]\n",
    "for i in range(k):\n",
    "    in_cluster = (kmeans.labels_ == i)\n",
    "    cluster_dist = X_cluster_dist[in_cluster]\n",
    "    cutoff_distance = np.percentile(cluster_dist, percentile_closest)\n",
    "    above_cutoff = (X_cluster_dist > cutoff_distance)\n",
    "    X_cluster_dist[in_cluster & above_cutoff] = -1"
   ]
  },
  {
   "cell_type": "code",
   "execution_count": 35,
   "id": "86e475a8",
   "metadata": {},
   "outputs": [],
   "source": [
    "partially_propagated = (X_cluster_dist != -1)\n",
    "X_train_partially_propagated = X_train[partially_propagated]\n",
    "y_train_partially_propagated = y_train_propagated[partially_propagated]"
   ]
  },
  {
   "cell_type": "code",
   "execution_count": 36,
   "id": "f23aa7d9",
   "metadata": {},
   "outputs": [
    {
     "data": {
      "text/plain": [
       "LogisticRegression(max_iter=5000, multi_class='ovr', random_state=42)"
      ]
     },
     "execution_count": 36,
     "metadata": {},
     "output_type": "execute_result"
    }
   ],
   "source": [
    "log_reg = LogisticRegression(multi_class=\"ovr\", solver=\"lbfgs\", max_iter=5000, random_state=42)\n",
    "log_reg.fit(X_train_partially_propagated, y_train_partially_propagated)"
   ]
  },
  {
   "cell_type": "code",
   "execution_count": 37,
   "id": "fd39cc41",
   "metadata": {},
   "outputs": [
    {
     "data": {
      "text/plain": [
       "0.07111111111111111"
      ]
     },
     "execution_count": 37,
     "metadata": {},
     "output_type": "execute_result"
    }
   ],
   "source": [
    "log_reg.score(X_test, y_test)"
   ]
  },
  {
   "cell_type": "code",
   "execution_count": 38,
   "id": "54ee4239",
   "metadata": {},
   "outputs": [
    {
     "data": {
      "text/plain": [
       "0.08008008008008008"
      ]
     },
     "execution_count": 38,
     "metadata": {},
     "output_type": "execute_result"
    }
   ],
   "source": [
    "np.mean(y_train_partially_propagated == y_train[partially_propagated])"
   ]
  },
  {
   "cell_type": "markdown",
   "id": "51eb3610",
   "metadata": {},
   "source": [
    "### DBSCAN"
   ]
  },
  {
   "cell_type": "code",
   "execution_count": 39,
   "id": "e570f949",
   "metadata": {},
   "outputs": [
    {
     "data": {
      "text/plain": [
       "DBSCAN(eps=0.05)"
      ]
     },
     "execution_count": 39,
     "metadata": {},
     "output_type": "execute_result"
    }
   ],
   "source": [
    "from sklearn.cluster import DBSCAN\n",
    "from sklearn.datasets import make_moons\n",
    "\n",
    "X, y = make_moons(n_samples=1000, noise =0.05)\n",
    "dbscan = DBSCAN(eps=0.05, min_samples=5)\n",
    "dbscan.fit(X)"
   ]
  },
  {
   "cell_type": "code",
   "execution_count": 40,
   "id": "606ef0e0",
   "metadata": {},
   "outputs": [
    {
     "data": {
      "text/plain": [
       "array([ 0, -1,  1,  0,  1,  2,  1,  3,  1,  3,  0, -1,  3,  1,  2,  0,  1,\n",
       "        2,  2,  3,  1,  1,  0,  0,  0,  4,  0,  0,  3,  0,  1,  2,  0,  1,\n",
       "        1,  1,  0,  1,  1,  2,  1,  5,  0,  1,  1,  0,  3,  1,  0,  1,  1,\n",
       "        0,  1,  0,  0,  5,  1,  0,  1,  3,  1,  1,  0, -1,  0,  1,  1,  1,\n",
       "        1,  0,  1,  2,  0,  0,  0,  0,  2,  1,  0,  2,  1,  0,  1,  1,  3,\n",
       "        1,  1,  0,  0,  4,  5,  1,  2,  0,  0,  1,  0,  3,  2,  1,  2,  1,\n",
       "       -1,  0,  1,  1,  1,  0,  0,  1,  0, -1,  1,  0,  3,  0,  2,  0, -1,\n",
       "        4,  2,  4,  0,  1,  1,  0,  1, -1,  0,  0,  5,  0,  2,  1,  0,  1,\n",
       "        0,  1,  0,  1,  0,  0,  1,  0,  1,  3, -1,  3,  2,  0,  1,  1,  0,\n",
       "        0,  1,  3,  1,  1,  1,  0,  1,  3, -1,  1,  1,  1, -1,  1, -1, -1,\n",
       "        1,  0,  0,  0,  0,  3,  3,  0,  1,  1,  2,  1,  0,  1,  2,  0,  0,\n",
       "        0,  1,  1,  3,  4,  0,  1,  0, -1,  0,  4, -1,  1,  0, -1,  0,  1,\n",
       "        0,  1,  0,  1,  1,  0,  3,  0,  3, -1,  1,  0,  5,  0,  2,  0,  5,\n",
       "        3,  3,  1,  2,  0,  1,  1,  1,  0, -1,  1,  1,  1,  5,  1,  2,  1,\n",
       "        2,  5,  5,  0,  1,  0,  4,  0,  4,  0,  2,  4,  0,  1,  1,  1,  0,\n",
       "        0,  3,  0,  0,  4,  0,  2,  0,  0,  1,  4,  3,  3,  4,  0, -1,  0,\n",
       "        5,  2,  2,  1,  2,  0,  6,  1,  0,  1,  1,  2,  1,  2,  3,  1,  5,\n",
       "        0,  4,  0,  0,  0,  0, -1,  1,  3,  0,  1,  2,  0,  3,  1,  3,  0,\n",
       "        1,  1,  0,  0,  3,  3,  3,  2,  2,  0,  1,  0,  3,  1,  0,  2,  1,\n",
       "        3,  0, -1, -1,  1,  0,  1,  1,  0,  4,  1,  1,  1,  1,  3,  1,  0,\n",
       "        5,  5,  2,  0,  2,  2,  2,  1,  0,  1,  2,  1, -1, -1,  1,  0, -1,\n",
       "        0, -1,  0,  2,  6,  1,  1,  3,  3,  0,  1,  1,  2,  1,  5,  2,  0,\n",
       "        0,  0,  1,  1,  5,  4,  3, -1,  1,  3, -1,  0,  6,  1,  1,  1,  3,\n",
       "        1,  5,  0,  2,  0,  0,  1, -1,  0,  0,  1,  0,  3,  0,  5,  0,  1,\n",
       "        2,  2,  5,  0,  3,  1,  3,  1,  2, -1,  1,  3,  0,  0,  1,  0,  1,\n",
       "        0,  0,  3,  1, -1,  2,  1,  5,  2,  1,  1,  0,  4,  1,  0,  1,  4,\n",
       "        0,  2,  1,  0,  1,  1,  1,  2, -1,  1,  1,  1,  0, -1,  0,  0,  2,\n",
       "        0,  3,  1,  0,  0,  0,  1,  0,  1,  0,  0,  0,  3,  0,  1,  1,  0,\n",
       "        0,  1,  1,  4,  0,  3,  2, -1,  1,  0,  0,  2,  1,  1,  0,  1,  1,\n",
       "        2,  1,  3,  0, -1,  1,  3,  2,  1,  5,  1,  3,  1,  2,  0,  0,  1,\n",
       "        1,  1, -1,  1,  2,  6,  1,  1, -1,  0,  0,  1,  1,  1,  0,  0,  3,\n",
       "        0,  4,  0,  0,  5,  1,  1,  0,  1,  0,  0,  3,  0,  0,  0,  5,  1,\n",
       "        1,  1,  2,  0,  2,  2,  1,  1,  0,  0,  2,  0,  3, -1, -1,  1,  1,\n",
       "        2,  1,  0,  1,  1,  1,  0,  1,  2,  2,  0,  2,  1,  2, -1,  3,  3,\n",
       "        3,  3, -1,  1,  3,  1,  0,  2,  2,  1,  0,  3,  3,  0,  5,  6,  2,\n",
       "        0,  1,  1,  0,  1,  1,  1,  1,  0,  1,  0,  2,  1,  3,  3,  5, -1,\n",
       "        1,  5,  0,  1,  2,  0,  1,  2,  2,  2,  0,  1,  0,  3,  5,  0,  3,\n",
       "        0,  0,  0,  1,  3,  5,  3,  0, -1,  4,  0,  3,  1,  1,  0,  1, -1,\n",
       "       -1,  0,  0, -1, -1, -1, -1,  0,  4,  0,  1,  1,  0,  0,  0,  3,  0,\n",
       "        0,  3,  0,  0,  3,  2,  3,  1,  0,  2,  1,  0,  0,  0,  2,  1,  1,\n",
       "        5,  1,  1,  1,  0,  0,  3,  0, -1,  2,  1,  0,  0,  3,  1,  1,  1,\n",
       "        3,  0,  5,  0,  0,  0,  0,  1,  1,  1,  1,  0,  0,  0,  0,  1,  3,\n",
       "        0,  1,  0, -1,  0,  0,  3,  1,  0,  1, -1,  2,  0,  2,  1,  1,  2,\n",
       "        2,  0,  1,  0,  1,  2,  0,  5,  0,  0,  3,  1,  1,  0,  0,  3,  0,\n",
       "        0,  0, -1,  1,  0, -1,  1,  6,  2,  1,  3,  0,  0,  1,  0, -1,  1,\n",
       "        4,  0,  3,  0,  5,  0,  1,  1,  1,  1,  0,  0,  2,  0,  0,  0,  1,\n",
       "        0,  1,  1,  0,  1,  2,  1,  1,  4,  0,  0,  0,  3,  3,  1,  0,  0,\n",
       "        1,  1,  2,  3,  1,  3, -1, -1,  3,  2,  3,  1, -1,  3,  1, -1,  0,\n",
       "        1,  1,  1,  4,  1,  0,  2,  0,  1,  2,  1,  0,  6, -1, -1,  2,  1,\n",
       "        2,  0,  1,  3,  0,  1,  5,  0,  0, -1,  1,  1,  2,  1,  0,  1,  0,\n",
       "        1,  0,  0,  0,  1,  1,  1,  3,  0,  0,  3,  3,  2,  1,  1,  1,  2,\n",
       "        0,  1,  3,  0,  2,  1,  5,  0,  5, -1,  0,  0,  2,  0,  0,  1,  0,\n",
       "        1,  1,  0,  0,  0,  1,  1,  2,  2,  0,  2,  0,  4,  4,  0,  3,  0,\n",
       "        1,  0, -1,  0,  2,  3,  1,  1,  1,  1,  0,  4,  1,  0, -1,  1,  5,\n",
       "        1,  2,  1,  3,  0,  0,  1,  1,  0,  1,  0,  5,  0,  1,  3,  1,  3,\n",
       "        1,  0,  2,  0,  1,  1,  0,  0,  1,  1,  0,  0,  0,  1,  0,  3,  1,\n",
       "        1,  3,  1,  2,  0,  2,  1,  1,  0,  5, -1,  1,  1,  3,  2,  1,  1,\n",
       "        0,  1, -1,  0, -1,  1,  1,  0,  0,  3,  1,  1,  3,  1,  6, -1,  0,\n",
       "        4,  3,  0,  5,  1,  5,  0,  0,  0,  1,  0,  3,  3,  0],\n",
       "      dtype=int64)"
      ]
     },
     "execution_count": 40,
     "metadata": {},
     "output_type": "execute_result"
    }
   ],
   "source": [
    "dbscan.labels_"
   ]
  },
  {
   "cell_type": "code",
   "execution_count": 41,
   "id": "31a71880",
   "metadata": {},
   "outputs": [
    {
     "data": {
      "text/plain": [
       "794"
      ]
     },
     "execution_count": 41,
     "metadata": {},
     "output_type": "execute_result"
    }
   ],
   "source": [
    "len(dbscan.core_sample_indices_)"
   ]
  },
  {
   "cell_type": "code",
   "execution_count": 42,
   "id": "d395514c",
   "metadata": {},
   "outputs": [
    {
     "data": {
      "text/plain": [
       "array([  0,   2,   3,   5,   6,   7,   9,  12,  13,  15,  16,  17,  18,\n",
       "        20,  21,  22,  23,  24,  25,  27,  28,  30,  31,  32,  33,  34,\n",
       "        36,  37,  38,  39,  41,  42,  43,  44,  45,  46,  48,  49,  50,\n",
       "        51,  53,  55,  56,  57,  58,  59,  62,  64,  65,  67,  68,  69,\n",
       "        70,  71,  72,  73,  74,  76,  77,  78,  80,  81,  82,  83,  84,\n",
       "        85,  86,  87,  88,  89,  90,  91,  92,  93,  94,  95,  96,  97,\n",
       "        98,  99, 101, 103, 104, 105, 106, 107, 108, 109, 110, 112, 113,\n",
       "       114, 115, 116, 117, 119, 120, 122, 123, 124, 125, 126, 129, 130,\n",
       "       131, 132, 133, 134, 135, 136, 137, 139, 140, 141, 142, 143, 144,\n",
       "       145, 147, 149, 150, 151, 152, 153, 154, 155, 156, 157, 158, 160,\n",
       "       161, 163, 164, 165, 167, 170, 171, 172, 173, 174, 175, 176, 177,\n",
       "       178, 179, 180, 181, 182, 183, 184, 185, 186, 187, 188, 189, 190,\n",
       "       192, 193, 194, 196, 197, 199, 200, 203, 204, 206, 207, 209, 210,\n",
       "       211, 212, 214, 215, 216, 218, 219, 220, 221, 222, 223, 224, 225,\n",
       "       226, 227, 228, 229, 231, 232, 233, 234, 235, 237, 239, 240, 241,\n",
       "       243, 244, 245, 247, 248, 249, 250, 252, 253, 254, 255, 257, 258,\n",
       "       259, 260, 261, 262, 263, 264, 266, 267, 268, 271, 273, 274, 275,\n",
       "       277, 279, 280, 281, 282, 283, 284, 285, 286, 287, 288, 289, 290,\n",
       "       292, 293, 294, 296, 297, 298, 299, 300, 303, 305, 306, 307, 308,\n",
       "       309, 310, 311, 312, 314, 315, 317, 318, 319, 320, 322, 324, 327,\n",
       "       328, 329, 330, 331, 333, 334, 335, 336, 337, 338, 339, 340, 341,\n",
       "       342, 343, 345, 346, 347, 348, 349, 350, 351, 354, 355, 357, 359,\n",
       "       361, 362, 363, 364, 365, 368, 369, 370, 372, 373, 374, 375, 377,\n",
       "       378, 379, 380, 382, 383, 385, 387, 388, 389, 390, 392, 394, 395,\n",
       "       396, 397, 399, 400, 402, 403, 405, 406, 408, 409, 411, 412, 413,\n",
       "       415, 416, 418, 420, 421, 422, 423, 426, 427, 428, 430, 431, 432,\n",
       "       433, 434, 435, 436, 437, 439, 440, 442, 443, 446, 447, 448, 451,\n",
       "       452, 453, 454, 456, 457, 458, 459, 460, 461, 462, 463, 464, 466,\n",
       "       467, 468, 469, 470, 471, 472, 473, 474, 475, 476, 477, 478, 479,\n",
       "       480, 481, 482, 484, 485, 486, 488, 490, 491, 492, 493, 494, 495,\n",
       "       496, 499, 500, 501, 502, 503, 504, 505, 506, 507, 508, 510, 511,\n",
       "       513, 514, 516, 517, 519, 521, 522, 523, 524, 525, 526, 527, 529,\n",
       "       530, 533, 534, 535, 536, 537, 538, 539, 540, 543, 544, 545, 546,\n",
       "       547, 548, 549, 550, 551, 552, 553, 554, 555, 556, 559, 560, 561,\n",
       "       562, 563, 564, 565, 566, 567, 568, 569, 571, 572, 573, 574, 577,\n",
       "       578, 579, 581, 582, 583, 584, 585, 586, 587, 588, 589, 590, 591,\n",
       "       592, 594, 596, 597, 598, 599, 600, 601, 602, 603, 604, 605, 607,\n",
       "       608, 609, 610, 612, 613, 614, 615, 616, 617, 618, 619, 620, 621,\n",
       "       622, 623, 624, 626, 627, 628, 629, 631, 632, 633, 634, 635, 636,\n",
       "       638, 640, 641, 642, 643, 644, 647, 648, 654, 655, 656, 657, 658,\n",
       "       659, 660, 662, 663, 664, 665, 666, 667, 668, 669, 671, 672, 673,\n",
       "       674, 675, 676, 677, 678, 679, 680, 681, 683, 684, 685, 686, 687,\n",
       "       689, 690, 691, 693, 694, 695, 696, 697, 698, 699, 700, 701, 702,\n",
       "       703, 704, 706, 707, 708, 709, 710, 711, 712, 713, 714, 715, 716,\n",
       "       719, 720, 721, 722, 723, 725, 727, 728, 730, 732, 733, 734, 736,\n",
       "       737, 738, 739, 740, 741, 742, 744, 745, 746, 747, 748, 749, 754,\n",
       "       755, 756, 757, 758, 759, 761, 762, 764, 765, 766, 768, 770, 771,\n",
       "       772, 773, 775, 776, 777, 779, 780, 781, 782, 783, 784, 785, 786,\n",
       "       787, 788, 789, 790, 791, 792, 793, 794, 796, 797, 798, 799, 800,\n",
       "       802, 803, 804, 807, 808, 809, 810, 812, 813, 816, 817, 818, 819,\n",
       "       821, 823, 824, 825, 826, 827, 831, 832, 833, 834, 835, 836, 837,\n",
       "       838, 839, 840, 841, 843, 844, 845, 846, 847, 848, 849, 850, 851,\n",
       "       852, 853, 854, 855, 856, 857, 858, 859, 860, 861, 863, 864, 866,\n",
       "       867, 868, 870, 871, 872, 874, 875, 877, 879, 880, 881, 882, 883,\n",
       "       884, 886, 887, 889, 890, 891, 892, 893, 894, 895, 897, 898, 899,\n",
       "       900, 902, 904, 906, 907, 908, 909, 911, 912, 913, 914, 918, 919,\n",
       "       920, 921, 922, 925, 926, 927, 928, 929, 930, 931, 932, 933, 934,\n",
       "       935, 936, 937, 938, 939, 940, 941, 943, 944, 945, 946, 947, 949,\n",
       "       950, 951, 953, 954, 955, 956, 957, 958, 959, 960, 961, 963, 964,\n",
       "       965, 966, 967, 968, 969, 970, 972, 974, 975, 976, 977, 978, 979,\n",
       "       980, 982, 985, 986, 987, 988, 989, 991, 993, 994, 995, 997, 998,\n",
       "       999], dtype=int64)"
      ]
     },
     "execution_count": 42,
     "metadata": {},
     "output_type": "execute_result"
    }
   ],
   "source": [
    "dbscan.core_sample_indices_"
   ]
  },
  {
   "cell_type": "code",
   "execution_count": 43,
   "id": "eba596e0",
   "metadata": {},
   "outputs": [
    {
     "data": {
      "text/plain": [
       "array([[-0.40275025,  0.90944735],\n",
       "       [ 1.12642653, -0.56299112],\n",
       "       [-0.67041671,  0.77909623],\n",
       "       ...,\n",
       "       [ 0.94879946,  0.10302118],\n",
       "       [ 0.91545883,  0.13259988],\n",
       "       [-0.93593747,  0.37512229]])"
      ]
     },
     "execution_count": 43,
     "metadata": {},
     "output_type": "execute_result"
    }
   ],
   "source": [
    "dbscan.components_"
   ]
  },
  {
   "cell_type": "code",
   "execution_count": 44,
   "id": "56843f6d",
   "metadata": {},
   "outputs": [
    {
     "data": {
      "text/plain": [
       "KNeighborsClassifier(n_neighbors=50)"
      ]
     },
     "execution_count": 44,
     "metadata": {},
     "output_type": "execute_result"
    }
   ],
   "source": [
    "from sklearn.neighbors import KNeighborsClassifier\n",
    "\n",
    "knn = KNeighborsClassifier(n_neighbors=50)\n",
    "knn.fit(dbscan.components_, dbscan.labels_[dbscan.core_sample_indices_])"
   ]
  },
  {
   "cell_type": "code",
   "execution_count": 45,
   "id": "e8c453af",
   "metadata": {},
   "outputs": [
    {
     "data": {
      "text/plain": [
       "array([5, 1, 3, 2], dtype=int64)"
      ]
     },
     "execution_count": 45,
     "metadata": {},
     "output_type": "execute_result"
    }
   ],
   "source": [
    "X_new = np.array([[-0.5, 0], [0, 0.5], [1, -0.1], [2, 1]])\n",
    "knn.predict(X_new)"
   ]
  },
  {
   "cell_type": "code",
   "execution_count": 46,
   "id": "1f6b36b4",
   "metadata": {},
   "outputs": [
    {
     "data": {
      "text/plain": [
       "array([[0.28, 0.18, 0.  , 0.  , 0.  , 0.5 , 0.04],\n",
       "       [0.02, 0.98, 0.  , 0.  , 0.  , 0.  , 0.  ],\n",
       "       [0.  , 0.22, 0.  , 0.78, 0.  , 0.  , 0.  ],\n",
       "       [0.  , 0.  , 1.  , 0.  , 0.  , 0.  , 0.  ]])"
      ]
     },
     "execution_count": 46,
     "metadata": {},
     "output_type": "execute_result"
    }
   ],
   "source": [
    "knn.predict_proba(X_new)"
   ]
  },
  {
   "cell_type": "code",
   "execution_count": 47,
   "id": "097ea67d",
   "metadata": {},
   "outputs": [
    {
     "data": {
      "text/plain": [
       "array([-1,  1,  3, -1], dtype=int64)"
      ]
     },
     "execution_count": 47,
     "metadata": {},
     "output_type": "execute_result"
    }
   ],
   "source": [
    "y_dist, y_pred_idx = knn.kneighbors(X_new, n_neighbors=1)\n",
    "y_pred = dbscan.labels_[dbscan.core_sample_indices_][y_pred_idx]\n",
    "y_pred[y_dist > 0.2] = -1\n",
    "y_pred.ravel()"
   ]
  },
  {
   "cell_type": "code",
   "execution_count": 48,
   "id": "2d9a2ae6",
   "metadata": {},
   "outputs": [
    {
     "data": {
      "text/plain": [
       "GaussianMixture(n_components=3, n_init=10, random_state=42)"
      ]
     },
     "execution_count": 48,
     "metadata": {},
     "output_type": "execute_result"
    }
   ],
   "source": [
    "from sklearn.mixture import GaussianMixture\n",
    "\n",
    "gm = GaussianMixture(n_components=3, n_init=10, random_state=42)\n",
    "gm.fit(X)"
   ]
  },
  {
   "cell_type": "code",
   "execution_count": 49,
   "id": "00a651b3",
   "metadata": {
    "scrolled": true
   },
   "outputs": [
    {
     "data": {
      "text/plain": [
       "array([0.20429907, 0.58694281, 0.20875812])"
      ]
     },
     "execution_count": 49,
     "metadata": {},
     "output_type": "execute_result"
    }
   ],
   "source": [
    "gm.weights_"
   ]
  },
  {
   "cell_type": "code",
   "execution_count": 50,
   "id": "5796ac93",
   "metadata": {},
   "outputs": [
    {
     "data": {
      "text/plain": [
       "array([[ 1.74927433, -0.05649182],\n",
       "       [ 0.50278099,  0.24140247],\n",
       "       [-0.73618818,  0.5655472 ]])"
      ]
     },
     "execution_count": 50,
     "metadata": {},
     "output_type": "execute_result"
    }
   ],
   "source": [
    "gm.means_"
   ]
  },
  {
   "cell_type": "code",
   "execution_count": 51,
   "id": "8cf7b6f6",
   "metadata": {},
   "outputs": [
    {
     "data": {
      "text/plain": [
       "array([[[ 0.05374092,  0.06219381],\n",
       "        [ 0.06219381,  0.0894915 ]],\n",
       "\n",
       "       [[ 0.16223415, -0.09632411],\n",
       "        [-0.09632411,  0.28621515]],\n",
       "\n",
       "       [[ 0.05823819,  0.06519796],\n",
       "        [ 0.06519796,  0.08820137]]])"
      ]
     },
     "execution_count": 51,
     "metadata": {},
     "output_type": "execute_result"
    }
   ],
   "source": [
    "gm.covariances_"
   ]
  },
  {
   "cell_type": "code",
   "execution_count": 52,
   "id": "5e076abc",
   "metadata": {},
   "outputs": [
    {
     "data": {
      "text/plain": [
       "True"
      ]
     },
     "execution_count": 52,
     "metadata": {},
     "output_type": "execute_result"
    }
   ],
   "source": [
    "gm.converged_"
   ]
  },
  {
   "cell_type": "code",
   "execution_count": 53,
   "id": "23d6d483",
   "metadata": {},
   "outputs": [
    {
     "data": {
      "text/plain": [
       "14"
      ]
     },
     "execution_count": 53,
     "metadata": {},
     "output_type": "execute_result"
    }
   ],
   "source": [
    "gm.n_iter_"
   ]
  },
  {
   "cell_type": "code",
   "execution_count": 54,
   "id": "4a285821",
   "metadata": {},
   "outputs": [
    {
     "data": {
      "text/plain": [
       "array([2], dtype=int64)"
      ]
     },
     "execution_count": 54,
     "metadata": {},
     "output_type": "execute_result"
    }
   ],
   "source": [
    "gm.predict(X[:1])"
   ]
  },
  {
   "cell_type": "code",
   "execution_count": 55,
   "id": "d7be65e3",
   "metadata": {},
   "outputs": [
    {
     "data": {
      "text/plain": [
       "array([[3.45834812e-167, 8.19796644e-002, 9.18020336e-001]])"
      ]
     },
     "execution_count": 55,
     "metadata": {},
     "output_type": "execute_result"
    }
   ],
   "source": [
    "gm.predict_proba(X[:1])"
   ]
  },
  {
   "cell_type": "code",
   "execution_count": 56,
   "id": "346de78f",
   "metadata": {},
   "outputs": [
    {
     "data": {
      "text/plain": [
       "array([[ 1.50431889, -0.17139354],\n",
       "       [ 0.49999089,  0.084626  ],\n",
       "       [ 0.28563362,  1.17000926],\n",
       "       [-0.66046955,  0.72989602],\n",
       "       [-0.59916226,  0.67818045],\n",
       "       [-0.6735934 ,  0.39992653]])"
      ]
     },
     "execution_count": 56,
     "metadata": {},
     "output_type": "execute_result"
    }
   ],
   "source": [
    "X_new, y_new = gm.sample(6)\n",
    "X_new"
   ]
  },
  {
   "cell_type": "code",
   "execution_count": 57,
   "id": "9dd99143",
   "metadata": {},
   "outputs": [
    {
     "data": {
      "text/plain": [
       "array([0, 1, 1, 2, 2, 2])"
      ]
     },
     "execution_count": 57,
     "metadata": {},
     "output_type": "execute_result"
    }
   ],
   "source": [
    "y_new"
   ]
  },
  {
   "cell_type": "code",
   "execution_count": 58,
   "id": "14625b9f",
   "metadata": {},
   "outputs": [
    {
     "data": {
      "text/plain": [
       "array([-7.87393124e-01, -3.50402198e+00, -2.25769669e+00, -5.59022608e-01,\n",
       "       -1.37083899e+00, -9.28795158e-01, -1.40926596e+00, -1.58278397e+00,\n",
       "       -1.61856012e+00, -1.56156475e+00, -1.68299371e+00, -1.72100858e+00,\n",
       "       -1.71673655e+00, -1.68562509e+00, -1.75694313e+00, -1.69471848e+00,\n",
       "       -6.00757915e-01, -3.65240778e-01, -9.71352321e-02, -2.03071030e+00,\n",
       "       -2.24132870e+00, -2.11637337e+00, -1.60307067e+00, -1.83378681e+00,\n",
       "       -1.68224339e+00, -1.71917737e-01, -1.31595506e+00, -1.37720306e-01,\n",
       "       -1.57574065e+00, -2.11202649e+00, -1.64679510e+00, -5.19203168e-01,\n",
       "       -8.09519865e-01, -1.66565442e+00, -1.59049816e+00, -2.20572261e+00,\n",
       "       -1.82804689e+00, -1.59942939e+00, -2.04230100e+00, -3.35889332e-01,\n",
       "       -7.59224911e-01, -5.80724600e-01, -2.84783943e-01, -1.57143566e+00,\n",
       "       -2.20071314e+00, -1.34739155e+00, -1.43910716e+00, -1.89446232e+00,\n",
       "       -4.14309573e-01, -1.55976152e+00, -1.90115143e+00, -4.44779734e-02,\n",
       "       -1.97773914e+00, -9.67837099e-01, -1.65204136e+00, -1.03811163e+00,\n",
       "       -1.73943857e+00, -1.58327561e+00, -1.67918539e+00, -1.49439192e+00,\n",
       "       -8.27703868e-01, -1.24627851e+00, -1.22638074e-01, -1.56257628e+00,\n",
       "       -2.22936017e+00, -1.67137914e+00, -1.33029892e+00, -6.56624809e-01,\n",
       "       -7.03755469e-01, -2.17001091e+00, -1.45786409e+00, -2.61888510e-01,\n",
       "       -1.17783367e-01, -1.75477034e+00, -2.24486264e+00, -4.25130595e-01,\n",
       "       -4.96167557e-01, -1.74411013e+00, -3.82786642e-01, -1.34834635e+00,\n",
       "       -1.58500356e+00, -8.65872125e-01, -1.68687660e+00, -1.40864133e+00,\n",
       "       -1.41729130e+00, -1.69458455e+00, -1.54288743e+00, -1.64035289e+00,\n",
       "       -5.57900672e-01, -3.02002141e-02, -9.09566890e-01, -2.24927369e+00,\n",
       "       -2.02683731e+00, -1.67871250e+00, -3.56243395e-01, -1.59683296e+00,\n",
       "       -6.63647479e-01, -1.57219632e+00, -5.15939300e-01, -1.84303177e+00,\n",
       "       -1.49551773e+00, -1.33862032e+00, -3.08592746e-01, -3.97820210e-01,\n",
       "       -1.62654137e+00, -1.53219230e+00, -1.76193544e+00, -1.95935802e+00,\n",
       "       -1.03650801e+00, -1.65502614e+00, -8.67656138e-01, -1.97487651e+00,\n",
       "       -5.25264593e-01, -2.18754236e+00, -1.40763445e+00, -2.73949656e-01,\n",
       "       -2.50156642e-01, -2.91988263e-01, -1.28350864e+00, -6.88518072e-01,\n",
       "       -9.80575801e-01, -1.81871659e-01, -1.49021951e+00, -2.18280280e+00,\n",
       "       -1.52838756e+00, -1.58874369e+00, -1.67055236e+00, -1.24572664e+00,\n",
       "       -1.58431791e+00, -7.37326495e-01, -3.85469727e-01, -1.68438445e+00,\n",
       "       -8.66789077e-01, -1.50720666e+00, -3.85236811e-01, -1.80049505e+00,\n",
       "        1.61387089e-02, -1.59771423e+00, -1.66703013e+00, -1.69290152e+00,\n",
       "       -1.69743881e+00, -8.71990296e-03, -1.55435483e+00, -2.14228628e-01,\n",
       "       -1.30755068e+00, -1.78153384e+00, -8.38960801e-01, -1.58635012e+00,\n",
       "       -1.01140668e+00, -1.74918692e+00, -1.64284301e+00, -1.79803800e+00,\n",
       "       -1.62442991e+00, -2.27945529e-01, -1.72111098e+00, -1.71880857e+00,\n",
       "       -1.66750600e+00, -1.53628916e+00, -5.96534427e-01, -1.79615972e+00,\n",
       "       -2.02690905e+00, -1.59977618e+00, -2.12290712e+00, -1.63390325e+00,\n",
       "       -1.71659478e+00, -1.74905628e+00, -1.99922490e+00, -1.80749029e+00,\n",
       "       -1.59067957e+00, -2.04362417e+00, -1.53062987e+00, -1.66255838e+00,\n",
       "       -1.82735513e+00, -1.76710709e+00, -1.67933901e+00, -1.51066606e+00,\n",
       "       -1.59143412e+00, -2.78683249e-01, -1.39806861e+00, -6.12351733e-01,\n",
       "       -2.95357660e-01, -9.90513340e-01, -2.04573241e+00, -1.70901251e+00,\n",
       "       -4.27501609e-01, -1.70179869e+00, -2.22207843e+00,  9.99203708e-02,\n",
       "       -2.26939125e+00, -1.40992212e+00, -1.83625442e+00, -1.73656878e-01,\n",
       "       -1.83922181e+00, -1.47893268e+00, -4.26312481e-03, -1.24259264e+00,\n",
       "       -5.11069682e-01, -4.07103028e-02, -3.40558547e+00, -1.52948200e+00,\n",
       "       -1.63277767e+00, -5.74261230e-01, -1.75851996e+00, -1.47119996e+00,\n",
       "       -1.61951962e+00, -1.25348257e+00, -1.55429630e+00, -1.69477890e+00,\n",
       "       -1.08666125e+00, -1.74218366e+00, -1.45854947e+00, -1.88089061e+00,\n",
       "       -1.50280460e+00, -2.02069598e+00, -1.67079298e+00, -1.55813951e-01,\n",
       "       -9.59455793e-01, -1.70418873e+00, -1.04089058e+00, -1.96381162e+00,\n",
       "       -9.97373256e-01, -1.53368218e+00, -1.69719216e+00, -1.58464488e+00,\n",
       "       -1.05372198e+00, -1.41136690e-01, -1.45042168e+00, -7.66879900e-01,\n",
       "       -1.68940896e+00,  5.60445502e-02, -1.13850024e+00, -2.21812332e+00,\n",
       "       -1.65913981e+00, -1.36466862e+00, -5.60168904e-01, -1.66061668e+00,\n",
       "       -1.67759980e+00, -1.56151122e+00, -3.40584018e-01, -1.23344696e+00,\n",
       "       -7.56701165e-01, -1.39459731e+00, -1.88310843e+00, -2.13567586e+00,\n",
       "       -3.18179307e-01, -6.46217019e-01, -1.98629266e-01, -1.69180823e+00,\n",
       "       -6.29645172e-01, -4.08764665e-02, -1.63630273e+00, -2.11459438e+00,\n",
       "       -1.73260757e+00, -2.26368373e+00, -2.02001622e+00, -7.52267912e-01,\n",
       "       -1.39668681e+00, -1.61649647e+00, -1.79497284e+00, -1.39335876e+00,\n",
       "       -8.64293295e-02, -1.96895185e-01, -8.81381578e-01, -1.68075487e+00,\n",
       "       -1.54515254e+00, -4.76214517e-01, -1.53634195e+00, -1.46069294e+00,\n",
       "       -4.57371498e-01, -1.37314470e+00, -4.07735856e-02, -1.45991269e+00,\n",
       "       -6.06516813e-01, -4.44692371e-01, -3.93217457e-01, -1.80206671e+00,\n",
       "       -2.99109818e+00, -1.80299644e+00, -3.01033146e+00, -1.41673550e+00,\n",
       "       -4.30600798e-01, -1.51752375e+00, -9.07728658e-01, -4.17619604e-01,\n",
       "       -1.54871668e+00, -3.00032976e-01, -1.85935550e+00, -1.64851708e+00,\n",
       "       -6.54186489e-01, -1.44158874e+00, -2.48765348e-01, -1.09540856e+00,\n",
       "       -1.70283116e+00, -1.89922241e+00, -1.80530320e+00, -3.41517042e+00,\n",
       "       -1.57043050e+00, -1.54559502e+00, -2.14355002e+00, -1.62619027e+00,\n",
       "       -6.83161216e-01, -4.72342869e-01, -1.82690115e+00, -1.62921243e+00,\n",
       "       -1.54258305e+00,  3.74465149e-02, -9.91430139e-01, -1.48236131e+00,\n",
       "        8.06785174e-02, -1.57077864e+00, -1.85318324e+00, -1.51928137e+00,\n",
       "       -1.51359378e+00, -1.99286314e+00, -4.54615732e-01, -8.86733292e-01,\n",
       "       -1.34162422e+00, -6.06233999e-01, -1.46174493e+00, -1.46874152e+00,\n",
       "       -2.95390789e-03, -1.14424552e+00, -1.47968531e+00, -1.71956345e+00,\n",
       "       -1.73417110e+00, -8.27250270e-01, -1.94431182e+00, -1.50625740e+00,\n",
       "       -1.60372444e+00, -1.62340465e+00, -1.58643376e+00, -1.67989333e+00,\n",
       "       -1.23497398e+00, -6.71364851e-01, -2.24410460e+00, -2.01277013e+00,\n",
       "       -1.58900939e+00, -1.44668238e+00, -2.23833305e+00, -1.44010603e+00,\n",
       "       -1.22517715e+00, -7.06731717e-01, -3.35973453e-01, -1.59389488e+00,\n",
       "       -1.05682699e+00, -2.39229558e-01, -1.12176081e+00, -8.84080650e-01,\n",
       "       -1.66296916e+00, -1.98432175e+00, -2.31093092e-01, -1.69124979e+00,\n",
       "       -2.09224227e+00, -1.87805362e+00, -2.18592789e+00, -1.65023496e+00,\n",
       "       -1.83260393e+00, -1.65325818e+00, -1.72733492e+00, -1.50314903e+00,\n",
       "       -2.05459090e+00, -2.42183942e+00, -1.44852533e+00, -2.24695388e+00,\n",
       "       -1.41972776e+00, -1.74527721e+00, -1.23625886e+00, -1.48823717e+00,\n",
       "       -2.28472924e+00, -1.46638201e-01, -1.25096831e+00, -3.74986043e+00,\n",
       "       -1.07433587e+00, -1.58251153e+00, -1.55232636e+00, -8.88556288e-01,\n",
       "       -1.19711917e+00, -1.66142925e+00, -4.72162313e-01, -5.04242088e-01,\n",
       "       -1.53039693e+00, -8.71939661e-01, -1.83323618e+00, -1.50473205e+00,\n",
       "       -1.99174644e+00, -5.56579401e-01, -2.80913170e+00, -5.16894351e-01,\n",
       "       -1.64623792e+00, -1.58475429e+00, -1.50771824e+00, -1.86961000e+00,\n",
       "       -1.04315931e+00, -1.85055991e+00, -1.12861306e+00, -2.16748362e+00,\n",
       "       -1.85677184e+00, -8.22560353e-01, -1.96179333e+00, -5.60657347e-01,\n",
       "       -7.77660176e-02, -1.39204697e+00, -1.62746210e+00, -1.55256544e+00,\n",
       "       -1.31910830e+00, -1.15976569e+00, -2.24996641e+00, -3.54735405e-01,\n",
       "       -5.00631175e-01, -9.37583382e-01, -3.40037940e+00, -1.39524854e+00,\n",
       "       -1.54221527e+00, -1.54763050e+00, -1.55381755e+00, -1.61818292e+00,\n",
       "       -2.63026851e-01, -9.87218004e-01, -1.08072133e+00, -2.08584988e+00,\n",
       "       -1.46775740e+00, -2.12920154e+00, -1.95558598e+00, -1.54114563e+00,\n",
       "       -2.28871827e+00,  4.51157265e-03, -1.73835065e+00, -1.87633633e+00,\n",
       "       -1.60461099e+00, -1.79748580e+00, -1.38039959e+00, -1.79712279e+00,\n",
       "       -1.79111194e+00, -6.92480726e-01, -1.64389230e+00, -1.49410816e+00,\n",
       "       -4.17132154e-02, -1.59280652e-01, -2.01738125e+00, -1.09100238e+00,\n",
       "       -7.39800766e-01,  2.50447370e-02, -2.48191119e-01, -1.51697141e-01,\n",
       "       -1.18887276e+00, -8.37028235e-02, -1.75053179e+00, -1.78946735e+00,\n",
       "       -2.15938365e+00, -5.52630287e-01, -1.05821088e+00, -4.67033218e-01,\n",
       "       -1.67813862e+00, -1.53218650e+00, -4.20948973e-01, -1.92680580e+00,\n",
       "       -3.60094272e-01, -2.07349076e+00, -3.16840716e-01, -1.59106958e+00,\n",
       "       -1.59027821e+00, -1.41548763e+00, -5.87410016e-01, -6.78906985e-01,\n",
       "       -1.49136984e+00, -1.94733731e+00, -1.59527023e+00, -1.54436097e+00,\n",
       "       -1.48673788e+00,  2.08195358e-02, -1.67359648e+00, -1.67562682e+00,\n",
       "       -1.88684501e+00, -1.62807666e+00, -1.63368232e+00, -1.47510143e+00,\n",
       "       -2.47740337e-01, -1.49293954e+00, -1.97073037e+00, -1.96675867e-01,\n",
       "       -1.67178839e+00, -1.53544252e+00, -7.43303961e-01, -3.79927010e+00,\n",
       "       -1.71828830e+00, -2.22571608e-01, -2.19153150e+00, -2.36767773e+00,\n",
       "       -1.50124958e+00, -1.35074943e+00, -1.12461615e+00, -2.09509236e+00,\n",
       "       -1.79982865e+00, -9.23002659e-01, -2.09472295e+00, -1.71010848e+00,\n",
       "       -1.40854044e-01, -1.94788827e+00, -1.43305988e+00, -1.80629932e+00,\n",
       "       -3.78816032e-01, -1.34571994e+00, -7.07765907e-01, -1.40759575e+00,\n",
       "       -1.98852514e+00, -1.80479209e+00, -1.93221260e-01, -1.17445453e+00,\n",
       "       -2.01784727e+00, -1.81875113e+00, -1.78111643e+00, -1.46531333e+00,\n",
       "       -1.80816536e+00, -1.70355386e+00, -9.59127588e-02, -1.67914203e+00,\n",
       "       -1.53640332e+00, -1.42369297e+00, -1.19957073e+00, -1.69492792e+00,\n",
       "       -1.69528636e+00, -2.00589092e+00, -1.68164532e+00, -1.79070396e+00,\n",
       "       -1.57358112e+00, -1.64263023e+00, -1.35896794e+00, -1.93029264e+00,\n",
       "       -1.81804332e+00, -1.74653016e+00, -2.21350941e+00, -3.71161417e-01,\n",
       "       -2.14598856e+00, -9.45700448e-01, -1.59785829e+00, -1.14462537e+00,\n",
       "       -1.64087003e+00, -1.12794035e+00, -1.67363752e+00,  7.67569298e-02,\n",
       "       -1.53000253e+00, -1.51866175e+00, -9.42031751e-01, -1.72933346e+00,\n",
       "       -1.42007232e+00, -1.92487695e+00, -1.09098412e+00, -6.91460253e-01,\n",
       "       -2.32634542e-01, -6.96112065e-01, -1.01107759e+00, -1.58616756e+00,\n",
       "       -1.71475720e+00, -3.89312269e-01, -2.91433096e-01, -5.74389233e-01,\n",
       "       -1.41802484e+00, -1.45497421e+00, -2.83458311e-01, -1.65440485e+00,\n",
       "       -2.20249945e+00, -7.49800487e-01, -1.61806020e+00, -1.54030830e+00,\n",
       "       -1.62871529e+00, -2.13461879e+00, -1.42558498e+00, -1.39258766e+00,\n",
       "       -1.37317114e+00, -7.31750223e-01, -7.37365730e-01, -1.53849203e+00,\n",
       "       -7.46198388e-01, -1.66110519e+00, -1.70965900e-01, -1.49555105e+00,\n",
       "       -1.92135416e+00, -1.76873475e+00, -1.42423423e+00, -1.56454032e+00,\n",
       "       -7.98151011e-01, -1.59798865e+00, -1.47425486e+00, -2.18952644e+00,\n",
       "       -1.43882164e+00, -3.25239557e-01, -2.52872087e-01, -1.42076433e+00,\n",
       "       -1.75879270e+00, -1.29886399e+00, -1.30234535e+00, -1.66197521e+00,\n",
       "       -6.37867761e-01, -2.12499403e+00, -3.28618102e-01, -1.39244889e+00,\n",
       "       -1.55832084e+00, -1.00196168e+00, -5.68174284e-01, -1.50425395e+00,\n",
       "       -1.76822712e+00, -1.45169329e+00, -1.44728670e+00, -2.59870552e-01,\n",
       "       -1.62556950e+00, -1.65139049e+00, -1.17093085e+00, -1.58902639e+00,\n",
       "       -1.64283662e+00, -1.42264936e+00, -8.68975225e-01, -1.88883511e+00,\n",
       "       -1.56325338e+00, -1.94778915e+00, -1.78199088e+00, -1.68650323e+00,\n",
       "       -2.63018298e-01, -4.83427019e-01, -1.78135476e+00, -4.93734663e-01,\n",
       "       -8.38699049e-01, -2.25535072e+00, -1.50270363e+00, -1.83405725e+00,\n",
       "       -2.23359958e+00, -1.32207047e+00, -1.11902937e+00, -1.38918115e-01,\n",
       "       -1.45207923e+00,  1.95248811e-02, -4.41983488e-01, -1.45260822e+00,\n",
       "       -1.60519302e+00, -1.84025774e+00, -6.02973801e-01, -1.68638564e+00,\n",
       "       -1.62087058e+00, -1.35650940e+00, -3.51787138e-01, -1.40752713e+00,\n",
       "       -1.68895157e+00, -1.51638287e+00, -1.39844312e+00, -4.24788159e-01,\n",
       "       -7.57528000e-01, -3.51305829e+00, -1.83660153e+00, -3.14669508e-01,\n",
       "       -1.84039916e+00,  4.93177821e-02, -1.41510223e-01, -1.29087367e+00,\n",
       "       -1.03144153e+00,  8.84967839e-02, -1.17915193e-01, -8.69496989e-01,\n",
       "       -1.66924795e+00, -1.74783422e+00, -1.62107285e+00,  6.15429942e-02,\n",
       "       -9.24445644e-01, -1.47536602e+00, -1.68747337e+00, -4.25181422e-01,\n",
       "       -1.86118084e+00, -1.44334272e+00, -1.53866227e+00, -1.46924210e+00,\n",
       "       -9.57077462e-01, -1.63867585e+00, -2.11465202e+00, -1.69274910e+00,\n",
       "       -9.15755489e-01, -1.65951262e+00, -1.70809338e+00, -1.42717584e+00,\n",
       "       -1.05275984e-01, -1.09684335e-01, -1.92972189e+00, -5.76536478e-01,\n",
       "       -1.29980229e+00, -2.23494578e+00, -1.29228176e+00, -1.78400639e+00,\n",
       "       -1.68497722e+00, -6.20587260e-01, -1.35782215e+00, -1.65863885e+00,\n",
       "        4.03323388e-02, -7.65335689e-01, -2.19053524e+00, -8.44842350e-01,\n",
       "       -1.44038611e+00, -1.45405166e+00, -1.42007151e+00, -1.36091000e+00,\n",
       "       -1.37553731e+00, -1.74903336e+00,  4.95862541e-02, -1.17913829e+00,\n",
       "       -4.29283270e-01, -1.51340842e+00, -1.56129917e+00, -3.43001861e-01,\n",
       "       -1.95967781e+00, -1.30104303e+00, -1.54438678e+00, -1.54969666e+00,\n",
       "       -1.07242954e+00, -4.21229437e-01, -1.50427314e+00,  3.86571115e-02,\n",
       "       -1.62554675e+00, -1.43156544e+00, -3.36177979e-01, -1.49650083e+00,\n",
       "        6.18166688e-02, -1.64123912e+00, -1.87935608e+00, -6.86762496e-01,\n",
       "       -1.96877249e+00, -2.03950939e+00, -4.55912920e-01, -1.49160294e+00,\n",
       "       -1.28996463e+00, -3.25253095e-01, -2.59470246e-01, -4.91394231e-01,\n",
       "       -2.20737186e+00, -1.51157089e+00, -4.98942392e-01, -6.07903415e-01,\n",
       "       -1.90982059e+00, -1.71507692e+00, -2.18125642e+00, -2.23554631e+00,\n",
       "       -7.40204090e-01, -1.52785902e+00, -1.51503198e+00, -9.09118844e-01,\n",
       "       -1.97342294e+00, -1.47761642e+00, -1.81588354e+00, -1.28214272e+00,\n",
       "       -1.52826559e+00, -1.48544292e+00, -1.50465838e+00, -2.05901669e+00,\n",
       "       -2.14454487e+00, -2.32740692e-01, -1.91537111e+00, -4.59939028e-01,\n",
       "       -1.98518471e+00, -1.43551641e+00, -1.49269163e+00, -2.41478981e+00,\n",
       "       -3.55300976e-01, -1.89646812e+00, -1.36862975e+00, -1.48616834e+00,\n",
       "       -9.58789329e-03, -1.53865680e+00, -1.62424698e+00, -2.14963881e+00,\n",
       "       -2.25457985e+00, -3.90021769e-02, -1.46568625e+00, -2.02937459e+00,\n",
       "       -1.63736875e+00, -1.00534301e+00, -8.32814873e-01, -1.92942376e+00,\n",
       "       -1.36563422e+00, -1.02628682e+00, -1.79019350e+00, -1.01650052e+00,\n",
       "       -1.41949313e+00, -2.01266710e+00, -1.69102497e+00,  1.87149699e-02,\n",
       "       -2.25559576e+00, -1.46696103e+00, -1.65844099e+00, -1.66870539e+00,\n",
       "       -1.48679664e+00, -1.92880598e+00, -1.53894478e+00, -1.22091581e+00,\n",
       "       -1.59140663e+00, -1.94460761e+00, -1.52794512e-01, -1.66823932e+00,\n",
       "       -2.40047684e-01, -1.63948527e+00, -1.81070022e+00, -1.86406433e+00,\n",
       "       -1.59603377e+00, -6.90665433e-01, -2.05809968e+00, -1.56140080e+00,\n",
       "       -1.39007242e+00, -1.81190645e+00, -1.42684352e+00, -2.11961198e+00,\n",
       "       -1.39926820e+00, -6.40168588e-01, -1.27430517e+00, -1.60010169e+00,\n",
       "       -1.61303228e+00, -1.42058379e+00, -1.47016493e+00,  2.41919298e-02,\n",
       "       -1.37596680e+00, -1.68528324e+00, -3.49002116e-01, -1.40095192e-01,\n",
       "       -1.56179502e+00, -1.58324778e+00, -1.49823360e+00, -1.04309891e+00,\n",
       "       -1.45264470e+00,  2.22734168e-02, -1.41323028e+00, -5.45286218e-01,\n",
       "       -1.43645807e+00, -9.24219787e-01, -1.58078047e+00, -1.40518494e+00,\n",
       "       -2.60196970e+00, -1.98064798e+00, -1.79547946e+00, -1.82333990e-01,\n",
       "       -2.09636521e+00, -1.13127058e+00, -2.05078133e+00, -1.71109100e+00,\n",
       "       -1.47747682e+00, -1.54193516e+00, -1.58752312e+00, -7.66601955e-01,\n",
       "       -6.28292069e-01, -1.78007937e+00, -1.20581329e+00, -1.91406933e+00,\n",
       "       -1.55533051e+00, -2.21755227e+00, -1.74925923e+00, -4.98074709e-01,\n",
       "       -2.07113812e+00, -1.73069118e+00, -1.78102579e+00, -1.45837037e+00,\n",
       "       -2.03986465e+00, -1.83328085e+00, -1.42616713e+00, -1.69007617e+00,\n",
       "       -1.54818635e+00, -1.56021367e+00, -2.39927970e-01, -1.50664928e+00,\n",
       "       -1.28193231e+00, -1.72439822e+00, -9.09179847e-01, -9.16127604e-01,\n",
       "       -2.20116254e+00, -1.31890686e+00, -3.92930091e-01, -1.48850585e+00,\n",
       "       -1.64061631e+00, -1.19483033e+00, -8.82047728e-02, -1.92980863e+00,\n",
       "       -1.45484175e+00, -1.81721932e+00, -8.42977208e-01, -9.72653824e-01,\n",
       "       -1.21605215e+00, -6.46298214e-01, -1.86576448e+00, -1.59764642e-01,\n",
       "       -1.87110504e+00, -2.57016568e-01, -5.08009331e-01, -2.11210146e+00,\n",
       "       -1.01025079e+00, -1.34033750e+00, -2.23888548e+00, -2.35442482e-01,\n",
       "       -1.67184377e+00, -1.44217951e+00, -1.38574791e+00, -4.21590902e-01,\n",
       "       -9.33564976e-02, -2.23070595e+00, -3.24477324e-01, -1.57282922e+00,\n",
       "       -8.96054635e-01, -5.98273172e-01, -1.37835156e+00, -1.56299718e+00,\n",
       "       -2.23057963e+00, -1.30524931e+00, -1.08201353e+00, -1.23718060e+00,\n",
       "       -2.12802804e-01, -3.41324589e-01, -1.62876898e+00, -1.52352570e+00,\n",
       "       -4.76639518e-01, -1.46539137e+00, -1.78546157e+00, -1.91648103e+00,\n",
       "       -1.06751899e-01, -1.63546161e+00, -2.18355034e+00, -1.26785285e+00,\n",
       "       -1.31655107e+00, -1.20108578e+00, -1.61341818e+00, -2.00826864e+00,\n",
       "       -1.48839197e+00, -1.67868988e+00, -3.94918212e-01, -5.47815040e-01,\n",
       "       -1.66707951e+00, -1.72179170e+00, -1.69117693e+00, -1.60592232e+00,\n",
       "       -1.75713347e+00, -2.48719434e+00, -7.06453076e-02, -1.55853927e+00,\n",
       "       -1.50219666e+00, -1.60538460e+00, -1.36265937e+00, -1.68495595e+00,\n",
       "       -1.62747521e+00, -1.26712491e+00, -2.02830934e+00, -1.65565922e+00,\n",
       "       -1.53467887e+00, -1.62656321e+00, -1.29506551e+00, -1.60835910e+00,\n",
       "       -1.66150835e+00, -1.60852020e+00, -9.70916881e-01, -1.84334524e-01,\n",
       "       -1.76923113e+00, -2.14091986e+00, -1.43305396e+00, -1.59032287e+00,\n",
       "       -1.62072989e+00, -1.64331852e+00, -1.67765850e+00, -6.40291108e-01,\n",
       "       -6.87537488e-01, -2.84678091e-01, -1.60137533e+00, -1.77927279e+00,\n",
       "       -1.77172368e+00, -4.99684327e-01, -4.74268095e-01, -8.62241836e-01,\n",
       "       -1.50417832e+00, -1.37363461e+00, -5.14376671e-02, -1.96399364e+00,\n",
       "       -1.60908018e+00, -1.95886071e+00, -1.42082635e+00, -3.82551176e+00,\n",
       "       -1.46459684e+00, -2.29861366e+00, -1.45082187e+00, -1.40486117e+00,\n",
       "       -2.66941276e-01, -1.71064404e+00, -1.36158523e+00, -1.59148987e+00,\n",
       "       -1.46101444e+00, -1.90387531e+00, -6.30253618e-01, -2.80865943e+00,\n",
       "       -8.26081727e-01, -3.69683312e-01, -5.13627086e-01, -1.65696816e+00,\n",
       "       -5.85852313e-01, -1.02481651e+00, -1.67731896e+00, -9.96976574e-01,\n",
       "       -2.18941455e+00, -4.00224797e-01, -1.45045132e+00, -1.30057653e+00,\n",
       "       -1.28549434e+00, -1.37238684e+00, -1.28976169e+00, -2.68441132e-01])"
      ]
     },
     "execution_count": 58,
     "metadata": {},
     "output_type": "execute_result"
    }
   ],
   "source": [
    "gm.score_samples(X)"
   ]
  },
  {
   "cell_type": "markdown",
   "id": "92b5e876",
   "metadata": {},
   "source": [
    "### Anomaly Detection Using Gaussain Mixtures"
   ]
  },
  {
   "cell_type": "code",
   "execution_count": 59,
   "id": "6aac05af",
   "metadata": {},
   "outputs": [],
   "source": [
    "densities = gm.score_samples(X)\n",
    "density_threshold = np.percentile(densities, 4)\n",
    "anomalies = X[densities < density_threshold]"
   ]
  },
  {
   "cell_type": "code",
   "execution_count": null,
   "id": "adda29e0",
   "metadata": {},
   "outputs": [],
   "source": []
  }
 ],
 "metadata": {
  "kernelspec": {
   "display_name": "Python 3 (ipykernel)",
   "language": "python",
   "name": "python3"
  },
  "language_info": {
   "codemirror_mode": {
    "name": "ipython",
    "version": 3
   },
   "file_extension": ".py",
   "mimetype": "text/x-python",
   "name": "python",
   "nbconvert_exporter": "python",
   "pygments_lexer": "ipython3",
   "version": "3.9.5"
  }
 },
 "nbformat": 4,
 "nbformat_minor": 5
}
